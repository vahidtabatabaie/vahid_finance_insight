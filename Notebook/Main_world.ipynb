{
  "nbformat": 4,
  "nbformat_minor": 0,
  "metadata": {
    "colab": {
      "name": "Main_world.ipynb",
      "provenance": [],
      "collapsed_sections": [
        "ccYLZsaM-i_P",
        "2UDFE8rR-qLU"
      ],
      "authorship_tag": "ABX9TyP+UKptF1eogbtwQsY2OB/A",
      "include_colab_link": true
    },
    "kernelspec": {
      "name": "python3",
      "display_name": "Python 3"
    }
  },
  "cells": [
    {
      "cell_type": "markdown",
      "metadata": {
        "id": "view-in-github",
        "colab_type": "text"
      },
      "source": [
        "<a href=\"https://colab.research.google.com/github/vahidtabatabaie/vahid_finance_insight/blob/master/Main_world.ipynb\" target=\"_parent\"><img src=\"https://colab.research.google.com/assets/colab-badge.svg\" alt=\"Open In Colab\"/></a>"
      ]
    },
    {
      "cell_type": "markdown",
      "metadata": {
        "id": "CUsojhsYk5z2",
        "colab_type": "text"
      },
      "source": [
        "Here is the link for document for Yahoo_fin package: [yahoo_fin documentation](http://theautomatic.net/yahoo_fin-documentation/)"
      ]
    },
    {
      "cell_type": "markdown",
      "metadata": {
        "id": "ccYLZsaM-i_P",
        "colab_type": "text"
      },
      "source": [
        "# Initiating the notebook"
      ]
    },
    {
      "cell_type": "code",
      "metadata": {
        "id": "7KiQcIYsibo7",
        "colab_type": "code",
        "outputId": "30f93bb9-1a46-4228-ec4e-2cbbac6395b9",
        "colab": {
          "base_uri": "https://localhost:8080/",
          "height": 649
        }
      },
      "source": [
        "# install required package\n",
        "!pip install yahoo_fin\n",
        "!pip install requests\n",
        "!pip install requests_html\n",
        "!pip install mplfinance\n",
        "\n",
        "# import stock_info module from yahoo_fin\n",
        "from yahoo_fin import stock_info as si\n",
        "import mplfinance as mpf"
      ],
      "execution_count": 0,
      "outputs": [
        {
          "output_type": "stream",
          "text": [
            "Requirement already satisfied: yahoo_fin in /usr/local/lib/python3.6/dist-packages (0.8.5)\n",
            "Requirement already satisfied: requests in /usr/local/lib/python3.6/dist-packages (2.23.0)\n",
            "Requirement already satisfied: urllib3!=1.25.0,!=1.25.1,<1.26,>=1.21.1 in /usr/local/lib/python3.6/dist-packages (from requests) (1.25.9)\n",
            "Requirement already satisfied: certifi>=2017.4.17 in /usr/local/lib/python3.6/dist-packages (from requests) (2020.4.5.1)\n",
            "Requirement already satisfied: chardet<4,>=3.0.2 in /usr/local/lib/python3.6/dist-packages (from requests) (3.0.4)\n",
            "Requirement already satisfied: idna<3,>=2.5 in /usr/local/lib/python3.6/dist-packages (from requests) (2.9)\n",
            "Requirement already satisfied: requests_html in /usr/local/lib/python3.6/dist-packages (0.10.0)\n",
            "Requirement already satisfied: fake-useragent in /usr/local/lib/python3.6/dist-packages (from requests_html) (0.1.11)\n",
            "Requirement already satisfied: pyquery in /usr/local/lib/python3.6/dist-packages (from requests_html) (1.4.1)\n",
            "Requirement already satisfied: bs4 in /usr/local/lib/python3.6/dist-packages (from requests_html) (0.0.1)\n",
            "Requirement already satisfied: pyppeteer>=0.0.14 in /usr/local/lib/python3.6/dist-packages (from requests_html) (0.2.2)\n",
            "Requirement already satisfied: parse in /usr/local/lib/python3.6/dist-packages (from requests_html) (1.15.0)\n",
            "Requirement already satisfied: requests in /usr/local/lib/python3.6/dist-packages (from requests_html) (2.23.0)\n",
            "Requirement already satisfied: w3lib in /usr/local/lib/python3.6/dist-packages (from requests_html) (1.21.0)\n",
            "Requirement already satisfied: cssselect>0.7.9 in /usr/local/lib/python3.6/dist-packages (from pyquery->requests_html) (1.1.0)\n",
            "Requirement already satisfied: lxml>=2.1 in /usr/local/lib/python3.6/dist-packages (from pyquery->requests_html) (4.2.6)\n",
            "Requirement already satisfied: beautifulsoup4 in /usr/local/lib/python3.6/dist-packages (from bs4->requests_html) (4.6.3)\n",
            "Requirement already satisfied: tqdm<5.0.0,>=4.42.1 in /usr/local/lib/python3.6/dist-packages (from pyppeteer>=0.0.14->requests_html) (4.46.0)\n",
            "Requirement already satisfied: urllib3<2.0.0,>=1.25.8 in /usr/local/lib/python3.6/dist-packages (from pyppeteer>=0.0.14->requests_html) (1.25.9)\n",
            "Requirement already satisfied: appdirs<2.0.0,>=1.4.3 in /usr/local/lib/python3.6/dist-packages (from pyppeteer>=0.0.14->requests_html) (1.4.4)\n",
            "Requirement already satisfied: websockets<9.0,>=8.1 in /usr/local/lib/python3.6/dist-packages (from pyppeteer>=0.0.14->requests_html) (8.1)\n",
            "Requirement already satisfied: pyee<8.0.0,>=7.0.1 in /usr/local/lib/python3.6/dist-packages (from pyppeteer>=0.0.14->requests_html) (7.0.2)\n",
            "Requirement already satisfied: idna<3,>=2.5 in /usr/local/lib/python3.6/dist-packages (from requests->requests_html) (2.9)\n",
            "Requirement already satisfied: chardet<4,>=3.0.2 in /usr/local/lib/python3.6/dist-packages (from requests->requests_html) (3.0.4)\n",
            "Requirement already satisfied: certifi>=2017.4.17 in /usr/local/lib/python3.6/dist-packages (from requests->requests_html) (2020.4.5.1)\n",
            "Requirement already satisfied: six>=1.4.1 in /usr/local/lib/python3.6/dist-packages (from w3lib->requests_html) (1.12.0)\n",
            "Requirement already satisfied: mplfinance in /usr/local/lib/python3.6/dist-packages (0.12.4a0)\n",
            "Requirement already satisfied: pandas in /usr/local/lib/python3.6/dist-packages (from mplfinance) (1.0.3)\n",
            "Requirement already satisfied: matplotlib in /usr/local/lib/python3.6/dist-packages (from mplfinance) (3.2.1)\n",
            "Requirement already satisfied: python-dateutil>=2.6.1 in /usr/local/lib/python3.6/dist-packages (from pandas->mplfinance) (2.8.1)\n",
            "Requirement already satisfied: pytz>=2017.2 in /usr/local/lib/python3.6/dist-packages (from pandas->mplfinance) (2018.9)\n",
            "Requirement already satisfied: numpy>=1.13.3 in /usr/local/lib/python3.6/dist-packages (from pandas->mplfinance) (1.18.4)\n",
            "Requirement already satisfied: cycler>=0.10 in /usr/local/lib/python3.6/dist-packages (from matplotlib->mplfinance) (0.10.0)\n",
            "Requirement already satisfied: kiwisolver>=1.0.1 in /usr/local/lib/python3.6/dist-packages (from matplotlib->mplfinance) (1.2.0)\n",
            "Requirement already satisfied: pyparsing!=2.0.4,!=2.1.2,!=2.1.6,>=2.0.1 in /usr/local/lib/python3.6/dist-packages (from matplotlib->mplfinance) (2.4.7)\n",
            "Requirement already satisfied: six>=1.5 in /usr/local/lib/python3.6/dist-packages (from python-dateutil>=2.6.1->pandas->mplfinance) (1.12.0)\n"
          ],
          "name": "stdout"
        }
      ]
    },
    {
      "cell_type": "markdown",
      "metadata": {
        "id": "2UDFE8rR-qLU",
        "colab_type": "text"
      },
      "source": [
        "# Testing the API's"
      ]
    },
    {
      "cell_type": "code",
      "metadata": {
        "id": "KeBAHzw7iipt",
        "colab_type": "code",
        "outputId": "feb75c17-b69f-4fe6-bda2-f4e53eaf2539",
        "colab": {
          "base_uri": "https://localhost:8080/",
          "height": 34
        }
      },
      "source": [
        "# get live price of Apple\n",
        "si.get_live_price(\"aapl\")\n",
        " \n",
        "# # or Amazon\n",
        "# si.get_live_price(\"amzn\")\n",
        " \n",
        "# # or any other ticker\n",
        "# si.get_live_price(ticker)"
      ],
      "execution_count": 0,
      "outputs": [
        {
          "output_type": "execute_result",
          "data": {
            "text/plain": [
              "311.4100036621094"
            ]
          },
          "metadata": {
            "tags": []
          },
          "execution_count": 2
        }
      ]
    },
    {
      "cell_type": "code",
      "metadata": {
        "id": "SX9jxMG_iouw",
        "colab_type": "code",
        "outputId": "1fc2ecb4-16b8-43e0-dcc7-61db584022d6",
        "colab": {
          "base_uri": "https://localhost:8080/",
          "height": 483
        }
      },
      "source": [
        "# get most active stocks on the day\n",
        "#si.get_day_most_active()\n",
        " \n",
        "# # get biggest gainers\n",
        "#si.get_day_gainers()\n",
        " \n",
        "# # get worst performers\n",
        "# si.get_day_losers()\n",
        "si.get_balance_sheet(\"msft\")"
      ],
      "execution_count": 0,
      "outputs": [
        {
          "output_type": "execute_result",
          "data": {
            "text/html": [
              "<div>\n",
              "<style scoped>\n",
              "    .dataframe tbody tr th:only-of-type {\n",
              "        vertical-align: middle;\n",
              "    }\n",
              "\n",
              "    .dataframe tbody tr th {\n",
              "        vertical-align: top;\n",
              "    }\n",
              "\n",
              "    .dataframe thead th {\n",
              "        text-align: right;\n",
              "    }\n",
              "</style>\n",
              "<table border=\"1\" class=\"dataframe\">\n",
              "  <thead>\n",
              "    <tr style=\"text-align: right;\">\n",
              "      <th></th>\n",
              "      <th>Breakdown</th>\n",
              "      <th>6/30/2019</th>\n",
              "      <th>6/30/2018</th>\n",
              "      <th>6/30/2017</th>\n",
              "      <th>6/30/2016</th>\n",
              "    </tr>\n",
              "  </thead>\n",
              "  <tbody>\n",
              "    <tr>\n",
              "      <th>0</th>\n",
              "      <td>Total Assets</td>\n",
              "      <td>286556000</td>\n",
              "      <td>258848000</td>\n",
              "      <td>241086000</td>\n",
              "      <td>193694000</td>\n",
              "    </tr>\n",
              "    <tr>\n",
              "      <th>1</th>\n",
              "      <td>Total Liabilities Net Minority Interest</td>\n",
              "      <td>184226000</td>\n",
              "      <td>176130000</td>\n",
              "      <td>168692000</td>\n",
              "      <td>121697000</td>\n",
              "    </tr>\n",
              "    <tr>\n",
              "      <th>2</th>\n",
              "      <td>Total Equity Gross Minority Interest</td>\n",
              "      <td>102330000</td>\n",
              "      <td>82718000</td>\n",
              "      <td>72394000</td>\n",
              "      <td>71997000</td>\n",
              "    </tr>\n",
              "    <tr>\n",
              "      <th>3</th>\n",
              "      <td>Total Capitalization</td>\n",
              "      <td>168992000</td>\n",
              "      <td>154960000</td>\n",
              "      <td>148467000</td>\n",
              "      <td>112780000</td>\n",
              "    </tr>\n",
              "    <tr>\n",
              "      <th>4</th>\n",
              "      <td>Common Stock Equity</td>\n",
              "      <td>102330000</td>\n",
              "      <td>82718000</td>\n",
              "      <td>72394000</td>\n",
              "      <td>71997000</td>\n",
              "    </tr>\n",
              "    <tr>\n",
              "      <th>5</th>\n",
              "      <td>Capital Lease Obligations</td>\n",
              "      <td>6188000</td>\n",
              "      <td>5568000</td>\n",
              "      <td>-</td>\n",
              "      <td>-</td>\n",
              "    </tr>\n",
              "    <tr>\n",
              "      <th>6</th>\n",
              "      <td>Net Tangible Assets</td>\n",
              "      <td>52554000</td>\n",
              "      <td>38982000</td>\n",
              "      <td>27166000</td>\n",
              "      <td>50392000</td>\n",
              "    </tr>\n",
              "    <tr>\n",
              "      <th>7</th>\n",
              "      <td>Working Capital</td>\n",
              "      <td>106132000</td>\n",
              "      <td>111174000</td>\n",
              "      <td>95324000</td>\n",
              "      <td>80303000</td>\n",
              "    </tr>\n",
              "    <tr>\n",
              "      <th>8</th>\n",
              "      <td>Invested Capital</td>\n",
              "      <td>174508000</td>\n",
              "      <td>158958000</td>\n",
              "      <td>158588000</td>\n",
              "      <td>125684000</td>\n",
              "    </tr>\n",
              "    <tr>\n",
              "      <th>9</th>\n",
              "      <td>Tangible Book Value</td>\n",
              "      <td>52554000</td>\n",
              "      <td>38982000</td>\n",
              "      <td>27166000</td>\n",
              "      <td>50392000</td>\n",
              "    </tr>\n",
              "    <tr>\n",
              "      <th>10</th>\n",
              "      <td>Total Debt</td>\n",
              "      <td>78366000</td>\n",
              "      <td>81808000</td>\n",
              "      <td>86194000</td>\n",
              "      <td>53687000</td>\n",
              "    </tr>\n",
              "    <tr>\n",
              "      <th>11</th>\n",
              "      <td>Net Debt</td>\n",
              "      <td>60822000</td>\n",
              "      <td>64294000</td>\n",
              "      <td>78531000</td>\n",
              "      <td>47177000</td>\n",
              "    </tr>\n",
              "    <tr>\n",
              "      <th>12</th>\n",
              "      <td>Share Issued</td>\n",
              "      <td>7643000</td>\n",
              "      <td>7677000</td>\n",
              "      <td>7708000</td>\n",
              "      <td>7808000</td>\n",
              "    </tr>\n",
              "    <tr>\n",
              "      <th>13</th>\n",
              "      <td>Ordinary Shares Number</td>\n",
              "      <td>7643000</td>\n",
              "      <td>7677000</td>\n",
              "      <td>7708000</td>\n",
              "      <td>7808000</td>\n",
              "    </tr>\n",
              "  </tbody>\n",
              "</table>\n",
              "</div>"
            ],
            "text/plain": [
              "                                  Breakdown  6/30/2019  ...  6/30/2017  6/30/2016\n",
              "0                              Total Assets  286556000  ...  241086000  193694000\n",
              "1   Total Liabilities Net Minority Interest  184226000  ...  168692000  121697000\n",
              "2      Total Equity Gross Minority Interest  102330000  ...   72394000   71997000\n",
              "3                      Total Capitalization  168992000  ...  148467000  112780000\n",
              "4                       Common Stock Equity  102330000  ...   72394000   71997000\n",
              "5                 Capital Lease Obligations    6188000  ...          -          -\n",
              "6                       Net Tangible Assets   52554000  ...   27166000   50392000\n",
              "7                           Working Capital  106132000  ...   95324000   80303000\n",
              "8                          Invested Capital  174508000  ...  158588000  125684000\n",
              "9                       Tangible Book Value   52554000  ...   27166000   50392000\n",
              "10                               Total Debt   78366000  ...   86194000   53687000\n",
              "11                                 Net Debt   60822000  ...   78531000   47177000\n",
              "12                             Share Issued    7643000  ...    7708000    7808000\n",
              "13                   Ordinary Shares Number    7643000  ...    7708000    7808000\n",
              "\n",
              "[14 rows x 5 columns]"
            ]
          },
          "metadata": {
            "tags": []
          },
          "execution_count": 13
        }
      ]
    },
    {
      "cell_type": "markdown",
      "metadata": {
        "id": "94y9tstW-vmZ",
        "colab_type": "text"
      },
      "source": [
        "# Getiting rates of MICROSOFT"
      ]
    },
    {
      "cell_type": "code",
      "metadata": {
        "id": "PJKnbcJai9eY",
        "colab_type": "code",
        "colab": {}
      },
      "source": [
        "msft_data = si.get_data('msft')"
      ],
      "execution_count": 0,
      "outputs": []
    },
    {
      "cell_type": "code",
      "metadata": {
        "id": "ADmSsTj0kPoA",
        "colab_type": "code",
        "outputId": "ee1abd3c-3104-4187-ee73-855bea33e015",
        "colab": {
          "base_uri": "https://localhost:8080/",
          "height": 504
        }
      },
      "source": [
        "msft_data.plot(y='open', figsize=(16,9));"
      ],
      "execution_count": 0,
      "outputs": [
        {
          "output_type": "display_data",
          "data": {
            "image/png": "[encoded data removed]",
            "text/plain": [
              "<Figure size 1152x648 with 1 Axes>"
            ]
          },
          "metadata": {
            "tags": [],
            "needs_background": "light"
          }
        }
      ]
    },
    {
      "cell_type": "code",
      "metadata": {
        "id": "dlhjjwYkkS6M",
        "colab_type": "code",
        "outputId": "56f34dd4-421d-47bd-bdfc-6f1f1d1294e9",
        "colab": {
          "base_uri": "https://localhost:8080/",
          "height": 500
        }
      },
      "source": [
        "EADSF_data = si.get_data('EADSF')\n",
        "EADSF_data.plot(y='open', figsize=(16,9));"
      ],
      "execution_count": 0,
      "outputs": [
        {
          "output_type": "display_data",
          "data": {
            "image/png": "[encoded data removed]",
            "text/plain": [
              "<Figure size 1152x648 with 1 Axes>"
            ]
          },
          "metadata": {
            "tags": [],
            "needs_background": "light"
          }
        }
      ]
    },
    {
      "cell_type": "code",
      "metadata": {
        "id": "lEPuBo2Bkz0-",
        "colab_type": "code",
        "outputId": "9fffb098-4fc3-4151-b95a-86e04db85454",
        "colab": {
          "base_uri": "https://localhost:8080/",
          "height": 204
        }
      },
      "source": [
        "EADSF_data.head(5)"
      ],
      "execution_count": 0,
      "outputs": [
        {
          "output_type": "execute_result",
          "data": {
            "text/html": [
              "<div>\n",
              "<style scoped>\n",
              "    .dataframe tbody tr th:only-of-type {\n",
              "        vertical-align: middle;\n",
              "    }\n",
              "\n",
              "    .dataframe tbody tr th {\n",
              "        vertical-align: top;\n",
              "    }\n",
              "\n",
              "    .dataframe thead th {\n",
              "        text-align: right;\n",
              "    }\n",
              "</style>\n",
              "<table border=\"1\" class=\"dataframe\">\n",
              "  <thead>\n",
              "    <tr style=\"text-align: right;\">\n",
              "      <th></th>\n",
              "      <th>open</th>\n",
              "      <th>high</th>\n",
              "      <th>low</th>\n",
              "      <th>close</th>\n",
              "      <th>adjclose</th>\n",
              "      <th>volume</th>\n",
              "      <th>ticker</th>\n",
              "    </tr>\n",
              "  </thead>\n",
              "  <tbody>\n",
              "    <tr>\n",
              "      <th>2009-02-13</th>\n",
              "      <td>17.299999</td>\n",
              "      <td>17.299999</td>\n",
              "      <td>17.299999</td>\n",
              "      <td>17.299999</td>\n",
              "      <td>14.658900</td>\n",
              "      <td>100</td>\n",
              "      <td>EADSF</td>\n",
              "    </tr>\n",
              "    <tr>\n",
              "      <th>2009-02-17</th>\n",
              "      <td>16.500000</td>\n",
              "      <td>16.500000</td>\n",
              "      <td>16.450001</td>\n",
              "      <td>16.450001</td>\n",
              "      <td>13.938664</td>\n",
              "      <td>300</td>\n",
              "      <td>EADSF</td>\n",
              "    </tr>\n",
              "    <tr>\n",
              "      <th>2009-02-18</th>\n",
              "      <td>16.500000</td>\n",
              "      <td>16.500000</td>\n",
              "      <td>16.150000</td>\n",
              "      <td>16.150000</td>\n",
              "      <td>13.684464</td>\n",
              "      <td>2300</td>\n",
              "      <td>EADSF</td>\n",
              "    </tr>\n",
              "    <tr>\n",
              "      <th>2009-02-19</th>\n",
              "      <td>16.150000</td>\n",
              "      <td>16.150000</td>\n",
              "      <td>16.150000</td>\n",
              "      <td>16.150000</td>\n",
              "      <td>13.684464</td>\n",
              "      <td>0</td>\n",
              "      <td>EADSF</td>\n",
              "    </tr>\n",
              "    <tr>\n",
              "      <th>2009-02-20</th>\n",
              "      <td>16.150000</td>\n",
              "      <td>16.150000</td>\n",
              "      <td>16.150000</td>\n",
              "      <td>16.150000</td>\n",
              "      <td>13.684464</td>\n",
              "      <td>0</td>\n",
              "      <td>EADSF</td>\n",
              "    </tr>\n",
              "  </tbody>\n",
              "</table>\n",
              "</div>"
            ],
            "text/plain": [
              "                 open       high        low  ...   adjclose  volume  ticker\n",
              "2009-02-13  17.299999  17.299999  17.299999  ...  14.658900     100   EADSF\n",
              "2009-02-17  16.500000  16.500000  16.450001  ...  13.938664     300   EADSF\n",
              "2009-02-18  16.500000  16.500000  16.150000  ...  13.684464    2300   EADSF\n",
              "2009-02-19  16.150000  16.150000  16.150000  ...  13.684464       0   EADSF\n",
              "2009-02-20  16.150000  16.150000  16.150000  ...  13.684464       0   EADSF\n",
              "\n",
              "[5 rows x 7 columns]"
            ]
          },
          "metadata": {
            "tags": []
          },
          "execution_count": 7
        }
      ]
    },
    {
      "cell_type": "code",
      "metadata": {
        "id": "ZMYhCNA7nk3g",
        "colab_type": "code",
        "colab": {}
      },
      "source": [
        "# https://plotly.com/python/candlestick-charts/\n",
        "\n",
        "import plotly.graph_objects as go\n",
        "\n",
        "import pandas as pd\n",
        "from datetime import datetime\n",
        "\n",
        "df = pd.read_csv('https://raw.githubusercontent.com/plotly/datasets/master/finance-charts-apple.csv')\n",
        "\n",
        "fig = go.Figure(data=[go.Candlestick(x=df['Date'],\n",
        "                open=df['AAPL.Open'],\n",
        "                high=df['AAPL.High'],\n",
        "                low=df['AAPL.Low'],\n",
        "                close=df['AAPL.Close'])])\n"
      ],
      "execution_count": 0,
      "outputs": []
    },
    {
      "cell_type": "markdown",
      "metadata": {
        "id": "e-uQD39c3u4f",
        "colab_type": "text"
      },
      "source": [
        "https://towardsdatascience.com/trading-toolbox-03-ohlc-charts-95b48bb9d748\n",
        "\n"
      ]
    },
    {
      "cell_type": "markdown",
      "metadata": {
        "id": "tn5n_rjSpDu2",
        "colab_type": "text"
      },
      "source": [
        "https://pypi.org/project/googlefinance/"
      ]
    },
    {
      "cell_type": "markdown",
      "metadata": {
        "id": "UyQZ_Z05sQSu",
        "colab_type": "text"
      },
      "source": [
        "https://pypi.org/project/yfinance/#description"
      ]
    },
    {
      "cell_type": "markdown",
      "metadata": {
        "id": "S4l3qajJsR2E",
        "colab_type": "text"
      },
      "source": [
        "https://aroussi.com/post/python-yahoo-finance"
      ]
    }
  ]
}