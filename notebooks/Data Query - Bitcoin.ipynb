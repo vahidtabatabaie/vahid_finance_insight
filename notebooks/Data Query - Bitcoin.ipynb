{
 "cells": [
  {
   "cell_type": "code",
   "execution_count": 1,
   "id": "frank-store",
   "metadata": {},
   "outputs": [],
   "source": [
    "import pandas as pd\n",
    "import numpy as np"
   ]
  },
  {
   "cell_type": "code",
   "execution_count": 2,
   "id": "rocky-turning",
   "metadata": {},
   "outputs": [],
   "source": [
    "#Import the requests library\n",
    "import requests"
   ]
  },
  {
   "cell_type": "code",
   "execution_count": null,
   "id": "appreciated-sending",
   "metadata": {},
   "outputs": [],
   "source": [
    "#Link: https://towardsdatascience.com/web-scraping-crypto-prices-with-python-41072ea5b5bf"
   ]
  },
  {
   "cell_type": "code",
   "execution_count": null,
   "id": "unusual-planning",
   "metadata": {},
   "outputs": [],
   "source": [
    "https://p.nomics.com/cryptocurrency-bitcoin-api"
   ]
  }
 ],
 "metadata": {
  "kernelspec": {
   "display_name": "Python 3",
   "language": "python",
   "name": "python3"
  },
  "language_info": {
   "codemirror_mode": {
    "name": "ipython",
    "version": 3
   },
   "file_extension": ".py",
   "mimetype": "text/x-python",
   "name": "python",
   "nbconvert_exporter": "python",
   "pygments_lexer": "ipython3",
   "version": "3.9.1"
  }
 },
 "nbformat": 4,
 "nbformat_minor": 5
}
