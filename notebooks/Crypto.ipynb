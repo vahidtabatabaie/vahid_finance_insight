{
 "cells": [
  {
   "cell_type": "code",
   "execution_count": 1,
   "id": "0abcea31",
   "metadata": {
    "ExecuteTime": {
     "end_time": "2021-08-03T07:35:07.587658Z",
     "start_time": "2021-08-03T07:35:07.051880Z"
    }
   },
   "outputs": [
    {
     "data": {
      "text/plain": [
       "{'bids': [{'price': '38977.69',\n",
       "   'amount': '0.002563',\n",
       "   'timestamp': '1627976101'},\n",
       "  {'price': '38893.11', 'amount': '0.00256858', 'timestamp': '1627976101'},\n",
       "  {'price': '38619.91', 'amount': '0.002589', 'timestamp': '1627976101'},\n",
       "  {'price': '38616.93', 'amount': '0.0245551', 'timestamp': '1627976101'},\n",
       "  {'price': '38616.92', 'amount': '1', 'timestamp': '1627976101'},\n",
       "  {'price': '38616.36', 'amount': '0.0258881', 'timestamp': '1627976101'},\n",
       "  {'price': '38609.87', 'amount': '0.04', 'timestamp': '1627976101'},\n",
       "  {'price': '38609.56', 'amount': '0.2588767', 'timestamp': '1627976101'},\n",
       "  {'price': '38606.53', 'amount': '0.2', 'timestamp': '1627976101'},\n",
       "  {'price': '38606.52', 'amount': '0.2588922', 'timestamp': '1627976101'},\n",
       "  {'price': '38603.10', 'amount': '0.28', 'timestamp': '1627976101'},\n",
       "  {'price': '38603.00', 'amount': '0.1451', 'timestamp': '1627976101'},\n",
       "  {'price': '38602.90', 'amount': '0.2589156', 'timestamp': '1627976101'},\n",
       "  {'price': '35000.00', 'amount': '0.12485', 'timestamp': '1627976101'},\n",
       "  {'price': '7428.00', 'amount': '5', 'timestamp': '1627976101'},\n",
       "  {'price': '3633.00', 'amount': '25', 'timestamp': '1627976101'}],\n",
       " 'asks': []}"
      ]
     },
     "execution_count": 1,
     "metadata": {},
     "output_type": "execute_result"
    }
   ],
   "source": [
    "#!pip install gemini-python\n",
    "import gemini\n",
    "r = gemini.PublicClient(sandbox=True)\n",
    "r.get_current_order_book(\"btcusd\")"
   ]
  },
  {
   "cell_type": "code",
   "execution_count": 2,
   "id": "99fd2931",
   "metadata": {
    "ExecuteTime": {
     "end_time": "2021-08-03T07:35:08.070055Z",
     "start_time": "2021-08-03T07:35:07.610074Z"
    }
   },
   "outputs": [
    {
     "data": {
      "text/plain": [
       "['btcusd',\n",
       " 'btcgusd',\n",
       " 'btcdai',\n",
       " 'btcgbp',\n",
       " 'btceur',\n",
       " 'btcsgd',\n",
       " 'ethbtc',\n",
       " 'ethusd',\n",
       " 'ethgusd',\n",
       " 'ethgbp',\n",
       " 'etheur',\n",
       " 'ethsgd',\n",
       " 'ethdai',\n",
       " 'bchusd',\n",
       " 'bchbtc',\n",
       " 'bcheth',\n",
       " 'ltcusd',\n",
       " 'ltcbtc',\n",
       " 'ltceth',\n",
       " 'ltcbch',\n",
       " 'zecusd',\n",
       " 'zecbtc',\n",
       " 'zeceth',\n",
       " 'zecbch',\n",
       " 'zecltc',\n",
       " 'batusd',\n",
       " 'batbtc',\n",
       " 'bateth',\n",
       " 'linkusd',\n",
       " 'linkbtc',\n",
       " 'linketh',\n",
       " 'daiusd',\n",
       " 'oxtusd',\n",
       " 'oxtbtc',\n",
       " 'oxteth',\n",
       " 'filusd',\n",
       " 'ampusd',\n",
       " 'paxgusd',\n",
       " 'compusd',\n",
       " 'mkrusd',\n",
       " 'zrxusd',\n",
       " 'kncusd',\n",
       " 'storjusd',\n",
       " 'manausd',\n",
       " 'aaveusd',\n",
       " 'snxusd',\n",
       " 'yfiusd',\n",
       " 'umausd',\n",
       " 'balusd',\n",
       " 'crvusd',\n",
       " 'renusd',\n",
       " 'uniusd',\n",
       " 'enjusd',\n",
       " 'bntusd',\n",
       " '1inchusd',\n",
       " 'sklusd',\n",
       " 'grtusd',\n",
       " 'lrcusd',\n",
       " 'sandusd',\n",
       " 'cubeusd',\n",
       " 'bondusd',\n",
       " 'sushiusd',\n",
       " 'dogeusd',\n",
       " 'mirusd',\n",
       " 'ctxusd',\n",
       " 'alcxusd',\n",
       " 'ftmusd',\n",
       " 'ankrusd',\n",
       " 'xtzusd',\n",
       " 'gusdusd']"
      ]
     },
     "execution_count": 2,
     "metadata": {},
     "output_type": "execute_result"
    }
   ],
   "source": [
    "r.symbols()"
   ]
  },
  {
   "cell_type": "code",
   "execution_count": null,
   "id": "a84edd55",
   "metadata": {},
   "outputs": [],
   "source": []
  }
 ],
 "metadata": {
  "kernelspec": {
   "display_name": "Python 3 (ipykernel)",
   "language": "python",
   "name": "python3"
  },
  "language_info": {
   "codemirror_mode": {
    "name": "ipython",
    "version": 3
   },
   "file_extension": ".py",
   "mimetype": "text/x-python",
   "name": "python",
   "nbconvert_exporter": "python",
   "pygments_lexer": "ipython3",
   "version": "3.9.6"
  },
  "latex_envs": {
   "LaTeX_envs_menu_present": true,
   "autoclose": false,
   "autocomplete": true,
   "bibliofile": "biblio.bib",
   "cite_by": "apalike",
   "current_citInitial": 1,
   "eqLabelWithNumbers": true,
   "eqNumInitial": 1,
   "hotkeys": {
    "equation": "Ctrl-E",
    "itemize": "Ctrl-I"
   },
   "labels_anchors": false,
   "latex_user_defs": false,
   "report_style_numbering": false,
   "user_envs_cfg": false
  },
  "toc": {
   "base_numbering": 1,
   "nav_menu": {},
   "number_sections": true,
   "sideBar": true,
   "skip_h1_title": false,
   "title_cell": "Table of Contents",
   "title_sidebar": "Contents",
   "toc_cell": false,
   "toc_position": {},
   "toc_section_display": true,
   "toc_window_display": false
  },
  "varInspector": {
   "cols": {
    "lenName": 16,
    "lenType": 16,
    "lenVar": 40
   },
   "kernels_config": {
    "python": {
     "delete_cmd_postfix": "",
     "delete_cmd_prefix": "del ",
     "library": "var_list.py",
     "varRefreshCmd": "print(var_dic_list())"
    },
    "r": {
     "delete_cmd_postfix": ") ",
     "delete_cmd_prefix": "rm(",
     "library": "var_list.r",
     "varRefreshCmd": "cat(var_dic_list()) "
    }
   },
   "types_to_exclude": [
    "module",
    "function",
    "builtin_function_or_method",
    "instance",
    "_Feature"
   ],
   "window_display": false
  }
 },
 "nbformat": 4,
 "nbformat_minor": 5
}
