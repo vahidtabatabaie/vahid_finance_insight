{
 "cells": [
  {
   "cell_type": "markdown",
   "metadata": {
    "colab_type": "text",
    "id": "view-in-github"
   },
   "source": [
    "<a href=\"https://colab.research.google.com/github/vahidtabatabaie/vahid_finance_insight/blob/master/Notebook/Main_world.ipynb\" target=\"_parent\"><img src=\"https://colab.research.google.com/assets/colab-badge.svg\" alt=\"Open In Colab\"/></a>"
   ]
  },
  {
   "cell_type": "markdown",
   "metadata": {
    "id": "CUsojhsYk5z2"
   },
   "source": [
    "Here is the link for document for Yahoo_fin package: [yahoo_fin documentation](http://theautomatic.net/yahoo_fin-documentation/)"
   ]
  },
  {
   "cell_type": "markdown",
   "metadata": {
    "id": "ccYLZsaM-i_P"
   },
   "source": [
    "# Initiating the notebook"
   ]
  },
  {
   "cell_type": "code",
   "execution_count": 39,
   "metadata": {
    "colab": {
     "base_uri": "https://localhost:8080/"
    },
    "id": "7KiQcIYsibo7",
    "outputId": "a277e021-fa80-47e0-a30f-b3984ceee540"
   },
   "outputs": [],
   "source": [
    "# import and (if needed) install required package\n",
    "\n",
    "#!pip install requests\n",
    "#!pip install requests_html\n",
    "#!pip install mplfinance\n",
    "\n",
    "try:\n",
    "  import pandas as pd\n",
    "except:\n",
    "  !pip install pandas\n",
    "  import pandas as pd\n",
    "\n",
    "try:\n",
    "  from yahoo_fin import stock_info as si\n",
    "except:\n",
    "  !pip install yahoo_fin\n",
    "  from yahoo_fin import stock_info as si\n",
    "\n",
    "try:\n",
    "  import yfinance\n",
    "except:\n",
    "  !pip install yfinance\n",
    "  import yfinance\n",
    "\n",
    "try:\n",
    "  import plotly.graph_objects as go\n",
    "except:\n",
    "  !pip install plotly\n",
    "  import plotly.graph_objects as go\n",
    "    \n",
    "try:\n",
    "    from datetime import datetime\n",
    "except:\n",
    "    !pip install datetime\n",
    "    from datetime import datetime"
   ]
  },
  {
   "cell_type": "markdown",
   "metadata": {
    "id": "2UDFE8rR-qLU"
   },
   "source": [
    "# Testing the API's"
   ]
  },
  {
   "cell_type": "code",
   "execution_count": 40,
   "metadata": {
    "colab": {
     "base_uri": "https://localhost:8080/"
    },
    "id": "KeBAHzw7iipt",
    "outputId": "2a811f96-cf4a-4f37-f351-a956107acd80"
   },
   "outputs": [
    {
     "data": {
      "text/plain": [
       "145.75010681152344"
      ]
     },
     "execution_count": 40,
     "metadata": {},
     "output_type": "execute_result"
    }
   ],
   "source": [
    "# get live price of Apple\n",
    "si.get_live_price(\"aapl\")\n",
    " \n",
    "# # or Amazon\n",
    "# si.get_live_price(\"amzn\")\n",
    " \n",
    "# # or any other ticker\n",
    "# si.get_live_price(ticker)"
   ]
  },
  {
   "cell_type": "code",
   "execution_count": 41,
   "metadata": {
    "colab": {
     "base_uri": "https://localhost:8080/",
     "height": 906
    },
    "id": "SX9jxMG_iouw",
    "outputId": "4f10f38e-6ff0-4158-c2dd-3dd51ceecff2"
   },
   "outputs": [
    {
     "data": {
      "text/html": [
       "<div>\n",
       "<style scoped>\n",
       "    .dataframe tbody tr th:only-of-type {\n",
       "        vertical-align: middle;\n",
       "    }\n",
       "\n",
       "    .dataframe tbody tr th {\n",
       "        vertical-align: top;\n",
       "    }\n",
       "\n",
       "    .dataframe thead th {\n",
       "        text-align: right;\n",
       "    }\n",
       "</style>\n",
       "<table border=\"1\" class=\"dataframe\">\n",
       "  <thead>\n",
       "    <tr style=\"text-align: right;\">\n",
       "      <th>endDate</th>\n",
       "      <th>2021-06-30</th>\n",
       "      <th>2020-06-30</th>\n",
       "      <th>2019-06-30</th>\n",
       "      <th>2018-06-30</th>\n",
       "    </tr>\n",
       "    <tr>\n",
       "      <th>Breakdown</th>\n",
       "      <th></th>\n",
       "      <th></th>\n",
       "      <th></th>\n",
       "      <th></th>\n",
       "    </tr>\n",
       "  </thead>\n",
       "  <tbody>\n",
       "    <tr>\n",
       "      <th>intangibleAssets</th>\n",
       "      <td>7.800000e+09</td>\n",
       "      <td>7.038000e+09</td>\n",
       "      <td>7.750000e+09</td>\n",
       "      <td>8.053000e+09</td>\n",
       "    </tr>\n",
       "    <tr>\n",
       "      <th>totalLiab</th>\n",
       "      <td>1.917910e+11</td>\n",
       "      <td>1.830070e+11</td>\n",
       "      <td>1.842260e+11</td>\n",
       "      <td>1.761300e+11</td>\n",
       "    </tr>\n",
       "    <tr>\n",
       "      <th>totalStockholderEquity</th>\n",
       "      <td>1.419880e+11</td>\n",
       "      <td>1.183040e+11</td>\n",
       "      <td>1.023300e+11</td>\n",
       "      <td>8.271800e+10</td>\n",
       "    </tr>\n",
       "    <tr>\n",
       "      <th>otherCurrentLiab</th>\n",
       "      <td>5.536500e+10</td>\n",
       "      <td>4.600100e+10</td>\n",
       "      <td>4.586000e+10</td>\n",
       "      <td>3.819500e+10</td>\n",
       "    </tr>\n",
       "    <tr>\n",
       "      <th>totalAssets</th>\n",
       "      <td>3.337790e+11</td>\n",
       "      <td>3.013110e+11</td>\n",
       "      <td>2.865560e+11</td>\n",
       "      <td>2.588480e+11</td>\n",
       "    </tr>\n",
       "    <tr>\n",
       "      <th>commonStock</th>\n",
       "      <td>8.311100e+10</td>\n",
       "      <td>8.055200e+10</td>\n",
       "      <td>7.852000e+10</td>\n",
       "      <td>7.122300e+10</td>\n",
       "    </tr>\n",
       "    <tr>\n",
       "      <th>otherCurrentAssets</th>\n",
       "      <td>1.339300e+10</td>\n",
       "      <td>1.151700e+10</td>\n",
       "      <td>1.013300e+10</td>\n",
       "      <td>6.855000e+09</td>\n",
       "    </tr>\n",
       "    <tr>\n",
       "      <th>retainedEarnings</th>\n",
       "      <td>5.705500e+10</td>\n",
       "      <td>3.456600e+10</td>\n",
       "      <td>2.415000e+10</td>\n",
       "      <td>1.368200e+10</td>\n",
       "    </tr>\n",
       "    <tr>\n",
       "      <th>otherLiab</th>\n",
       "      <td>3.000400e+10</td>\n",
       "      <td>3.449200e+10</td>\n",
       "      <td>3.569900e+10</td>\n",
       "      <td>3.570700e+10</td>\n",
       "    </tr>\n",
       "    <tr>\n",
       "      <th>goodWill</th>\n",
       "      <td>4.971100e+10</td>\n",
       "      <td>4.335100e+10</td>\n",
       "      <td>4.202600e+10</td>\n",
       "      <td>3.568300e+10</td>\n",
       "    </tr>\n",
       "    <tr>\n",
       "      <th>treasuryStock</th>\n",
       "      <td>1.822000e+09</td>\n",
       "      <td>3.186000e+09</td>\n",
       "      <td>-3.400000e+08</td>\n",
       "      <td>-2.187000e+09</td>\n",
       "    </tr>\n",
       "    <tr>\n",
       "      <th>otherAssets</th>\n",
       "      <td>1.507500e+10</td>\n",
       "      <td>1.313800e+10</td>\n",
       "      <td>1.472300e+10</td>\n",
       "      <td>7.442000e+09</td>\n",
       "    </tr>\n",
       "    <tr>\n",
       "      <th>cash</th>\n",
       "      <td>1.422400e+10</td>\n",
       "      <td>1.357600e+10</td>\n",
       "      <td>1.135600e+10</td>\n",
       "      <td>1.194600e+10</td>\n",
       "    </tr>\n",
       "    <tr>\n",
       "      <th>totalCurrentLiabilities</th>\n",
       "      <td>8.865700e+10</td>\n",
       "      <td>7.231000e+10</td>\n",
       "      <td>6.942000e+10</td>\n",
       "      <td>5.848800e+10</td>\n",
       "    </tr>\n",
       "    <tr>\n",
       "      <th>shortLongTermDebt</th>\n",
       "      <td>8.072000e+09</td>\n",
       "      <td>3.749000e+09</td>\n",
       "      <td>5.516000e+09</td>\n",
       "      <td>3.998000e+09</td>\n",
       "    </tr>\n",
       "    <tr>\n",
       "      <th>otherStockholderEquity</th>\n",
       "      <td>1.822000e+09</td>\n",
       "      <td>3.186000e+09</td>\n",
       "      <td>-3.400000e+08</td>\n",
       "      <td>-2.187000e+09</td>\n",
       "    </tr>\n",
       "    <tr>\n",
       "      <th>propertyPlantEquipment</th>\n",
       "      <td>7.080300e+10</td>\n",
       "      <td>5.290400e+10</td>\n",
       "      <td>4.385600e+10</td>\n",
       "      <td>3.614600e+10</td>\n",
       "    </tr>\n",
       "    <tr>\n",
       "      <th>totalCurrentAssets</th>\n",
       "      <td>1.844060e+11</td>\n",
       "      <td>1.819150e+11</td>\n",
       "      <td>1.755520e+11</td>\n",
       "      <td>1.696620e+11</td>\n",
       "    </tr>\n",
       "    <tr>\n",
       "      <th>longTermInvestments</th>\n",
       "      <td>5.984000e+09</td>\n",
       "      <td>2.965000e+09</td>\n",
       "      <td>2.649000e+09</td>\n",
       "      <td>1.862000e+09</td>\n",
       "    </tr>\n",
       "    <tr>\n",
       "      <th>netTangibleAssets</th>\n",
       "      <td>8.447700e+10</td>\n",
       "      <td>6.791500e+10</td>\n",
       "      <td>5.255400e+10</td>\n",
       "      <td>3.898200e+10</td>\n",
       "    </tr>\n",
       "    <tr>\n",
       "      <th>shortTermInvestments</th>\n",
       "      <td>1.161100e+11</td>\n",
       "      <td>1.229160e+11</td>\n",
       "      <td>1.224760e+11</td>\n",
       "      <td>1.217180e+11</td>\n",
       "    </tr>\n",
       "    <tr>\n",
       "      <th>netReceivables</th>\n",
       "      <td>3.804300e+10</td>\n",
       "      <td>3.201100e+10</td>\n",
       "      <td>2.952400e+10</td>\n",
       "      <td>2.648100e+10</td>\n",
       "    </tr>\n",
       "    <tr>\n",
       "      <th>longTermDebt</th>\n",
       "      <td>5.007400e+10</td>\n",
       "      <td>5.957800e+10</td>\n",
       "      <td>6.666200e+10</td>\n",
       "      <td>7.224200e+10</td>\n",
       "    </tr>\n",
       "    <tr>\n",
       "      <th>inventory</th>\n",
       "      <td>2.636000e+09</td>\n",
       "      <td>1.895000e+09</td>\n",
       "      <td>2.063000e+09</td>\n",
       "      <td>2.662000e+09</td>\n",
       "    </tr>\n",
       "    <tr>\n",
       "      <th>accountsPayable</th>\n",
       "      <td>1.516300e+10</td>\n",
       "      <td>1.253000e+10</td>\n",
       "      <td>9.382000e+09</td>\n",
       "      <td>8.617000e+09</td>\n",
       "    </tr>\n",
       "    <tr>\n",
       "      <th>deferredLongTermAssetCharges</th>\n",
       "      <td>NaN</td>\n",
       "      <td>6.405000e+09</td>\n",
       "      <td>7.536000e+09</td>\n",
       "      <td>1.369000e+09</td>\n",
       "    </tr>\n",
       "  </tbody>\n",
       "</table>\n",
       "</div>"
      ],
      "text/plain": [
       "endDate                         2021-06-30    2020-06-30    2019-06-30  \\\n",
       "Breakdown                                                                \n",
       "intangibleAssets              7.800000e+09  7.038000e+09  7.750000e+09   \n",
       "totalLiab                     1.917910e+11  1.830070e+11  1.842260e+11   \n",
       "totalStockholderEquity        1.419880e+11  1.183040e+11  1.023300e+11   \n",
       "otherCurrentLiab              5.536500e+10  4.600100e+10  4.586000e+10   \n",
       "totalAssets                   3.337790e+11  3.013110e+11  2.865560e+11   \n",
       "commonStock                   8.311100e+10  8.055200e+10  7.852000e+10   \n",
       "otherCurrentAssets            1.339300e+10  1.151700e+10  1.013300e+10   \n",
       "retainedEarnings              5.705500e+10  3.456600e+10  2.415000e+10   \n",
       "otherLiab                     3.000400e+10  3.449200e+10  3.569900e+10   \n",
       "goodWill                      4.971100e+10  4.335100e+10  4.202600e+10   \n",
       "treasuryStock                 1.822000e+09  3.186000e+09 -3.400000e+08   \n",
       "otherAssets                   1.507500e+10  1.313800e+10  1.472300e+10   \n",
       "cash                          1.422400e+10  1.357600e+10  1.135600e+10   \n",
       "totalCurrentLiabilities       8.865700e+10  7.231000e+10  6.942000e+10   \n",
       "shortLongTermDebt             8.072000e+09  3.749000e+09  5.516000e+09   \n",
       "otherStockholderEquity        1.822000e+09  3.186000e+09 -3.400000e+08   \n",
       "propertyPlantEquipment        7.080300e+10  5.290400e+10  4.385600e+10   \n",
       "totalCurrentAssets            1.844060e+11  1.819150e+11  1.755520e+11   \n",
       "longTermInvestments           5.984000e+09  2.965000e+09  2.649000e+09   \n",
       "netTangibleAssets             8.447700e+10  6.791500e+10  5.255400e+10   \n",
       "shortTermInvestments          1.161100e+11  1.229160e+11  1.224760e+11   \n",
       "netReceivables                3.804300e+10  3.201100e+10  2.952400e+10   \n",
       "longTermDebt                  5.007400e+10  5.957800e+10  6.666200e+10   \n",
       "inventory                     2.636000e+09  1.895000e+09  2.063000e+09   \n",
       "accountsPayable               1.516300e+10  1.253000e+10  9.382000e+09   \n",
       "deferredLongTermAssetCharges           NaN  6.405000e+09  7.536000e+09   \n",
       "\n",
       "endDate                         2018-06-30  \n",
       "Breakdown                                   \n",
       "intangibleAssets              8.053000e+09  \n",
       "totalLiab                     1.761300e+11  \n",
       "totalStockholderEquity        8.271800e+10  \n",
       "otherCurrentLiab              3.819500e+10  \n",
       "totalAssets                   2.588480e+11  \n",
       "commonStock                   7.122300e+10  \n",
       "otherCurrentAssets            6.855000e+09  \n",
       "retainedEarnings              1.368200e+10  \n",
       "otherLiab                     3.570700e+10  \n",
       "goodWill                      3.568300e+10  \n",
       "treasuryStock                -2.187000e+09  \n",
       "otherAssets                   7.442000e+09  \n",
       "cash                          1.194600e+10  \n",
       "totalCurrentLiabilities       5.848800e+10  \n",
       "shortLongTermDebt             3.998000e+09  \n",
       "otherStockholderEquity       -2.187000e+09  \n",
       "propertyPlantEquipment        3.614600e+10  \n",
       "totalCurrentAssets            1.696620e+11  \n",
       "longTermInvestments           1.862000e+09  \n",
       "netTangibleAssets             3.898200e+10  \n",
       "shortTermInvestments          1.217180e+11  \n",
       "netReceivables                2.648100e+10  \n",
       "longTermDebt                  7.224200e+10  \n",
       "inventory                     2.662000e+09  \n",
       "accountsPayable               8.617000e+09  \n",
       "deferredLongTermAssetCharges  1.369000e+09  "
      ]
     },
     "execution_count": 41,
     "metadata": {},
     "output_type": "execute_result"
    }
   ],
   "source": [
    "# get most active stocks on the day\n",
    "#si.get_day_most_active()\n",
    " \n",
    "# # get biggest gainers\n",
    "#si.get_day_gainers()\n",
    " \n",
    "# # get worst performers\n",
    "# si.get_day_losers()\n",
    "si.get_balance_sheet(\"msft\")"
   ]
  },
  {
   "cell_type": "markdown",
   "metadata": {
    "id": "94y9tstW-vmZ"
   },
   "source": [
    "# Getiting rates of MICROSOFT"
   ]
  },
  {
   "cell_type": "code",
   "execution_count": 5,
   "metadata": {
    "id": "PJKnbcJai9eY"
   },
   "outputs": [],
   "source": [
    "msft_data = si.get_data('msft')"
   ]
  },
  {
   "cell_type": "code",
   "execution_count": 6,
   "metadata": {
    "colab": {
     "base_uri": "https://localhost:8080/",
     "height": 500
    },
    "id": "ADmSsTj0kPoA",
    "outputId": "4a9f0ff9-b0b1-4fb9-cc22-dd5cca0af17b"
   },
   "outputs": [
    {
     "data": {
      "image/png": "[encoded data removed]",
      "text/plain": [
       "<Figure size 1152x648 with 1 Axes>"
      ]
     },
     "metadata": {
      "needs_background": "light"
     },
     "output_type": "display_data"
    }
   ],
   "source": [
    "msft_data.plot(y='open', figsize=(16,9));"
   ]
  },
  {
   "cell_type": "code",
   "execution_count": 7,
   "metadata": {
    "colab": {
     "base_uri": "https://localhost:8080/",
     "height": 500
    },
    "id": "dlhjjwYkkS6M",
    "outputId": "2d2244a0-7057-4946-ce2d-d32f5f19a091"
   },
   "outputs": [
    {
     "data": {
      "image/png": "[encoded data removed]",
      "text/plain": [
       "<Figure size 1152x648 with 1 Axes>"
      ]
     },
     "metadata": {
      "needs_background": "light"
     },
     "output_type": "display_data"
    }
   ],
   "source": [
    "EADSF_data = si.get_data('EADSF')\n",
    "EADSF_data.plot(y='open', figsize=(16,9));"
   ]
  },
  {
   "cell_type": "code",
   "execution_count": 8,
   "metadata": {
    "colab": {
     "base_uri": "https://localhost:8080/",
     "height": 204
    },
    "id": "lEPuBo2Bkz0-",
    "outputId": "bcf052f5-2e15-4541-c1a0-2a5484c67dd2"
   },
   "outputs": [
    {
     "data": {
      "text/html": [
       "<div>\n",
       "<style scoped>\n",
       "    .dataframe tbody tr th:only-of-type {\n",
       "        vertical-align: middle;\n",
       "    }\n",
       "\n",
       "    .dataframe tbody tr th {\n",
       "        vertical-align: top;\n",
       "    }\n",
       "\n",
       "    .dataframe thead th {\n",
       "        text-align: right;\n",
       "    }\n",
       "</style>\n",
       "<table border=\"1\" class=\"dataframe\">\n",
       "  <thead>\n",
       "    <tr style=\"text-align: right;\">\n",
       "      <th></th>\n",
       "      <th>open</th>\n",
       "      <th>high</th>\n",
       "      <th>low</th>\n",
       "      <th>close</th>\n",
       "      <th>adjclose</th>\n",
       "      <th>volume</th>\n",
       "      <th>ticker</th>\n",
       "    </tr>\n",
       "  </thead>\n",
       "  <tbody>\n",
       "    <tr>\n",
       "      <th>2009-02-13</th>\n",
       "      <td>17.299999</td>\n",
       "      <td>17.299999</td>\n",
       "      <td>17.299999</td>\n",
       "      <td>17.299999</td>\n",
       "      <td>15.762897</td>\n",
       "      <td>100</td>\n",
       "      <td>EADSF</td>\n",
       "    </tr>\n",
       "    <tr>\n",
       "      <th>2009-02-17</th>\n",
       "      <td>16.500000</td>\n",
       "      <td>16.500000</td>\n",
       "      <td>16.450001</td>\n",
       "      <td>16.450001</td>\n",
       "      <td>14.988421</td>\n",
       "      <td>300</td>\n",
       "      <td>EADSF</td>\n",
       "    </tr>\n",
       "    <tr>\n",
       "      <th>2009-02-18</th>\n",
       "      <td>16.500000</td>\n",
       "      <td>16.500000</td>\n",
       "      <td>16.150000</td>\n",
       "      <td>16.150000</td>\n",
       "      <td>14.715076</td>\n",
       "      <td>2300</td>\n",
       "      <td>EADSF</td>\n",
       "    </tr>\n",
       "    <tr>\n",
       "      <th>2009-02-19</th>\n",
       "      <td>16.150000</td>\n",
       "      <td>16.150000</td>\n",
       "      <td>16.150000</td>\n",
       "      <td>16.150000</td>\n",
       "      <td>14.715076</td>\n",
       "      <td>0</td>\n",
       "      <td>EADSF</td>\n",
       "    </tr>\n",
       "    <tr>\n",
       "      <th>2009-02-20</th>\n",
       "      <td>16.150000</td>\n",
       "      <td>16.150000</td>\n",
       "      <td>16.150000</td>\n",
       "      <td>16.150000</td>\n",
       "      <td>14.715076</td>\n",
       "      <td>0</td>\n",
       "      <td>EADSF</td>\n",
       "    </tr>\n",
       "  </tbody>\n",
       "</table>\n",
       "</div>"
      ],
      "text/plain": [
       "                 open       high        low      close   adjclose  volume  \\\n",
       "2009-02-13  17.299999  17.299999  17.299999  17.299999  15.762897     100   \n",
       "2009-02-17  16.500000  16.500000  16.450001  16.450001  14.988421     300   \n",
       "2009-02-18  16.500000  16.500000  16.150000  16.150000  14.715076    2300   \n",
       "2009-02-19  16.150000  16.150000  16.150000  16.150000  14.715076       0   \n",
       "2009-02-20  16.150000  16.150000  16.150000  16.150000  14.715076       0   \n",
       "\n",
       "           ticker  \n",
       "2009-02-13  EADSF  \n",
       "2009-02-17  EADSF  \n",
       "2009-02-18  EADSF  \n",
       "2009-02-19  EADSF  \n",
       "2009-02-20  EADSF  "
      ]
     },
     "execution_count": 8,
     "metadata": {},
     "output_type": "execute_result"
    }
   ],
   "source": [
    "EADSF_data.head(5)"
   ]
  },
  {
   "cell_type": "code",
   "execution_count": 31,
   "metadata": {},
   "outputs": [],
   "source": [
    "msft_data=msft_data[msft_data.index>'2021-4-30']"
   ]
  },
  {
   "cell_type": "code",
   "execution_count": 32,
   "metadata": {
    "colab": {
     "base_uri": "https://localhost:8080/",
     "height": 542
    },
    "id": "ZMYhCNA7nk3g",
    "outputId": "21632bcd-2b20-437b-d4e9-822ac5142ddf"
   },
   "outputs": [
    {
     "data": {
      "application/vnd.plotly.v1+json": {
       "config": {
        "plotlyServerURL": "https://plot.ly"
       },
       "data": [
        {
         "close": [
          251.86000061035156,
          247.7899932861328,
          246.47000122070312,
          249.72999572753906,
          252.4600067138672,
          247.17999267578125,
          246.22999572753906,
          239,
          243.02999877929688,
          248.14999389648438,
          245.17999267578125,
          243.0800018310547,
          243.1199951171875,
          246.47999572753906,
          245.1699981689453,
          250.77999877929688,
          251.72000122070312,
          251.49000549316406,
          249.30999755859375,
          249.67999267578125,
          247.39999389648438,
          247.3000030517578,
          245.7100067138672,
          250.7899932861328,
          253.80999755859375,
          252.57000732421875,
          253.58999633789062,
          257.239990234375,
          257.8900146484375,
          259.8900146484375,
          258.3599853515625,
          257.3800048828125,
          260.8999938964844,
          259.42999267578125,
          262.6300048828125,
          265.510009765625,
          265.2699890136719,
          266.69000244140625,
          265.0199890136719,
          268.7200012207031,
          271.3999938964844,
          270.8999938964844,
          271.6000061035156,
          277.6499938964844,
          277.6600036621094,
          279.92999267578125,
          277.4200134277344,
          277.94000244140625,
          277.32000732421875,
          280.9800109863281,
          282.510009765625,
          281.0299987792969,
          280.75,
          277.010009765625,
          279.32000732421875,
          281.3999938964844,
          286.1400146484375,
          289.6700134277344,
          289.04998779296875,
          286.5400085449219,
          286.2200012207031,
          286.5,
          284.4949951171875
         ],
         "high": [
          254.35000610351562,
          251.2100067138672,
          249.5,
          249.86000061035156,
          254.3000030517578,
          251.72999572753906,
          246.60000610351562,
          244.3800048828125,
          245.60000610351562,
          249.17999267578125,
          246.58999633789062,
          246.41000366210938,
          243.22999572753906,
          247.9499969482422,
          248.3300018310547,
          251.16000366210938,
          252.75,
          252.94000244140625,
          251.47999572753906,
          252.0800018310547,
          251.2899932861328,
          249.27000427246094,
          246.33999633789062,
          251.64999389648438,
          254.08999633789062,
          256.010009765625,
          255.52999877929688,
          257.4599914550781,
          258.489990234375,
          259.95001220703125,
          259.989990234375,
          260.5799865722656,
          261.75,
          262.29998779296875,
          263.5199890136719,
          265.7900085449219,
          266.8299865722656,
          267.8500061035156,
          267.25,
          268.8999938964844,
          271.6499938964844,
          271.3599853515625,
          271.8399963378906,
          278,
          279.3699951171875,
          280.69000244140625,
          278.7300109863281,
          278.04998779296875,
          279.7699890136719,
          282.8500061035156,
          283.6600036621094,
          282.510009765625,
          284.1000061035156,
          280.3699951171875,
          280.9700012207031,
          281.5199890136719,
          286.4200134277344,
          289.989990234375,
          289.69000244140625,
          289.5799865722656,
          290.1499938964844,
          288.6199951171875,
          286.6401062011719
         ],
         "low": [
          251.1199951171875,
          245.75999450683594,
          245.82000732421875,
          244.69000244140625,
          251.1699981689453,
          247.1199951171875,
          242.57000732421875,
          238.07000732421875,
          241.4199981689453,
          245.49000549316406,
          243.52000427246094,
          242.89999389648438,
          238.60000610351562,
          243.86000061035156,
          244.74000549316406,
          247.50999450683594,
          250.82000732421875,
          250.75,
          249.25,
          249.55999755859375,
          246.9600067138672,
          245.83999633789062,
          243,
          247.50999450683594,
          249.80999755859375,
          252.50999450683594,
          253.2100067138672,
          253.6699981689453,
          256.6099853515625,
          256.79998779296875,
          257.67999267578125,
          254.4199981689453,
          256.010009765625,
          258.75,
          257.9200134277344,
          262.3999938964844,
          264.42999267578125,
          265.4700012207031,
          264.760009765625,
          265.9100036621094,
          267.9800109863281,
          269.6000061035156,
          269.6000061035156,
          272.5,
          274.29998779296875,
          277.1499938964844,
          274.8699951171875,
          275.32000732421875,
          276.5799865722656,
          277.3900146484375,
          280.54998779296875,
          279.8299865722656,
          279.4599914550781,
          274.45001220703125,
          276.260009765625,
          277.2900085449219,
          283.4200134277344,
          286.5,
          286.6400146484375,
          282.95001220703125,
          283.8299865722656,
          286.0799865722656,
          284.4599914550781
         ],
         "open": [
          253.39999389648438,
          250.97000122070312,
          249.05999755859375,
          246.4499969482422,
          252.14999389648438,
          250.8699951171875,
          244.5500030517578,
          242.1699981689453,
          241.8000030517578,
          245.5800018310547,
          246.5500030517578,
          246.27000427246094,
          239.30999755859375,
          243.9600067138672,
          247.57000732421875,
          247.7899932861328,
          251.77000427246094,
          251.42999267578125,
          251.1699981689453,
          251,
          251.22999572753906,
          248.1300048828125,
          245.22000122070312,
          247.75999450683594,
          249.97999572753906,
          255.16000366210938,
          253.80999755859375,
          254.2899932861328,
          257.989990234375,
          257.8999938964844,
          259.7699890136719,
          259.3999938964844,
          256.07000732421875,
          259.6300048828125,
          259.82000732421875,
          262.7200012207031,
          265.989990234375,
          266.1600036621094,
          266.2300109863281,
          266.19000244140625,
          268.8699951171875,
          270.69000244140625,
          269.6099853515625,
          272.82000732421875,
          278.0299987792969,
          279.3999938964844,
          276.8999938964844,
          275.7200012207031,
          279.1600036621094,
          277.5199890136719,
          282.3500061035156,
          282,
          282.07000732421875,
          278.92999267578125,
          278.0299987792969,
          278.8999938964844,
          283.8399963378906,
          287.3699951171875,
          289,
          289.42999267578125,
          288.989990234375,
          286.239990234375,
          285.1700134277344
         ],
         "type": "candlestick",
         "x": [
          "2021-05-03T00:00:00",
          "2021-05-04T00:00:00",
          "2021-05-05T00:00:00",
          "2021-05-06T00:00:00",
          "2021-05-07T00:00:00",
          "2021-05-10T00:00:00",
          "2021-05-11T00:00:00",
          "2021-05-12T00:00:00",
          "2021-05-13T00:00:00",
          "2021-05-14T00:00:00",
          "2021-05-17T00:00:00",
          "2021-05-18T00:00:00",
          "2021-05-19T00:00:00",
          "2021-05-20T00:00:00",
          "2021-05-21T00:00:00",
          "2021-05-24T00:00:00",
          "2021-05-25T00:00:00",
          "2021-05-26T00:00:00",
          "2021-05-27T00:00:00",
          "2021-05-28T00:00:00",
          "2021-06-01T00:00:00",
          "2021-06-02T00:00:00",
          "2021-06-03T00:00:00",
          "2021-06-04T00:00:00",
          "2021-06-07T00:00:00",
          "2021-06-08T00:00:00",
          "2021-06-09T00:00:00",
          "2021-06-10T00:00:00",
          "2021-06-11T00:00:00",
          "2021-06-14T00:00:00",
          "2021-06-15T00:00:00",
          "2021-06-16T00:00:00",
          "2021-06-17T00:00:00",
          "2021-06-18T00:00:00",
          "2021-06-21T00:00:00",
          "2021-06-22T00:00:00",
          "2021-06-23T00:00:00",
          "2021-06-24T00:00:00",
          "2021-06-25T00:00:00",
          "2021-06-28T00:00:00",
          "2021-06-29T00:00:00",
          "2021-06-30T00:00:00",
          "2021-07-01T00:00:00",
          "2021-07-02T00:00:00",
          "2021-07-06T00:00:00",
          "2021-07-07T00:00:00",
          "2021-07-08T00:00:00",
          "2021-07-09T00:00:00",
          "2021-07-12T00:00:00",
          "2021-07-13T00:00:00",
          "2021-07-14T00:00:00",
          "2021-07-15T00:00:00",
          "2021-07-16T00:00:00",
          "2021-07-19T00:00:00",
          "2021-07-20T00:00:00",
          "2021-07-21T00:00:00",
          "2021-07-22T00:00:00",
          "2021-07-23T00:00:00",
          "2021-07-26T00:00:00",
          "2021-07-27T00:00:00",
          "2021-07-28T00:00:00",
          "2021-07-29T00:00:00",
          "2021-07-30T00:00:00"
         ]
        }
       ],
       "layout": {
        "template": {
         "data": {
          "bar": [
           {
            "error_x": {
             "color": "#2a3f5f"
            },
            "error_y": {
             "color": "#2a3f5f"
            },
            "marker": {
             "line": {
              "color": "#E5ECF6",
              "width": 0.5
             },
             "pattern": {
              "fillmode": "overlay",
              "size": 10,
              "solidity": 0.2
             }
            },
            "type": "bar"
           }
          ],
          "barpolar": [
           {
            "marker": {
             "line": {
              "color": "#E5ECF6",
              "width": 0.5
             },
             "pattern": {
              "fillmode": "overlay",
              "size": 10,
              "solidity": 0.2
             }
            },
            "type": "barpolar"
           }
          ],
          "carpet": [
           {
            "aaxis": {
             "endlinecolor": "#2a3f5f",
             "gridcolor": "white",
             "linecolor": "white",
             "minorgridcolor": "white",
             "startlinecolor": "#2a3f5f"
            },
            "baxis": {
             "endlinecolor": "#2a3f5f",
             "gridcolor": "white",
             "linecolor": "white",
             "minorgridcolor": "white",
             "startlinecolor": "#2a3f5f"
            },
            "type": "carpet"
           }
          ],
          "choropleth": [
           {
            "colorbar": {
             "outlinewidth": 0,
             "ticks": ""
            },
            "type": "choropleth"
           }
          ],
          "contour": [
           {
            "colorbar": {
             "outlinewidth": 0,
             "ticks": ""
            },
            "colorscale": [
             [
              0,
              "#0d0887"
             ],
             [
              0.1111111111111111,
              "#46039f"
             ],
             [
              0.2222222222222222,
              "#7201a8"
             ],
             [
              0.3333333333333333,
              "#9c179e"
             ],
             [
              0.4444444444444444,
              "#bd3786"
             ],
             [
              0.5555555555555556,
              "#d8576b"
             ],
             [
              0.6666666666666666,
              "#ed7953"
             ],
             [
              0.7777777777777778,
              "#fb9f3a"
             ],
             [
              0.8888888888888888,
              "#fdca26"
             ],
             [
              1,
              "#f0f921"
             ]
            ],
            "type": "contour"
           }
          ],
          "contourcarpet": [
           {
            "colorbar": {
             "outlinewidth": 0,
             "ticks": ""
            },
            "type": "contourcarpet"
           }
          ],
          "heatmap": [
           {
            "colorbar": {
             "outlinewidth": 0,
             "ticks": ""
            },
            "colorscale": [
             [
              0,
              "#0d0887"
             ],
             [
              0.1111111111111111,
              "#46039f"
             ],
             [
              0.2222222222222222,
              "#7201a8"
             ],
             [
              0.3333333333333333,
              "#9c179e"
             ],
             [
              0.4444444444444444,
              "#bd3786"
             ],
             [
              0.5555555555555556,
              "#d8576b"
             ],
             [
              0.6666666666666666,
              "#ed7953"
             ],
             [
              0.7777777777777778,
              "#fb9f3a"
             ],
             [
              0.8888888888888888,
              "#fdca26"
             ],
             [
              1,
              "#f0f921"
             ]
            ],
            "type": "heatmap"
           }
          ],
          "heatmapgl": [
           {
            "colorbar": {
             "outlinewidth": 0,
             "ticks": ""
            },
            "colorscale": [
             [
              0,
              "#0d0887"
             ],
             [
              0.1111111111111111,
              "#46039f"
             ],
             [
              0.2222222222222222,
              "#7201a8"
             ],
             [
              0.3333333333333333,
              "#9c179e"
             ],
             [
              0.4444444444444444,
              "#bd3786"
             ],
             [
              0.5555555555555556,
              "#d8576b"
             ],
             [
              0.6666666666666666,
              "#ed7953"
             ],
             [
              0.7777777777777778,
              "#fb9f3a"
             ],
             [
              0.8888888888888888,
              "#fdca26"
             ],
             [
              1,
              "#f0f921"
             ]
            ],
            "type": "heatmapgl"
           }
          ],
          "histogram": [
           {
            "marker": {
             "pattern": {
              "fillmode": "overlay",
              "size": 10,
              "solidity": 0.2
             }
            },
            "type": "histogram"
           }
          ],
          "histogram2d": [
           {
            "colorbar": {
             "outlinewidth": 0,
             "ticks": ""
            },
            "colorscale": [
             [
              0,
              "#0d0887"
             ],
             [
              0.1111111111111111,
              "#46039f"
             ],
             [
              0.2222222222222222,
              "#7201a8"
             ],
             [
              0.3333333333333333,
              "#9c179e"
             ],
             [
              0.4444444444444444,
              "#bd3786"
             ],
             [
              0.5555555555555556,
              "#d8576b"
             ],
             [
              0.6666666666666666,
              "#ed7953"
             ],
             [
              0.7777777777777778,
              "#fb9f3a"
             ],
             [
              0.8888888888888888,
              "#fdca26"
             ],
             [
              1,
              "#f0f921"
             ]
            ],
            "type": "histogram2d"
           }
          ],
          "histogram2dcontour": [
           {
            "colorbar": {
             "outlinewidth": 0,
             "ticks": ""
            },
            "colorscale": [
             [
              0,
              "#0d0887"
             ],
             [
              0.1111111111111111,
              "#46039f"
             ],
             [
              0.2222222222222222,
              "#7201a8"
             ],
             [
              0.3333333333333333,
              "#9c179e"
             ],
             [
              0.4444444444444444,
              "#bd3786"
             ],
             [
              0.5555555555555556,
              "#d8576b"
             ],
             [
              0.6666666666666666,
              "#ed7953"
             ],
             [
              0.7777777777777778,
              "#fb9f3a"
             ],
             [
              0.8888888888888888,
              "#fdca26"
             ],
             [
              1,
              "#f0f921"
             ]
            ],
            "type": "histogram2dcontour"
           }
          ],
          "mesh3d": [
           {
            "colorbar": {
             "outlinewidth": 0,
             "ticks": ""
            },
            "type": "mesh3d"
           }
          ],
          "parcoords": [
           {
            "line": {
             "colorbar": {
              "outlinewidth": 0,
              "ticks": ""
             }
            },
            "type": "parcoords"
           }
          ],
          "pie": [
           {
            "automargin": true,
            "type": "pie"
           }
          ],
          "scatter": [
           {
            "marker": {
             "colorbar": {
              "outlinewidth": 0,
              "ticks": ""
             }
            },
            "type": "scatter"
           }
          ],
          "scatter3d": [
           {
            "line": {
             "colorbar": {
              "outlinewidth": 0,
              "ticks": ""
             }
            },
            "marker": {
             "colorbar": {
              "outlinewidth": 0,
              "ticks": ""
             }
            },
            "type": "scatter3d"
           }
          ],
          "scattercarpet": [
           {
            "marker": {
             "colorbar": {
              "outlinewidth": 0,
              "ticks": ""
             }
            },
            "type": "scattercarpet"
           }
          ],
          "scattergeo": [
           {
            "marker": {
             "colorbar": {
              "outlinewidth": 0,
              "ticks": ""
             }
            },
            "type": "scattergeo"
           }
          ],
          "scattergl": [
           {
            "marker": {
             "colorbar": {
              "outlinewidth": 0,
              "ticks": ""
             }
            },
            "type": "scattergl"
           }
          ],
          "scattermapbox": [
           {
            "marker": {
             "colorbar": {
              "outlinewidth": 0,
              "ticks": ""
             }
            },
            "type": "scattermapbox"
           }
          ],
          "scatterpolar": [
           {
            "marker": {
             "colorbar": {
              "outlinewidth": 0,
              "ticks": ""
             }
            },
            "type": "scatterpolar"
           }
          ],
          "scatterpolargl": [
           {
            "marker": {
             "colorbar": {
              "outlinewidth": 0,
              "ticks": ""
             }
            },
            "type": "scatterpolargl"
           }
          ],
          "scatterternary": [
           {
            "marker": {
             "colorbar": {
              "outlinewidth": 0,
              "ticks": ""
             }
            },
            "type": "scatterternary"
           }
          ],
          "surface": [
           {
            "colorbar": {
             "outlinewidth": 0,
             "ticks": ""
            },
            "colorscale": [
             [
              0,
              "#0d0887"
             ],
             [
              0.1111111111111111,
              "#46039f"
             ],
             [
              0.2222222222222222,
              "#7201a8"
             ],
             [
              0.3333333333333333,
              "#9c179e"
             ],
             [
              0.4444444444444444,
              "#bd3786"
             ],
             [
              0.5555555555555556,
              "#d8576b"
             ],
             [
              0.6666666666666666,
              "#ed7953"
             ],
             [
              0.7777777777777778,
              "#fb9f3a"
             ],
             [
              0.8888888888888888,
              "#fdca26"
             ],
             [
              1,
              "#f0f921"
             ]
            ],
            "type": "surface"
           }
          ],
          "table": [
           {
            "cells": {
             "fill": {
              "color": "#EBF0F8"
             },
             "line": {
              "color": "white"
             }
            },
            "header": {
             "fill": {
              "color": "#C8D4E3"
             },
             "line": {
              "color": "white"
             }
            },
            "type": "table"
           }
          ]
         },
         "layout": {
          "annotationdefaults": {
           "arrowcolor": "#2a3f5f",
           "arrowhead": 0,
           "arrowwidth": 1
          },
          "autotypenumbers": "strict",
          "coloraxis": {
           "colorbar": {
            "outlinewidth": 0,
            "ticks": ""
           }
          },
          "colorscale": {
           "diverging": [
            [
             0,
             "#8e0152"
            ],
            [
             0.1,
             "#c51b7d"
            ],
            [
             0.2,
             "#de77ae"
            ],
            [
             0.3,
             "#f1b6da"
            ],
            [
             0.4,
             "#fde0ef"
            ],
            [
             0.5,
             "#f7f7f7"
            ],
            [
             0.6,
             "#e6f5d0"
            ],
            [
             0.7,
             "#b8e186"
            ],
            [
             0.8,
             "#7fbc41"
            ],
            [
             0.9,
             "#4d9221"
            ],
            [
             1,
             "#276419"
            ]
           ],
           "sequential": [
            [
             0,
             "#0d0887"
            ],
            [
             0.1111111111111111,
             "#46039f"
            ],
            [
             0.2222222222222222,
             "#7201a8"
            ],
            [
             0.3333333333333333,
             "#9c179e"
            ],
            [
             0.4444444444444444,
             "#bd3786"
            ],
            [
             0.5555555555555556,
             "#d8576b"
            ],
            [
             0.6666666666666666,
             "#ed7953"
            ],
            [
             0.7777777777777778,
             "#fb9f3a"
            ],
            [
             0.8888888888888888,
             "#fdca26"
            ],
            [
             1,
             "#f0f921"
            ]
           ],
           "sequentialminus": [
            [
             0,
             "#0d0887"
            ],
            [
             0.1111111111111111,
             "#46039f"
            ],
            [
             0.2222222222222222,
             "#7201a8"
            ],
            [
             0.3333333333333333,
             "#9c179e"
            ],
            [
             0.4444444444444444,
             "#bd3786"
            ],
            [
             0.5555555555555556,
             "#d8576b"
            ],
            [
             0.6666666666666666,
             "#ed7953"
            ],
            [
             0.7777777777777778,
             "#fb9f3a"
            ],
            [
             0.8888888888888888,
             "#fdca26"
            ],
            [
             1,
             "#f0f921"
            ]
           ]
          },
          "colorway": [
           "#636efa",
           "#EF553B",
           "#00cc96",
           "#ab63fa",
           "#FFA15A",
           "#19d3f3",
           "#FF6692",
           "#B6E880",
           "#FF97FF",
           "#FECB52"
          ],
          "font": {
           "color": "#2a3f5f"
          },
          "geo": {
           "bgcolor": "white",
           "lakecolor": "white",
           "landcolor": "#E5ECF6",
           "showlakes": true,
           "showland": true,
           "subunitcolor": "white"
          },
          "hoverlabel": {
           "align": "left"
          },
          "hovermode": "closest",
          "mapbox": {
           "style": "light"
          },
          "paper_bgcolor": "white",
          "plot_bgcolor": "#E5ECF6",
          "polar": {
           "angularaxis": {
            "gridcolor": "white",
            "linecolor": "white",
            "ticks": ""
           },
           "bgcolor": "#E5ECF6",
           "radialaxis": {
            "gridcolor": "white",
            "linecolor": "white",
            "ticks": ""
           }
          },
          "scene": {
           "xaxis": {
            "backgroundcolor": "#E5ECF6",
            "gridcolor": "white",
            "gridwidth": 2,
            "linecolor": "white",
            "showbackground": true,
            "ticks": "",
            "zerolinecolor": "white"
           },
           "yaxis": {
            "backgroundcolor": "#E5ECF6",
            "gridcolor": "white",
            "gridwidth": 2,
            "linecolor": "white",
            "showbackground": true,
            "ticks": "",
            "zerolinecolor": "white"
           },
           "zaxis": {
            "backgroundcolor": "#E5ECF6",
            "gridcolor": "white",
            "gridwidth": 2,
            "linecolor": "white",
            "showbackground": true,
            "ticks": "",
            "zerolinecolor": "white"
           }
          },
          "shapedefaults": {
           "line": {
            "color": "#2a3f5f"
           }
          },
          "ternary": {
           "aaxis": {
            "gridcolor": "white",
            "linecolor": "white",
            "ticks": ""
           },
           "baxis": {
            "gridcolor": "white",
            "linecolor": "white",
            "ticks": ""
           },
           "bgcolor": "#E5ECF6",
           "caxis": {
            "gridcolor": "white",
            "linecolor": "white",
            "ticks": ""
           }
          },
          "title": {
           "x": 0.05
          },
          "xaxis": {
           "automargin": true,
           "gridcolor": "white",
           "linecolor": "white",
           "ticks": "",
           "title": {
            "standoff": 15
           },
           "zerolinecolor": "white",
           "zerolinewidth": 2
          },
          "yaxis": {
           "automargin": true,
           "gridcolor": "white",
           "linecolor": "white",
           "ticks": "",
           "title": {
            "standoff": 15
           },
           "zerolinecolor": "white",
           "zerolinewidth": 2
          }
         }
        }
       }
      },
      "text/html": [
       "<div>                            <div id=\"bd92eba8-7dcb-4775-893b-baea2eb46bc6\" class=\"plotly-graph-div\" style=\"height:525px; width:100%;\"></div>            <script type=\"text/javascript\">                require([\"plotly\"], function(Plotly) {                    window.PLOTLYENV=window.PLOTLYENV || {};                                    if (document.getElementById(\"bd92eba8-7dcb-4775-893b-baea2eb46bc6\")) {                    Plotly.newPlot(                        \"bd92eba8-7dcb-4775-893b-baea2eb46bc6\",                        [{\"close\":[251.86000061035156,247.7899932861328,246.47000122070312,249.72999572753906,252.4600067138672,247.17999267578125,246.22999572753906,239.0,243.02999877929688,248.14999389648438,245.17999267578125,243.0800018310547,243.1199951171875,246.47999572753906,245.1699981689453,250.77999877929688,251.72000122070312,251.49000549316406,249.30999755859375,249.67999267578125,247.39999389648438,247.3000030517578,245.7100067138672,250.7899932861328,253.80999755859375,252.57000732421875,253.58999633789062,257.239990234375,257.8900146484375,259.8900146484375,258.3599853515625,257.3800048828125,260.8999938964844,259.42999267578125,262.6300048828125,265.510009765625,265.2699890136719,266.69000244140625,265.0199890136719,268.7200012207031,271.3999938964844,270.8999938964844,271.6000061035156,277.6499938964844,277.6600036621094,279.92999267578125,277.4200134277344,277.94000244140625,277.32000732421875,280.9800109863281,282.510009765625,281.0299987792969,280.75,277.010009765625,279.32000732421875,281.3999938964844,286.1400146484375,289.6700134277344,289.04998779296875,286.5400085449219,286.2200012207031,286.5,284.4949951171875],\"high\":[254.35000610351562,251.2100067138672,249.5,249.86000061035156,254.3000030517578,251.72999572753906,246.60000610351562,244.3800048828125,245.60000610351562,249.17999267578125,246.58999633789062,246.41000366210938,243.22999572753906,247.9499969482422,248.3300018310547,251.16000366210938,252.75,252.94000244140625,251.47999572753906,252.0800018310547,251.2899932861328,249.27000427246094,246.33999633789062,251.64999389648438,254.08999633789062,256.010009765625,255.52999877929688,257.4599914550781,258.489990234375,259.95001220703125,259.989990234375,260.5799865722656,261.75,262.29998779296875,263.5199890136719,265.7900085449219,266.8299865722656,267.8500061035156,267.25,268.8999938964844,271.6499938964844,271.3599853515625,271.8399963378906,278.0,279.3699951171875,280.69000244140625,278.7300109863281,278.04998779296875,279.7699890136719,282.8500061035156,283.6600036621094,282.510009765625,284.1000061035156,280.3699951171875,280.9700012207031,281.5199890136719,286.4200134277344,289.989990234375,289.69000244140625,289.5799865722656,290.1499938964844,288.6199951171875,286.6401062011719],\"low\":[251.1199951171875,245.75999450683594,245.82000732421875,244.69000244140625,251.1699981689453,247.1199951171875,242.57000732421875,238.07000732421875,241.4199981689453,245.49000549316406,243.52000427246094,242.89999389648438,238.60000610351562,243.86000061035156,244.74000549316406,247.50999450683594,250.82000732421875,250.75,249.25,249.55999755859375,246.9600067138672,245.83999633789062,243.0,247.50999450683594,249.80999755859375,252.50999450683594,253.2100067138672,253.6699981689453,256.6099853515625,256.79998779296875,257.67999267578125,254.4199981689453,256.010009765625,258.75,257.9200134277344,262.3999938964844,264.42999267578125,265.4700012207031,264.760009765625,265.9100036621094,267.9800109863281,269.6000061035156,269.6000061035156,272.5,274.29998779296875,277.1499938964844,274.8699951171875,275.32000732421875,276.5799865722656,277.3900146484375,280.54998779296875,279.8299865722656,279.4599914550781,274.45001220703125,276.260009765625,277.2900085449219,283.4200134277344,286.5,286.6400146484375,282.95001220703125,283.8299865722656,286.0799865722656,284.4599914550781],\"open\":[253.39999389648438,250.97000122070312,249.05999755859375,246.4499969482422,252.14999389648438,250.8699951171875,244.5500030517578,242.1699981689453,241.8000030517578,245.5800018310547,246.5500030517578,246.27000427246094,239.30999755859375,243.9600067138672,247.57000732421875,247.7899932861328,251.77000427246094,251.42999267578125,251.1699981689453,251.0,251.22999572753906,248.1300048828125,245.22000122070312,247.75999450683594,249.97999572753906,255.16000366210938,253.80999755859375,254.2899932861328,257.989990234375,257.8999938964844,259.7699890136719,259.3999938964844,256.07000732421875,259.6300048828125,259.82000732421875,262.7200012207031,265.989990234375,266.1600036621094,266.2300109863281,266.19000244140625,268.8699951171875,270.69000244140625,269.6099853515625,272.82000732421875,278.0299987792969,279.3999938964844,276.8999938964844,275.7200012207031,279.1600036621094,277.5199890136719,282.3500061035156,282.0,282.07000732421875,278.92999267578125,278.0299987792969,278.8999938964844,283.8399963378906,287.3699951171875,289.0,289.42999267578125,288.989990234375,286.239990234375,285.1700134277344],\"type\":\"candlestick\",\"x\":[\"2021-05-03T00:00:00\",\"2021-05-04T00:00:00\",\"2021-05-05T00:00:00\",\"2021-05-06T00:00:00\",\"2021-05-07T00:00:00\",\"2021-05-10T00:00:00\",\"2021-05-11T00:00:00\",\"2021-05-12T00:00:00\",\"2021-05-13T00:00:00\",\"2021-05-14T00:00:00\",\"2021-05-17T00:00:00\",\"2021-05-18T00:00:00\",\"2021-05-19T00:00:00\",\"2021-05-20T00:00:00\",\"2021-05-21T00:00:00\",\"2021-05-24T00:00:00\",\"2021-05-25T00:00:00\",\"2021-05-26T00:00:00\",\"2021-05-27T00:00:00\",\"2021-05-28T00:00:00\",\"2021-06-01T00:00:00\",\"2021-06-02T00:00:00\",\"2021-06-03T00:00:00\",\"2021-06-04T00:00:00\",\"2021-06-07T00:00:00\",\"2021-06-08T00:00:00\",\"2021-06-09T00:00:00\",\"2021-06-10T00:00:00\",\"2021-06-11T00:00:00\",\"2021-06-14T00:00:00\",\"2021-06-15T00:00:00\",\"2021-06-16T00:00:00\",\"2021-06-17T00:00:00\",\"2021-06-18T00:00:00\",\"2021-06-21T00:00:00\",\"2021-06-22T00:00:00\",\"2021-06-23T00:00:00\",\"2021-06-24T00:00:00\",\"2021-06-25T00:00:00\",\"2021-06-28T00:00:00\",\"2021-06-29T00:00:00\",\"2021-06-30T00:00:00\",\"2021-07-01T00:00:00\",\"2021-07-02T00:00:00\",\"2021-07-06T00:00:00\",\"2021-07-07T00:00:00\",\"2021-07-08T00:00:00\",\"2021-07-09T00:00:00\",\"2021-07-12T00:00:00\",\"2021-07-13T00:00:00\",\"2021-07-14T00:00:00\",\"2021-07-15T00:00:00\",\"2021-07-16T00:00:00\",\"2021-07-19T00:00:00\",\"2021-07-20T00:00:00\",\"2021-07-21T00:00:00\",\"2021-07-22T00:00:00\",\"2021-07-23T00:00:00\",\"2021-07-26T00:00:00\",\"2021-07-27T00:00:00\",\"2021-07-28T00:00:00\",\"2021-07-29T00:00:00\",\"2021-07-30T00:00:00\"]}],                        {\"template\":{\"data\":{\"bar\":[{\"error_x\":{\"color\":\"#2a3f5f\"},\"error_y\":{\"color\":\"#2a3f5f\"},\"marker\":{\"line\":{\"color\":\"#E5ECF6\",\"width\":0.5},\"pattern\":{\"fillmode\":\"overlay\",\"size\":10,\"solidity\":0.2}},\"type\":\"bar\"}],\"barpolar\":[{\"marker\":{\"line\":{\"color\":\"#E5ECF6\",\"width\":0.5},\"pattern\":{\"fillmode\":\"overlay\",\"size\":10,\"solidity\":0.2}},\"type\":\"barpolar\"}],\"carpet\":[{\"aaxis\":{\"endlinecolor\":\"#2a3f5f\",\"gridcolor\":\"white\",\"linecolor\":\"white\",\"minorgridcolor\":\"white\",\"startlinecolor\":\"#2a3f5f\"},\"baxis\":{\"endlinecolor\":\"#2a3f5f\",\"gridcolor\":\"white\",\"linecolor\":\"white\",\"minorgridcolor\":\"white\",\"startlinecolor\":\"#2a3f5f\"},\"type\":\"carpet\"}],\"choropleth\":[{\"colorbar\":{\"outlinewidth\":0,\"ticks\":\"\"},\"type\":\"choropleth\"}],\"contour\":[{\"colorbar\":{\"outlinewidth\":0,\"ticks\":\"\"},\"colorscale\":[[0.0,\"#0d0887\"],[0.1111111111111111,\"#46039f\"],[0.2222222222222222,\"#7201a8\"],[0.3333333333333333,\"#9c179e\"],[0.4444444444444444,\"#bd3786\"],[0.5555555555555556,\"#d8576b\"],[0.6666666666666666,\"#ed7953\"],[0.7777777777777778,\"#fb9f3a\"],[0.8888888888888888,\"#fdca26\"],[1.0,\"#f0f921\"]],\"type\":\"contour\"}],\"contourcarpet\":[{\"colorbar\":{\"outlinewidth\":0,\"ticks\":\"\"},\"type\":\"contourcarpet\"}],\"heatmap\":[{\"colorbar\":{\"outlinewidth\":0,\"ticks\":\"\"},\"colorscale\":[[0.0,\"#0d0887\"],[0.1111111111111111,\"#46039f\"],[0.2222222222222222,\"#7201a8\"],[0.3333333333333333,\"#9c179e\"],[0.4444444444444444,\"#bd3786\"],[0.5555555555555556,\"#d8576b\"],[0.6666666666666666,\"#ed7953\"],[0.7777777777777778,\"#fb9f3a\"],[0.8888888888888888,\"#fdca26\"],[1.0,\"#f0f921\"]],\"type\":\"heatmap\"}],\"heatmapgl\":[{\"colorbar\":{\"outlinewidth\":0,\"ticks\":\"\"},\"colorscale\":[[0.0,\"#0d0887\"],[0.1111111111111111,\"#46039f\"],[0.2222222222222222,\"#7201a8\"],[0.3333333333333333,\"#9c179e\"],[0.4444444444444444,\"#bd3786\"],[0.5555555555555556,\"#d8576b\"],[0.6666666666666666,\"#ed7953\"],[0.7777777777777778,\"#fb9f3a\"],[0.8888888888888888,\"#fdca26\"],[1.0,\"#f0f921\"]],\"type\":\"heatmapgl\"}],\"histogram\":[{\"marker\":{\"pattern\":{\"fillmode\":\"overlay\",\"size\":10,\"solidity\":0.2}},\"type\":\"histogram\"}],\"histogram2d\":[{\"colorbar\":{\"outlinewidth\":0,\"ticks\":\"\"},\"colorscale\":[[0.0,\"#0d0887\"],[0.1111111111111111,\"#46039f\"],[0.2222222222222222,\"#7201a8\"],[0.3333333333333333,\"#9c179e\"],[0.4444444444444444,\"#bd3786\"],[0.5555555555555556,\"#d8576b\"],[0.6666666666666666,\"#ed7953\"],[0.7777777777777778,\"#fb9f3a\"],[0.8888888888888888,\"#fdca26\"],[1.0,\"#f0f921\"]],\"type\":\"histogram2d\"}],\"histogram2dcontour\":[{\"colorbar\":{\"outlinewidth\":0,\"ticks\":\"\"},\"colorscale\":[[0.0,\"#0d0887\"],[0.1111111111111111,\"#46039f\"],[0.2222222222222222,\"#7201a8\"],[0.3333333333333333,\"#9c179e\"],[0.4444444444444444,\"#bd3786\"],[0.5555555555555556,\"#d8576b\"],[0.6666666666666666,\"#ed7953\"],[0.7777777777777778,\"#fb9f3a\"],[0.8888888888888888,\"#fdca26\"],[1.0,\"#f0f921\"]],\"type\":\"histogram2dcontour\"}],\"mesh3d\":[{\"colorbar\":{\"outlinewidth\":0,\"ticks\":\"\"},\"type\":\"mesh3d\"}],\"parcoords\":[{\"line\":{\"colorbar\":{\"outlinewidth\":0,\"ticks\":\"\"}},\"type\":\"parcoords\"}],\"pie\":[{\"automargin\":true,\"type\":\"pie\"}],\"scatter\":[{\"marker\":{\"colorbar\":{\"outlinewidth\":0,\"ticks\":\"\"}},\"type\":\"scatter\"}],\"scatter3d\":[{\"line\":{\"colorbar\":{\"outlinewidth\":0,\"ticks\":\"\"}},\"marker\":{\"colorbar\":{\"outlinewidth\":0,\"ticks\":\"\"}},\"type\":\"scatter3d\"}],\"scattercarpet\":[{\"marker\":{\"colorbar\":{\"outlinewidth\":0,\"ticks\":\"\"}},\"type\":\"scattercarpet\"}],\"scattergeo\":[{\"marker\":{\"colorbar\":{\"outlinewidth\":0,\"ticks\":\"\"}},\"type\":\"scattergeo\"}],\"scattergl\":[{\"marker\":{\"colorbar\":{\"outlinewidth\":0,\"ticks\":\"\"}},\"type\":\"scattergl\"}],\"scattermapbox\":[{\"marker\":{\"colorbar\":{\"outlinewidth\":0,\"ticks\":\"\"}},\"type\":\"scattermapbox\"}],\"scatterpolar\":[{\"marker\":{\"colorbar\":{\"outlinewidth\":0,\"ticks\":\"\"}},\"type\":\"scatterpolar\"}],\"scatterpolargl\":[{\"marker\":{\"colorbar\":{\"outlinewidth\":0,\"ticks\":\"\"}},\"type\":\"scatterpolargl\"}],\"scatterternary\":[{\"marker\":{\"colorbar\":{\"outlinewidth\":0,\"ticks\":\"\"}},\"type\":\"scatterternary\"}],\"surface\":[{\"colorbar\":{\"outlinewidth\":0,\"ticks\":\"\"},\"colorscale\":[[0.0,\"#0d0887\"],[0.1111111111111111,\"#46039f\"],[0.2222222222222222,\"#7201a8\"],[0.3333333333333333,\"#9c179e\"],[0.4444444444444444,\"#bd3786\"],[0.5555555555555556,\"#d8576b\"],[0.6666666666666666,\"#ed7953\"],[0.7777777777777778,\"#fb9f3a\"],[0.8888888888888888,\"#fdca26\"],[1.0,\"#f0f921\"]],\"type\":\"surface\"}],\"table\":[{\"cells\":{\"fill\":{\"color\":\"#EBF0F8\"},\"line\":{\"color\":\"white\"}},\"header\":{\"fill\":{\"color\":\"#C8D4E3\"},\"line\":{\"color\":\"white\"}},\"type\":\"table\"}]},\"layout\":{\"annotationdefaults\":{\"arrowcolor\":\"#2a3f5f\",\"arrowhead\":0,\"arrowwidth\":1},\"autotypenumbers\":\"strict\",\"coloraxis\":{\"colorbar\":{\"outlinewidth\":0,\"ticks\":\"\"}},\"colorscale\":{\"diverging\":[[0,\"#8e0152\"],[0.1,\"#c51b7d\"],[0.2,\"#de77ae\"],[0.3,\"#f1b6da\"],[0.4,\"#fde0ef\"],[0.5,\"#f7f7f7\"],[0.6,\"#e6f5d0\"],[0.7,\"#b8e186\"],[0.8,\"#7fbc41\"],[0.9,\"#4d9221\"],[1,\"#276419\"]],\"sequential\":[[0.0,\"#0d0887\"],[0.1111111111111111,\"#46039f\"],[0.2222222222222222,\"#7201a8\"],[0.3333333333333333,\"#9c179e\"],[0.4444444444444444,\"#bd3786\"],[0.5555555555555556,\"#d8576b\"],[0.6666666666666666,\"#ed7953\"],[0.7777777777777778,\"#fb9f3a\"],[0.8888888888888888,\"#fdca26\"],[1.0,\"#f0f921\"]],\"sequentialminus\":[[0.0,\"#0d0887\"],[0.1111111111111111,\"#46039f\"],[0.2222222222222222,\"#7201a8\"],[0.3333333333333333,\"#9c179e\"],[0.4444444444444444,\"#bd3786\"],[0.5555555555555556,\"#d8576b\"],[0.6666666666666666,\"#ed7953\"],[0.7777777777777778,\"#fb9f3a\"],[0.8888888888888888,\"#fdca26\"],[1.0,\"#f0f921\"]]},\"colorway\":[\"#636efa\",\"#EF553B\",\"#00cc96\",\"#ab63fa\",\"#FFA15A\",\"#19d3f3\",\"#FF6692\",\"#B6E880\",\"#FF97FF\",\"#FECB52\"],\"font\":{\"color\":\"#2a3f5f\"},\"geo\":{\"bgcolor\":\"white\",\"lakecolor\":\"white\",\"landcolor\":\"#E5ECF6\",\"showlakes\":true,\"showland\":true,\"subunitcolor\":\"white\"},\"hoverlabel\":{\"align\":\"left\"},\"hovermode\":\"closest\",\"mapbox\":{\"style\":\"light\"},\"paper_bgcolor\":\"white\",\"plot_bgcolor\":\"#E5ECF6\",\"polar\":{\"angularaxis\":{\"gridcolor\":\"white\",\"linecolor\":\"white\",\"ticks\":\"\"},\"bgcolor\":\"#E5ECF6\",\"radialaxis\":{\"gridcolor\":\"white\",\"linecolor\":\"white\",\"ticks\":\"\"}},\"scene\":{\"xaxis\":{\"backgroundcolor\":\"#E5ECF6\",\"gridcolor\":\"white\",\"gridwidth\":2,\"linecolor\":\"white\",\"showbackground\":true,\"ticks\":\"\",\"zerolinecolor\":\"white\"},\"yaxis\":{\"backgroundcolor\":\"#E5ECF6\",\"gridcolor\":\"white\",\"gridwidth\":2,\"linecolor\":\"white\",\"showbackground\":true,\"ticks\":\"\",\"zerolinecolor\":\"white\"},\"zaxis\":{\"backgroundcolor\":\"#E5ECF6\",\"gridcolor\":\"white\",\"gridwidth\":2,\"linecolor\":\"white\",\"showbackground\":true,\"ticks\":\"\",\"zerolinecolor\":\"white\"}},\"shapedefaults\":{\"line\":{\"color\":\"#2a3f5f\"}},\"ternary\":{\"aaxis\":{\"gridcolor\":\"white\",\"linecolor\":\"white\",\"ticks\":\"\"},\"baxis\":{\"gridcolor\":\"white\",\"linecolor\":\"white\",\"ticks\":\"\"},\"bgcolor\":\"#E5ECF6\",\"caxis\":{\"gridcolor\":\"white\",\"linecolor\":\"white\",\"ticks\":\"\"}},\"title\":{\"x\":0.05},\"xaxis\":{\"automargin\":true,\"gridcolor\":\"white\",\"linecolor\":\"white\",\"ticks\":\"\",\"title\":{\"standoff\":15},\"zerolinecolor\":\"white\",\"zerolinewidth\":2},\"yaxis\":{\"automargin\":true,\"gridcolor\":\"white\",\"linecolor\":\"white\",\"ticks\":\"\",\"title\":{\"standoff\":15},\"zerolinecolor\":\"white\",\"zerolinewidth\":2}}}},                        {\"responsive\": true}                    ).then(function(){\n",
       "                            \n",
       "var gd = document.getElementById('bd92eba8-7dcb-4775-893b-baea2eb46bc6');\n",
       "var x = new MutationObserver(function (mutations, observer) {{\n",
       "        var display = window.getComputedStyle(gd).display;\n",
       "        if (!display || display === 'none') {{\n",
       "            console.log([gd, 'removed!']);\n",
       "            Plotly.purge(gd);\n",
       "            observer.disconnect();\n",
       "        }}\n",
       "}});\n",
       "\n",
       "// Listen for the removal of the full notebook cells\n",
       "var notebookContainer = gd.closest('#notebook-container');\n",
       "if (notebookContainer) {{\n",
       "    x.observe(notebookContainer, {childList: true});\n",
       "}}\n",
       "\n",
       "// Listen for the clearing of the current output cell\n",
       "var outputEl = gd.closest('.output');\n",
       "if (outputEl) {{\n",
       "    x.observe(outputEl, {childList: true});\n",
       "}}\n",
       "\n",
       "                        })                };                });            </script>        </div>"
      ]
     },
     "metadata": {},
     "output_type": "display_data"
    }
   ],
   "source": [
    "# https://plotly.com/python/candlestick-charts/\n",
    "\n",
    "fig = go.Figure(data=[go.Candlestick(x=msft_data.index,\n",
    "                open=msft_data['open'],\n",
    "                high=msft_data['high'],\n",
    "                low=msft_data['low'],\n",
    "                close=msft_data['close'])])\n",
    "fig.show()"
   ]
  },
  {
   "cell_type": "markdown",
   "metadata": {
    "id": "e-uQD39c3u4f"
   },
   "source": [
    "https://towardsdatascience.com/trading-toolbox-03-ohlc-charts-95b48bb9d748\n",
    "\n"
   ]
  },
  {
   "cell_type": "markdown",
   "metadata": {
    "id": "tn5n_rjSpDu2"
   },
   "source": [
    "https://pypi.org/project/googlefinance/"
   ]
  },
  {
   "cell_type": "markdown",
   "metadata": {
    "id": "UyQZ_Z05sQSu"
   },
   "source": [
    "https://pypi.org/project/yfinance/#description"
   ]
  },
  {
   "cell_type": "markdown",
   "metadata": {
    "id": "S4l3qajJsR2E"
   },
   "source": [
    "https://aroussi.com/post/python-yahoo-finance"
   ]
  }
 ],
 "metadata": {
  "colab": {
   "collapsed_sections": [
    "ccYLZsaM-i_P",
    "2UDFE8rR-qLU"
   ],
   "include_colab_link": true,
   "name": "Main_world.ipynb",
   "provenance": []
  },
  "kernelspec": {
   "display_name": "Python 3 (ipykernel)",
   "language": "python",
   "name": "python3"
  },
  "language_info": {
   "codemirror_mode": {
    "name": "ipython",
    "version": 3
   },
   "file_extension": ".py",
   "mimetype": "text/x-python",
   "name": "python",
   "nbconvert_exporter": "python",
   "pygments_lexer": "ipython3",
   "version": "3.9.6"
  }
 },
 "nbformat": 4,
 "nbformat_minor": 1
}
