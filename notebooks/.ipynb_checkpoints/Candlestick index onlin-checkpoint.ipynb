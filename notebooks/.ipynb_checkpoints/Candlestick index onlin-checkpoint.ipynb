{
 "cells": [
  {
   "cell_type": "markdown",
   "id": "6a00ab13",
   "metadata": {},
   "source": [
    "# Imports"
   ]
  },
  {
   "cell_type": "code",
   "execution_count": 1,
   "id": "d8e2613d",
   "metadata": {
    "ExecuteTime": {
     "end_time": "2021-08-12T20:42:45.862630Z",
     "start_time": "2021-08-12T20:42:45.196461Z"
    }
   },
   "outputs": [],
   "source": [
    "try:\n",
    "    from requests_html import HTMLSession\n",
    "except: \n",
    "    !pip install requests_html\n",
    "    from requests_html import HTMLSession\n",
    "    \n",
    "try:\n",
    "    import pandas as pd\n",
    "    import numpy as np\n",
    "except:\n",
    "    !pip install pandas\n",
    "    import pandas as pd\n",
    "    import numpy as np\n",
    "\n",
    "try:\n",
    "    import plotly.graph_objects as go\n",
    "    import plotly.subplots as ms\n",
    "except:\n",
    "    !pip install plotly\n",
    "    import plotly.graph_objects as go\n",
    "    import plotly.subplots as ms\n",
    "    \n",
    "try:\n",
    "    from datetime import datetime\n",
    "except:\n",
    "    !pip install datetime\n",
    "    from datetime import datetime\n",
    "    \n",
    "try:\n",
    "    import time\n",
    "except:\n",
    "    !pip install time\n",
    "    import time\n",
    "    \n",
    "try:\n",
    "    import requests\n",
    "except:\n",
    "    !pip install requests\n",
    "    import requests\n",
    "\n",
    "import matplotlib.pyplot as plt\n",
    "import numpy as np\n",
    "from IPython.display import clear_output\n",
    "import os.path\n",
    "\n",
    "import warnings\n",
    "warnings.filterwarnings('ignore')"
   ]
  },
  {
   "cell_type": "markdown",
   "id": "a54e4f8d",
   "metadata": {},
   "source": [
    "# Functions"
   ]
  },
  {
   "cell_type": "code",
   "execution_count": 2,
   "id": "b0aa2728",
   "metadata": {
    "ExecuteTime": {
     "end_time": "2021-08-12T20:42:45.866920Z",
     "start_time": "2021-08-12T20:42:45.863876Z"
    },
    "hide_input": true
   },
   "outputs": [],
   "source": [
    "def market_info(market):\n",
    "    market = market.replace('(', '')\n",
    "    market = market.replace(')', '')\n",
    "    market = market.replace(' ', '-')\n",
    "\n",
    "    url = 'https://www.ingsprinters.nl/sprinters/' + market\n",
    "\n",
    "    r = HTMLSession().get(url)\n",
    "\n",
    "    value = r.html.find('span', clean=True)\n",
    "    \n",
    "    return float(value[4].text.strip().replace('.', '').replace(',', '.'))"
   ]
  },
  {
   "cell_type": "code",
   "execution_count": 3,
   "id": "f3b7ffc6",
   "metadata": {
    "ExecuteTime": {
     "end_time": "2021-08-12T20:42:45.871110Z",
     "start_time": "2021-08-12T20:42:45.868290Z"
    },
    "hide_input": true
   },
   "outputs": [],
   "source": [
    "def csv_log_file(ticker, df):\n",
    "    if os.path.isfile('../data/' + ticker + '_log.csv'):\n",
    "        df.to_csv('../data/' + ticker + '_log.csv',\n",
    "                       sep=';',\n",
    "                       decimal=',',\n",
    "                       index=False)\n",
    "    else:\n",
    "        df.to_csv('../data/' + ticker + '_log.csv',\n",
    "                  sep=';',\n",
    "                  decimal=',',\n",
    "                  index=False)"
   ]
  },
  {
   "cell_type": "code",
   "execution_count": 4,
   "id": "601b386d",
   "metadata": {
    "ExecuteTime": {
     "end_time": "2021-08-12T20:42:45.879675Z",
     "start_time": "2021-08-12T20:42:45.872924Z"
    }
   },
   "outputs": [],
   "source": [
    "def find_pattern(df, pattern_list, name='all'):\n",
    "    all_pattern_data = {}\n",
    "\n",
    "    open = df['open'].values\n",
    "    high = df['high'].values\n",
    "    low = df['low'].values\n",
    "    close = df['close'].values\n",
    "\n",
    "    open_h1 = df['open'].shift(1).values\n",
    "    high_h1 = df['high'].shift(1).values\n",
    "    low_h1 = df['low'].shift(1).values\n",
    "    close_h1 = df['close'].shift(1).values\n",
    "\n",
    "    open_h2 = df['open'].shift(2).values\n",
    "    high_h2 = df['high'].shift(2).values\n",
    "    low_h2 = df['low'].shift(2).values\n",
    "    close_h2 = df['close'].shift(2).values\n",
    "\n",
    "    temp = {}\n",
    "    for i in pattern_list:\n",
    "        temp[i] = is_pattern(i, [open, high, low, close],\n",
    "                             [open_h1, high_h1, low_h1, close_h1],\n",
    "                             [open_h2, high_h2, low_h2, close_h2])\n",
    "    drop_list = []\n",
    "\n",
    "    for i in temp.keys():\n",
    "        x = 0\n",
    "        for j in range(len(temp[i])):\n",
    "            if temp[i][j] == False:\n",
    "                x = x + 1\n",
    "        if x == 6:\n",
    "            drop_list = drop_list + [i]\n",
    "    \n",
    "    result=pd.DataFrame(temp).drop(drop_list, axis = 1)\n",
    "\n",
    "    return result"
   ]
  },
  {
   "cell_type": "code",
   "execution_count": 5,
   "id": "2a2dc244",
   "metadata": {
    "ExecuteTime": {
     "end_time": "2021-08-12T20:42:45.888479Z",
     "start_time": "2021-08-12T20:42:45.880889Z"
    }
   },
   "outputs": [],
   "source": [
    "def INGSprinter_candlestick(ticker, refreshtime, interval, file_mgmt,\n",
    "                            candlestick, candlestick_timer, pattern_list):\n",
    "    i = 0\n",
    "    if file_mgmt and os.path.isfile('../data/' + ticker + '_log.csv'):\n",
    "        df = pd.read_csv('../data/' + ticker + '_log.csv',\n",
    "                         sep=';',\n",
    "                         decimal=',')\n",
    "        df = df[df.Time >= datetime.today().strftime('%Y-%m-%d')]\n",
    "    else:\n",
    "        df = pd.DataFrame(columns=['Time', 'Rate'])\n",
    "    while i < refreshtime / interval:\n",
    "        a = datetime.now()\n",
    "\n",
    "        df = df.append({\n",
    "            'Time': datetime.now(),\n",
    "            'Rate': market_info(ticker)\n",
    "        },\n",
    "                       ignore_index=True)\n",
    "\n",
    "        print(market_info(ticker), datetime.now())\n",
    "\n",
    "        if candlestick:\n",
    "            df_copy = df.copy()\n",
    "            df_copy['Time'] = pd.to_datetime(df_copy['Time'])\n",
    "            df_copy = df_copy.set_index('Time')\n",
    "            df_new = df_copy['Rate'].resample(candlestick_timer).ohlc()\n",
    "\n",
    "            #check if df_new has at least 6 rows\n",
    "            if df_new.shape[0] > 5:\n",
    "                result = find_pattern(df_new.dropna().tail(6), pattern_list)\n",
    "                display(result.style.format(\"{}\"))\n",
    "\n",
    "\n",
    "            fig = go.Figure(data=[\n",
    "                go.Candlestick(x=df_new.index,\n",
    "                               open=df_new['open'],\n",
    "                               high=df_new['high'],\n",
    "                               low=df_new['low'],\n",
    "                               close=df_new['close'])\n",
    "            ])\n",
    "            fig.show()\n",
    "\n",
    "        else:\n",
    "            df.plot(x='Time', y=['Rate'], figsize=(16, 9))\n",
    "            plt.show()\n",
    "\n",
    "        b = datetime.now()\n",
    "\n",
    "        if interval - (b - a).total_seconds() > 0:\n",
    "            time.sleep(interval - (b - a).total_seconds())\n",
    "        if file_mgmt:\n",
    "            csv_log_file(ticker, df)\n",
    "\n",
    "        clear_output(wait=True)\n",
    "        i = i + 1"
   ]
  },
  {
   "cell_type": "code",
   "execution_count": 6,
   "id": "cb13a96a",
   "metadata": {
    "ExecuteTime": {
     "end_time": "2021-08-12T20:42:45.971213Z",
     "start_time": "2021-08-12T20:42:45.889764Z"
    },
    "hide_input": true
   },
   "outputs": [],
   "source": [
    "import numpy as np\n",
    "\n",
    "np.seterr(divide='ignore', invalid='ignore')\n",
    "\n",
    "\n",
    "def is_pattern(pattern, ohlc, ohlc_h1, ohlc_h2):\n",
    "    open = ohlc[0]\n",
    "    high = ohlc[1]\n",
    "    low = ohlc[2]\n",
    "    close = ohlc[3]\n",
    "\n",
    "    open_h1 = ohlc_h1[0]\n",
    "    high_h1 = ohlc_h1[1]\n",
    "    low_h1 = ohlc_h1[2]\n",
    "    close_h1 = ohlc_h1[3]\n",
    "\n",
    "    open_h2 = ohlc_h2[0]\n",
    "    high_h2 = ohlc_h2[1]\n",
    "    low_h2 = ohlc_h2[2]\n",
    "    close_h2 = ohlc_h2[3]\n",
    "\n",
    "    if pattern == 'doji':\n",
    "        return (abs(close - open) / (high - low) < 0.05) & \\\n",
    "        (4*(high - np.maximum(close, open)) > (high - low)) & \\\n",
    "        (4*(np.minimum(close, open) - low) > (high - low)) & \\\n",
    "        (high > low)\n",
    "    else:\n",
    "        pass\n",
    "\n",
    "    if pattern == 'gravestone_doji':\n",
    "        return (abs(close - open) / (high - low) < 0.05) & \\\n",
    "        (5*(high - np.maximum(close, open)) > (high - low)) & \\\n",
    "        (5*(np.minimum(close, open) - low) < (high - low)) & \\\n",
    "        (high > low)\n",
    "    else:\n",
    "        pass\n",
    "\n",
    "    if pattern == 'dragonfly_doji':\n",
    "        return (abs(close - open) / (high - low) < 0.05) & \\\n",
    "        (5*(high - np.maximum(close, open)) < (high - low)) & \\\n",
    "        (5*(np.minimum(close, open) - low) > (high - low)) & \\\n",
    "        (high > low)\n",
    "    else:\n",
    "        pass\n",
    "\n",
    "    if pattern == 'bullish_spinning_top':\n",
    "        return (abs(close - open) / (high - low) > 0.1) & \\\n",
    "        (abs(close - open) / (high - low) < 0.2) & \\\n",
    "        (5*(high - np.maximum(close, open)) > (high - low)) & \\\n",
    "        (5*(np.minimum(close, open) - low) > (high - low)) & \\\n",
    "        (close > open)\n",
    "    else:\n",
    "        pass\n",
    "\n",
    "    if pattern == 'bearish_spinning_top':\n",
    "        return (abs(close - open) / (high - low) > 0.1) & \\\n",
    "        (abs(close - open) / (high - low) < 0.2) & \\\n",
    "        (5*(high - np.maximum(close, open)) > (high - low)) & \\\n",
    "        (5*(np.minimum(close, open) - low) > (high - low)) & \\\n",
    "        (close < open)\n",
    "    else:\n",
    "        pass\n",
    "\n",
    "    if pattern == 'inverted_Hammer':\n",
    "        return (abs(close - open) / (high - low) > 0.1) & \\\n",
    "        (abs(close - open) / (high - low) < 0.3) & \\\n",
    "        (5*(high - np.maximum(close, open)) > (high - low)) & \\\n",
    "        (10*(np.minimum(close, open) - low) < (high - low)) & \\\n",
    "        (close > open)\n",
    "    else:\n",
    "        pass\n",
    "\n",
    "    if pattern == 'shootingstar':\n",
    "        return (abs(close - open) / (high - low) > 0.1) & \\\n",
    "        (abs(close - open) / (high - low) < 0.3) & \\\n",
    "        (5*(high - np.maximum(close, open)) > (high - low)) & \\\n",
    "        (10*(np.minimum(close, open) - low) < (high - low)) & \\\n",
    "        (close < open)\n",
    "    else:\n",
    "        pass\n",
    "\n",
    "    if pattern == 'hanging_man':\n",
    "        return (abs(close - open) / (high - low) > 0.1) & \\\n",
    "        (abs(close - open) / (high - low) < 0.3) & \\\n",
    "        (10*(high - np.maximum(close, open)) < (high - low)) & \\\n",
    "        (5*(np.minimum(close, open) - low) > (high - low)) & \\\n",
    "        (close < open)\n",
    "    else:\n",
    "        pass\n",
    "\n",
    "    if pattern == 'hammer':\n",
    "        return (abs(close - open) / (high - low) > 0.1) & \\\n",
    "        (abs(close - open) / (high - low) < 0.3) & \\\n",
    "        (10*(high - np.maximum(close, open)) < (high - low)) & \\\n",
    "        (5*(np.minimum(close, open) - low) > (high - low)) & \\\n",
    "        (close > open)\n",
    "    else:\n",
    "        pass\n",
    "\n",
    "    if pattern == 'bullish_marubozu':\n",
    "        return (abs(close - open) >= 0.95*(high - low))& \\\n",
    "        (close > open)\n",
    "    else:\n",
    "        pass\n",
    "\n",
    "    if pattern == 'bearish_marubozu':\n",
    "        return (abs(close - open) >= 0.95*(high - low))& \\\n",
    "        (close < open)\n",
    "    else:\n",
    "        pass\n",
    "\n",
    "    if pattern == 'bullish_belt_hold':\n",
    "        return (abs(close - open) >= 0.90*(high - low))& \\\n",
    "        (abs(open - low)*100 < (high - low) ) & \\\n",
    "        (high > close) & \\\n",
    "        (close > open)\n",
    "    else:\n",
    "        pass\n",
    "\n",
    "    if pattern == 'bearish_belt_hold':\n",
    "        return (abs(close - open) >= 0.90*(high - low))& \\\n",
    "        (abs(open - high)*100 < (high - low)) & \\\n",
    "        (low < close) & \\\n",
    "        (close < open)\n",
    "    else:\n",
    "        pass\n",
    "\n",
    "# Double\n",
    "\n",
    "    if pattern == 'bullish_engulfing':\n",
    "        return (open_h1 > close_h1) & \\\n",
    "        (close > open) & \\\n",
    "        (open_h1 < close) & \\\n",
    "        (close_h1 > open) & \\\n",
    "        (high_h1 < high) & \\\n",
    "        (low_h1 > low)\n",
    "    else:\n",
    "        pass\n",
    "\n",
    "    if pattern == 'bearish_engulfing':\n",
    "        return (open_h1 < close_h1) & \\\n",
    "        (close < open) & \\\n",
    "        (open_h1 > close) & \\\n",
    "        (close_h1 < open) & \\\n",
    "        (high_h1 < high) & \\\n",
    "        (low_h1 > low)\n",
    "    else:\n",
    "        pass\n",
    "\n",
    "    if pattern == 'tweezer_top':\n",
    "        return (open_h1 < close_h1) & \\\n",
    "        (close < open) & \\\n",
    "        (20*abs(high_h1 - high) < (high - low))\n",
    "    else:\n",
    "        pass\n",
    "\n",
    "    if pattern == 'tweezer_bottom':\n",
    "        return (open_h1 > close_h1) & \\\n",
    "        (close > open) & \\\n",
    "        (20*abs(low_h1 - low) < (high - low))\n",
    "    else:\n",
    "        pass\n",
    "\n",
    "    if pattern == 'bullish_separating_line':\n",
    "        return (open_h1 < open) & \\\n",
    "        (open_h1 > close_h1) & \\\n",
    "        (open < close)\n",
    "    else:\n",
    "        pass\n",
    "\n",
    "    if pattern == 'bearish_separating_line':\n",
    "        return (open_h1 > open) & \\\n",
    "        (open_h1 < close_h1) & \\\n",
    "        (open > close)\n",
    "    else:\n",
    "        pass\n",
    "\n",
    "    if pattern == 'piercing_line':\n",
    "        return (open_h1 > close_h1) & \\\n",
    "        (open < close) & \\\n",
    "        (close_h1 > open) & \\\n",
    "        (open_h1 > close) & \\\n",
    "        ((open_h1 - close_h1) < 2*(close - close_h1))\n",
    "    else:\n",
    "        pass\n",
    "\n",
    "    if pattern == 'dark_cloud_cover':\n",
    "        return (open_h1 < close_h1) & \\\n",
    "        (open > close) & \\\n",
    "        (close_h1 < open) & \\\n",
    "        (open_h1 < close) & \\\n",
    "        ((close_h1 - open_h1) < 2*(close_h1 - close))\n",
    "    else:\n",
    "        pass\n",
    "\n",
    "    if pattern == 'mathing_high':\n",
    "        return (open_h1 < close_h1) & \\\n",
    "        (close > open) & \\\n",
    "        (20*abs(high_h1 - high) < (high - low))\n",
    "    else:\n",
    "        pass\n",
    "\n",
    "    if pattern == 'mathing_low':\n",
    "        return (open_h1 > close_h1) & \\\n",
    "        (close < open) & \\\n",
    "        (20*abs(low_h1 - low) < (high - low))\n",
    "    else:\n",
    "        pass\n",
    "\n",
    "    if pattern == 'bullish_harami':\n",
    "        return (open_h1 > close_h1) &\\\n",
    "        (close > open) &\\\n",
    "        (open_h1 > close) &\\\n",
    "        (close_h1  < open) &\\\n",
    "        ((open_h1 - close_h1) > 4*(close - open))\n",
    "    else:\n",
    "        pass\n",
    "\n",
    "    if pattern == 'bearish_harami':\n",
    "        return (open_h1 < close_h1) &\\\n",
    "        (close < open) &\\\n",
    "        (open_h1 < close) &\\\n",
    "        (close_h1 > open) &\\\n",
    "        ((close_h1 - open_h1) > 4*(open - close))\n",
    "    else:\n",
    "        pass\n",
    "\n",
    "    if pattern == 'bullish_harami_cross':\n",
    "        return (open_h1 > close_h1) & \\\n",
    "        (open_h1 > close) & \\\n",
    "        (close_h1  < open) & \\\n",
    "        (abs(close - open) / (high - low) < 0.05) & \\\n",
    "        (4*(high - np.maximum(close, open)) > (high - low)) & \\\n",
    "        (4*(np.minimum(close, open) - low) > (high - low))\n",
    "    else:\n",
    "        pass\n",
    "\n",
    "    if pattern == 'bearish_harami_cross':\n",
    "        return (open_h1 < close_h1) & \\\n",
    "        (open_h1 < close) & \\\n",
    "        (close_h1  > open) & \\\n",
    "        (abs(close - open) / (high - low) < 0.05) & \\\n",
    "        (4*(high - np.maximum(close, open)) > (high - low)) & \\\n",
    "        (4*(np.minimum(close, open) - low) > (high - low))\n",
    "    else:\n",
    "        pass\n",
    "\n",
    "    if pattern == 'descending_hawk':\n",
    "        return (open_h1 < close_h1) & \\\n",
    "        (close > open) & \\\n",
    "        (open_h1 < open) & \\\n",
    "        (close_h1  > close)\n",
    "    else:\n",
    "        pass\n",
    "\n",
    "    if pattern == 'homing_pigeon':\n",
    "        return (open_h1 > close_h1) & \\\n",
    "        (close < open) & \\\n",
    "        (open_h1 > open) & \\\n",
    "        (close_h1 < close)\n",
    "    else:\n",
    "        pass\n",
    "\n",
    "    if pattern == 'bullish_in_neck':\n",
    "        return (open_h1 < close_h1) & \\\n",
    "        (close < open) & \\\n",
    "        (20*abs(close_h1 - close) < (high - low_h1))\n",
    "    else:\n",
    "        pass\n",
    "\n",
    "    if pattern == 'bearish_in_neck':\n",
    "        return (open_h1 > close_h1) & \\\n",
    "        (close > open) & \\\n",
    "        (20*abs(close_h1 - close) < (high_h1 - low))\n",
    "    else:\n",
    "        pass\n",
    "\n",
    "    if pattern == 'bullish_on_neck':\n",
    "        return (open_h1 < close_h1) & \\\n",
    "        (close < open) & \\\n",
    "        (20*abs(high_h1 - low) < (high - low_h1))\n",
    "    else:\n",
    "        pass\n",
    "\n",
    "    if pattern == 'bearish_on_neck':\n",
    "        return (open_h1 > close_h1) & \\\n",
    "        (close > open) & \\\n",
    "        (20*abs(low_h1 - high) < (high_h1 - low))\n",
    "    else:\n",
    "        pass\n",
    "\n",
    "    if pattern == 'bullish_kicking':\n",
    "        return (open_h1 > close_h1) & \\\n",
    "        (open < close) & \\\n",
    "        ((open_h1 - close_h1) > 0.9*(high_h1 - low_h1)) & \\\n",
    "        ((close_h1 - open_h1) > 0.9*(high - low)) & \\\n",
    "        (open_h1 < open)\n",
    "    else:\n",
    "        pass\n",
    "\n",
    "    if pattern == 'bearish_kicking':\n",
    "        return (open_h1 < close_h1) & \\\n",
    "        (open > close) & \\\n",
    "        ((close_h1 - open_h1) > 0.9*(high_h1 - low_h1)) & \\\n",
    "        ((open - close) > 0.9*(high - low)) & \\\n",
    "        (open_h1 > open)\n",
    "    else:\n",
    "        pass\n",
    "\n",
    "\n",
    "#triple\n",
    "\n",
    "    if pattern == 'morning_star':\n",
    "        return (open_h2 > close_h2) &\\\n",
    "        (3*abs(close_h1 - open_h1) < abs(close_h2 - open_h2)) &\\\n",
    "        (3*abs(close_h1 - open_h1) < abs(close - open)) &\\\n",
    "        (np.maximum(open_h1, close_h1) < close_h2) &\\\n",
    "        (np.maximum(open_h1, close_h1) < open) &\\\n",
    "        (high_h1 > low_h1) &\\\n",
    "        (close > open)\n",
    "    else:\n",
    "        pass\n",
    "\n",
    "    if pattern == 'evening_star':\n",
    "        return (open_h2 < close_h2) &\\\n",
    "        (3*abs(close_h1 - open_h1) < abs(close_h2 - open_h2)) &\\\n",
    "        (3*abs(close_h1 - open_h1) < abs(close - open)) &\\\n",
    "        (np.minimum(open_h1, close_h1) > close_h2) &\\\n",
    "        (np.minimum(open_h1, close_h1) > open) &\\\n",
    "        (high_h1 > low_h1) &\\\n",
    "        (close < open)\n",
    "    else:\n",
    "        pass\n",
    "\n",
    "    if pattern == 'morning_doji_star':\n",
    "        return (open_h2 > close_h2) &\\\n",
    "        (abs(close_h1 - open_h1)/(high_h1 - low_h1) < 0.05) &\\\n",
    "        (np.minimum(open_h1, close_h1) < close_h2) &\\\n",
    "        (np.minimum(open_h1, close_h1) < open) &\\\n",
    "        (close > open)\n",
    "    else:\n",
    "        pass\n",
    "\n",
    "    if pattern == 'evening_doji_star':\n",
    "        return (open_h2 < close_h2) &\\\n",
    "        (abs(close_h1 - open_h1)/(high_h1 - low_h1) < 0.05) &\\\n",
    "        (np.minimum(open_h1, close_h1) > close_h2) &\\\n",
    "        (np.minimum(open_h1, close_h1) > open) &\\\n",
    "        (close < open)\n",
    "    else:\n",
    "        pass\n",
    "\n",
    "    if pattern == 'three_white_soldier':\n",
    "        return (open_h2 < close_h2) &\\\n",
    "        (2*abs(close_h2 - open_h2) > (high_h2 - low_h2)) &\\\n",
    "        (open_h1 < close_h1) &\\\n",
    "        (2*abs(close_h1 - open_h1) > (high_h1 - low_h1)) &\\\n",
    "        (open < close) &\\\n",
    "        (2*abs(close - open) > (high - low)) &\\\n",
    "        (0.5*(close_h2 + open_h2) < 0.5*(close_h1 + open_h1)) &\\\n",
    "        (0.5*(close_h1 + open_h1) < 0.5*(close + open)) &\\\n",
    "        (close_h1 > close_h2) &\\\n",
    "        (close > close_h1)\n",
    "    else:\n",
    "        pass\n",
    "\n",
    "    if pattern == 'three_black_crow':\n",
    "        return (open_h2 > close_h2) &\\\n",
    "        (2*abs(close_h2 - open_h2) > (high_h2 - low_h2)) &\\\n",
    "        (open_h1 > close_h1) &\\\n",
    "        (2*abs(close_h1 - open_h1) > (high_h1 - low_h1)) &\\\n",
    "        (open > close) &\\\n",
    "        (2*abs(close - open) > (high - low)) &\\\n",
    "        (0.5*(close_h2 + open_h2) > 0.5*(close_h1 + open_h1)) &\\\n",
    "        (0.5*(close_h1 + open_h1) > 0.5*(close + open)) &\\\n",
    "        (close_h1 < close_h2) &\\\n",
    "        (close < close_h1)\n",
    "    else:\n",
    "        pass\n",
    "\n",
    "    if pattern == 'three_inside_up':\n",
    "        return (open_h2 > close_h2) &\\\n",
    "        (open_h1 < close_h1) &\\\n",
    "        (open < close) &\\\n",
    "        (open_h1 < open) &\\\n",
    "        ((open + close) > (open_h1 + close_h1)) &\\\n",
    "        (open_h2 > close_h1) &\\\n",
    "        (close_h2 < open_h1)\n",
    "    else:\n",
    "        pass\n",
    "\n",
    "    if pattern == 'three_inside_down':\n",
    "        return (open_h2 < close_h2) &\\\n",
    "        (open_h1 > close_h1) &\\\n",
    "        (open > close) &\\\n",
    "        (open_h1 > open) &\\\n",
    "        ((open + close) < (open_h1 + close_h1))&\\\n",
    "        (close_h2 > open_h1) &\\\n",
    "        (open_h2 < close_h1)\n",
    "    else:\n",
    "        pass\n",
    "\n",
    "    if pattern == 'deliberation':\n",
    "        return (open_h2 < close_h2) &\\\n",
    "        (2*abs(close_h2 - open_h2) > (high_h2 - low_h2)) &\\\n",
    "        (open_h1 < close_h1) &\\\n",
    "        (2*abs(close_h1 - open_h1) > (high_h1 - low_h1)) &\\\n",
    "        (open < close) &\\\n",
    "        (3*abs(close - open) < abs(close_h1 - open_h1)) &\\\n",
    "        (0.5*(close_h2 + open_h2) < 0.5*(close_h1 + open_h1)) &\\\n",
    "        (0.5*(close_h1 + open_h1) < 0.5*(close + open)) &\\\n",
    "        (close_h1 > close_h2) &\\\n",
    "        (close > close_h1)\n",
    "    else:\n",
    "        pass\n",
    "\n",
    "    if pattern == 'three_outside_up':\n",
    "        return (open_h2 > close_h2) &\\\n",
    "        (open_h1 < close_h1) &\\\n",
    "        (open < close) &\\\n",
    "        (open_h1 < open) &\\\n",
    "        ((open + close) > (open_h1 + close_h1)) &\\\n",
    "        (open_h2 < close_h1) &\\\n",
    "        (close_h2 > open_h1)\n",
    "    else:\n",
    "        pass\n",
    "\n",
    "    if pattern == 'three_outside_down':\n",
    "        return (open_h2 < close_h2) &\\\n",
    "        (open_h1 > close_h1) &\\\n",
    "        (open > close) &\\\n",
    "        (open_h1 > open) &\\\n",
    "        ((open + close) < (open_h1 + close_h1))&\\\n",
    "        (close_h2 < open_h1) &\\\n",
    "        (open_h2 > close_h1)\n",
    "    else:\n",
    "        pass\n",
    "\n",
    "    if pattern == 'bullish_abandoned_baby':\n",
    "        return (open_h2 > close_h2) &\\\n",
    "        (3*abs(close_h1 - open_h1) < abs(close_h2 - open_h2)) &\\\n",
    "        (3*abs(close_h1 - open_h1) < abs(close - open)) &\\\n",
    "        (np.maximum(open_h1, close_h1) < close_h2) &\\\n",
    "        (np.maximum(open_h1, close_h1) < open) &\\\n",
    "        (high_h1 > low_h1) &\\\n",
    "        (high_h1 < low_h2) &\\\n",
    "        (high_h1 < low) &\\\n",
    "        (close > open)\n",
    "    else:\n",
    "        pass\n",
    "\n",
    "    if pattern == 'bearish_abandoned_baby':\n",
    "        return (open_h2 < close_h2) &\\\n",
    "        (3*abs(close_h1 - open_h1) < abs(close_h2 - open_h2)) &\\\n",
    "        (3*abs(close_h1 - open_h1) < abs(close - open)) &\\\n",
    "        (np.minimum(open_h1, close_h1) > close_h2) &\\\n",
    "        (np.minimum(open_h1, close_h1) > open) &\\\n",
    "        (high_h1 > low_h1) &\\\n",
    "        (low_h1 > high_h2) &\\\n",
    "        (low_h1 > high) &\\\n",
    "        (close < open)\n",
    "    else:\n",
    "        pass\n",
    "\n",
    "    if pattern == 'bullish_stick_sandwich':\n",
    "        return (open_h2 > close_h2) &\\\n",
    "        (open_h1 < close_h1) &\\\n",
    "        (open > close) &\\\n",
    "        (open_h1 > close_h2) &\\\n",
    "        (open_h2 < close_h1) &\\\n",
    "        (open > close_h1) &\\\n",
    "        (close < open_h1) &\\\n",
    "        (2*(open_h2 - close_h2) > (high_h2 - low_h2)) &\\\n",
    "        (2*(open - close) > (high - low)) &\\\n",
    "        (20*abs(close_h2 - close) < (high - np.minimum(low_h2,low)))\n",
    "    else:\n",
    "        pass\n",
    "\n",
    "    if pattern == 'bearish_stick_sandwich':\n",
    "        return (open_h2 < close_h2) &\\\n",
    "        (open_h1 > close_h1) &\\\n",
    "        (open < close) &\\\n",
    "        (open_h1 < close_h2) &\\\n",
    "        (open_h2 > close_h1) &\\\n",
    "        (open < close_h1) &\\\n",
    "        (close > open_h1) &\\\n",
    "        (2*(close_h2 - open_h2) > (high_h2 - low_h2)) &\\\n",
    "        (2*(close - open) > (high - low)) &\\\n",
    "        (20*abs(close_h2 - close) < (low - np.maximum(high_h2, high)))\n",
    "    else:\n",
    "        pass\n",
    "\n",
    "    if pattern == 'bullish_side_by_side_white_line':\n",
    "        return (open_h2 < close_h2) &\\\n",
    "        (open_h1 < close_h1) &\\\n",
    "        (open < close) &\\\n",
    "        (2*(close_h2 - open_h2) > (high_h2 - low_h2)) &\\\n",
    "        (2*(close_h1 - open_h1) > (high_h1 - low_h1)) &\\\n",
    "        (2*(close - open) > (high - low)) &\\\n",
    "        (open_h1 > close_h2) &\\\n",
    "        (20*abs(close_h1 - close) < (np.maximum(high, high_h1)-np.minimum(low, low_h1))) &\\\n",
    "        (20*abs(open_h1 - open) < (np.maximum(high, high_h1)-np.minimum(low, low_h1)))\n",
    "    else:\n",
    "        pass\n",
    "\n",
    "    if pattern == 'bearish_side_by_side_black_line':\n",
    "        return (open_h2 > close_h2) &\\\n",
    "        (open_h1 > close_h1) &\\\n",
    "        (open > close) &\\\n",
    "        (2*(open_h2 - close_h2) > (high_h2 - low_h2)) &\\\n",
    "        (2*(open_h1 - close_h1) > (high_h1 - low_h1)) &\\\n",
    "        (2*(open - close) > (high - low)) &\\\n",
    "        (open_h1 < close_h2) &\\\n",
    "        (20*abs(close_h1 - close) < (np.maximum(high, high_h1)-np.minimum(low, low_h1))) &\\\n",
    "        (20*abs(open_h1 - open) < (np.maximum(high, high_h1)-np.minimum(low, low_h1)))\n",
    "    else:\n",
    "        pass\n",
    "\n",
    "    if pattern == 'bearish_side_by_side_white_line':\n",
    "        return (open_h2 > close_h2) &\\\n",
    "        (open_h1 < close_h1) &\\\n",
    "        (open < close) &\\\n",
    "        (2*(open_h2 - close_h2) > (high_h2 - low_h2)) &\\\n",
    "        (2*(close_h1 - open_h1) > (high_h1 - low_h1)) &\\\n",
    "        (2*(close - open) > (high - low)) &\\\n",
    "        (close_h1 < close_h2) &\\\n",
    "        (20*abs(close_h1 - close) < (np.maximum(high, high_h1)-np.minimum(low, low_h1))) &\\\n",
    "        (20*abs(open_h1 - open) < (np.maximum(high, high_h1)-np.minimum(low, low_h1)))\n",
    "    else:\n",
    "        pass\n",
    "\n",
    "    if pattern == 'bullish_side_by_side_black_line':\n",
    "        return (open_h2 < close_h2) &\\\n",
    "        (open_h1 > close_h1) &\\\n",
    "        (open > close) &\\\n",
    "        (2*(close_h2 - open_h2) > (high_h2 - low_h2)) &\\\n",
    "        (2*(open_h1 - close_h1) > (high_h1 - low_h1)) &\\\n",
    "        (2*(open - close) > (high - low)) &\\\n",
    "        (close_h1 > close_h2) &\\\n",
    "        (20*abs(close_h1 - close) < (np.maximum(high, high_h1)-np.minimum(low, low_h1))) &\\\n",
    "        (20*abs(open_h1 - open) < (np.maximum(high, high_h1)-np.minimum(low, low_h1)))\n",
    "    else:\n",
    "        pass\n",
    "\n",
    "    if pattern == 'upside_gap_three':\n",
    "        return (open_h2 < close_h2) &\\\n",
    "        (open_h1 < close_h1) &\\\n",
    "        (open > close) &\\\n",
    "        (close_h2 < open_h1) &\\\n",
    "        (open > open_h1) &\\\n",
    "        (close < close_h2)\n",
    "    else:\n",
    "        pass\n",
    "\n",
    "    if pattern == 'downside_gap_three':\n",
    "        return (open_h2 > close_h2) &\\\n",
    "        (open_h1 > close_h1) &\\\n",
    "        (open < close) &\\\n",
    "        (close_h2 > open_h1) &\\\n",
    "        (open < open_h1) &\\\n",
    "        (close > close_h2)\n",
    "    else:\n",
    "        pass\n",
    "\n",
    "    if pattern == 'upside_gap_two_crow':\n",
    "        return (open_h2 < close_h2) &\\\n",
    "        (open_h1 > close_h1) &\\\n",
    "        (open > close) &\\\n",
    "        (open_h1 < open) &\\\n",
    "        (close_h1 > close) &\\\n",
    "        (close_h2 < close)\n",
    "    else:\n",
    "        pass\n",
    "\n",
    "    if pattern == 'unique_three_river_bottom':\n",
    "        return (open_h2 > close_h2) &\\\n",
    "        (open_h1 > close_h1) &\\\n",
    "        (open < close) &\\\n",
    "        ((close_h1 - low_h1) > 2*(open_h1 - close_h1)) &\\\n",
    "        (close < close_h1)&\\\n",
    "        (open > low_h1)\n",
    "    else:\n",
    "        pass\n",
    "\n",
    "    if pattern == 'bullish_tri_star':\n",
    "        return (abs(close - open) / (high - low) < 0.05) & \\\n",
    "        (4*(high - np.maximum(close, open)) > (high - low)) & \\\n",
    "        (4*(np.minimum(close, open) - low) > (high - low)) & \\\n",
    "        (high > low)& \\\n",
    "        (abs(close_h1 - open_h1) / (high_h1 - low_h1) < 0.05) & \\\n",
    "        (4*(high_h1 - np.maximum(close_h1, open_h1)) > (high_h1 - low_h1)) & \\\n",
    "        (4*(np.minimum(close_h1, open_h1) - low_h1) > (high_h1 - low_h1)) & \\\n",
    "        (high_h1 > low_h1)& \\\n",
    "        (abs(close_h2 - open_h2) / (high_h2 - low_h2) < 0.05) & \\\n",
    "        (4*(high_h2 - np.maximum(close_h2, open_h2)) > (high_h2 - low_h2)) & \\\n",
    "        (4*(np.minimum(close_h2, open_h2) - low_h2) > (high_h2 - low_h2)) & \\\n",
    "        (high_h2 > low_h2) & \\\n",
    "        (close_h2 > close_h1) & \\\n",
    "        (close > close_h1)\n",
    "    else:\n",
    "        pass\n",
    "\n",
    "    if pattern == 'bearish_tri_star':\n",
    "        return (abs(close - open) / (high - low) < 0.05) & \\\n",
    "        (4*(high - np.maximum(close, open)) > (high - low)) & \\\n",
    "        (4*(np.minimum(close, open) - low) > (high - low)) & \\\n",
    "        (high > low)& \\\n",
    "        (abs(close_h1 - open_h1) / (high_h1 - low_h1) < 0.05) & \\\n",
    "        (4*(high_h1 - np.maximum(close_h1, open_h1)) > (high_h1 - low_h1)) & \\\n",
    "        (4*(np.minimum(close_h1, open_h1) - low_h1) > (high_h1 - low_h1)) & \\\n",
    "        (high_h1 > low_h1)& \\\n",
    "        (abs(close_h2 - open_h2) / (high_h2 - low_h2) < 0.05) & \\\n",
    "        (4*(high_h2 - np.maximum(close_h2, open_h2)) > (high_h2 - low_h2)) & \\\n",
    "        (4*(np.minimum(close_h2, open_h2) - low_h2) > (high_h2 - low_h2)) & \\\n",
    "        (high_h2 > low_h2) & \\\n",
    "        (close_h2 < close_h1) & \\\n",
    "        (close < close_h1)\n",
    "    else:\n",
    "        pass\n",
    "\n",
    "    if pattern == 'three_star_in_the_north':\n",
    "        return (close_h2 > open_h2) & \\\n",
    "        (close_h1 > open_h1) & \\\n",
    "        (close > open) & \\\n",
    "        (close_h2 - open_h2 > close_h1 - open_h1) & \\\n",
    "        (close_h1 - open_h1 > close - open) & \\\n",
    "        (close_h2 < close_h1) & \\\n",
    "        (close_h1 < close)\n",
    "    else:\n",
    "        pass\n",
    "\n",
    "    if pattern == 'three_star_in_the_south':\n",
    "        return (close_h2 < open_h2) & \\\n",
    "        (close_h1 < open_h1) & \\\n",
    "        (close < open) & \\\n",
    "        (close_h2 - open_h2 < close_h1 - open_h1) & \\\n",
    "        (close_h1 - open_h1 < close - open) & \\\n",
    "        (close_h2 > close_h1) & \\\n",
    "        (close_h1 > close)\n",
    "    else:\n",
    "        pass"
   ]
  },
  {
   "cell_type": "markdown",
   "id": "9004b628",
   "metadata": {},
   "source": [
    "# Settings"
   ]
  },
  {
   "cell_type": "code",
   "execution_count": 7,
   "id": "d5de05df",
   "metadata": {
    "ExecuteTime": {
     "end_time": "2021-08-12T20:42:45.976006Z",
     "start_time": "2021-08-12T20:42:45.972368Z"
    },
    "hide_input": true
   },
   "outputs": [],
   "source": [
    "single_pattern = [\n",
    "    'doji', 'gravestone_doji', 'dragonfly_doji', 'bullish_spinning_top',\n",
    "    'bearish_spinning_top', 'inverted_Hammer', 'shootingstar', 'hanging_man',\n",
    "    'hammer', 'bullish_marubozu', 'bearish_marubozu', 'bullish_belt_hold',\n",
    "    'bearish_belt_hold'\n",
    "]\n",
    "double_pattern = [\n",
    "    'bullish_engulfing',\n",
    "    'bearish_engulfing',\n",
    "    'tweezer_top',\n",
    "    'tweezer_bottom',\n",
    "    'bullish_separating_line',\n",
    "    'bullish_separating_line',\n",
    "    'piercing_line',\n",
    "    'dark_cloud_cover',\n",
    "    'bullish_harami',  #'matching_high', 'matching_low',\n",
    "    'bearish_harami',\n",
    "    'bullish_harami_cross',\n",
    "    'bearish_harami_cross',\n",
    "    'descending_hawk',\n",
    "    'homing_pigeon',\n",
    "    'bullish_in_neck',\n",
    "    'bearish_in_neck',\n",
    "    'bullish_on_neck',\n",
    "    'bearish_on_neck',\n",
    "    'bullish_kicking',\n",
    "    'bearish_kicking'\n",
    "]\n",
    "triple_pattern = [\n",
    "    'morning_star', 'evening_star', 'morning_doji_star', 'evening_doji_star',\n",
    "    'three_white_soldier', 'three_black_crow', 'three_inside_up',\n",
    "    'three_inside_down', 'deliberation', 'three_outside_up',\n",
    "    'three_outside_down', 'bullish_abandoned_baby', 'bearish_abandoned_baby',\n",
    "    'bullish_stick_sandwich', 'bearish_stick_sandwich',\n",
    "    'bullish_side_by_side_white_line', 'bearish_side_by_side_black_line',\n",
    "    'bearish_side_by_side_white_line', 'bullish_side_by_side_black_line',\n",
    "    'upside_gap_three', 'downside_gap_three', 'upside_gap_two_crow',\n",
    "    'unique_three_river_bottom', 'bullish_tri_star', 'bearish_tri_star',\n",
    "    'three_star_in_the_north', 'three_star_in_the_south'\n",
    "]\n",
    "\n",
    "pattern_list = single_pattern + double_pattern + triple_pattern"
   ]
  },
  {
   "cell_type": "code",
   "execution_count": 8,
   "id": "1ea38f75",
   "metadata": {
    "ExecuteTime": {
     "end_time": "2021-08-12T20:42:45.979769Z",
     "start_time": "2021-08-12T20:42:45.976994Z"
    }
   },
   "outputs": [],
   "source": [
    "interval=10\n",
    "refreshtime=8*60*60\n",
    "ticker='DAX'\n",
    "candlestick=True\n",
    "candlestick_timer='15Min'\n",
    "if get_ipython(\n",
    ").__class__.__name__ == 'ZMQInteractiveShell':  #Check if the code is running in Jupyter Notebook\n",
    "    file_mgmt=True\n",
    "else: \n",
    "    file_mgmt=False"
   ]
  },
  {
   "cell_type": "markdown",
   "id": "d24c6762",
   "metadata": {},
   "source": [
    "# Run!"
   ]
  },
  {
   "cell_type": "code",
   "execution_count": null,
   "id": "5b8fe7c6",
   "metadata": {
    "ExecuteTime": {
     "start_time": "2021-08-12T20:42:45.237Z"
    },
    "scrolled": false
   },
   "outputs": [
    {
     "name": "stdout",
     "output_type": "stream",
     "text": [
      "15958.8 2021-08-12 22:47:38.821497\n"
     ]
    },
    {
     "data": {
      "text/html": [
       "<style type=\"text/css\">\n",
       "</style>\n",
       "<table id=\"T_50de1_\">\n",
       "  <thead>\n",
       "    <tr>\n",
       "      <th class=\"blank level0\" >&nbsp;</th>\n",
       "      <th class=\"col_heading level0 col0\" >bearish_marubozu</th>\n",
       "    </tr>\n",
       "  </thead>\n",
       "  <tbody>\n",
       "    <tr>\n",
       "      <th id=\"T_50de1_level0_row0\" class=\"row_heading level0 row0\" >0</th>\n",
       "      <td id=\"T_50de1_row0_col0\" class=\"data row0 col0\" >True</td>\n",
       "    </tr>\n",
       "    <tr>\n",
       "      <th id=\"T_50de1_level0_row1\" class=\"row_heading level0 row1\" >1</th>\n",
       "      <td id=\"T_50de1_row1_col0\" class=\"data row1 col0\" >False</td>\n",
       "    </tr>\n",
       "    <tr>\n",
       "      <th id=\"T_50de1_level0_row2\" class=\"row_heading level0 row2\" >2</th>\n",
       "      <td id=\"T_50de1_row2_col0\" class=\"data row2 col0\" >False</td>\n",
       "    </tr>\n",
       "    <tr>\n",
       "      <th id=\"T_50de1_level0_row3\" class=\"row_heading level0 row3\" >3</th>\n",
       "      <td id=\"T_50de1_row3_col0\" class=\"data row3 col0\" >False</td>\n",
       "    </tr>\n",
       "    <tr>\n",
       "      <th id=\"T_50de1_level0_row4\" class=\"row_heading level0 row4\" >4</th>\n",
       "      <td id=\"T_50de1_row4_col0\" class=\"data row4 col0\" >False</td>\n",
       "    </tr>\n",
       "    <tr>\n",
       "      <th id=\"T_50de1_level0_row5\" class=\"row_heading level0 row5\" >5</th>\n",
       "      <td id=\"T_50de1_row5_col0\" class=\"data row5 col0\" >False</td>\n",
       "    </tr>\n",
       "  </tbody>\n",
       "</table>\n"
      ],
      "text/plain": [
       "<pandas.io.formats.style.Styler at 0x7fe682f1d190>"
      ]
     },
     "metadata": {},
     "output_type": "display_data"
    },
    {
     "data": {
      "application/vnd.plotly.v1+json": {
       "config": {
        "plotlyServerURL": "https://plot.ly"
       },
       "data": [
        {
         "close": [
          15866.82,
          15868.86,
          15869.63,
          15885.74,
          15885.46,
          15885.11,
          15894.72,
          15889.99,
          15893.67,
          15885.14,
          15891.6,
          15892.82,
          15889.28,
          15891.79,
          15913.21,
          15920.27,
          15954.45,
          15957.45,
          15945.89,
          15965.1,
          null,
          15941.37,
          15948.91,
          15959.57,
          15950.8,
          15951.27,
          15950.11,
          null,
          null,
          15954.86,
          null,
          null,
          null,
          null,
          null,
          null,
          null,
          null,
          null,
          null,
          null,
          null,
          null,
          null,
          15958.8,
          15958.8,
          15958.8,
          15958.8
         ],
         "high": [
          15871.11,
          15872.35,
          15870.16,
          15885.79,
          15898.95,
          15890.82,
          15896.37,
          15897.81,
          15893.67,
          15895.14,
          15894.65,
          15895.17,
          15896.23,
          15891.79,
          15913.21,
          15921.71,
          15967.98,
          15961.32,
          15951.13,
          15965.1,
          null,
          15945,
          15950.14,
          15961.07,
          15961.45,
          15963.89,
          15950.97,
          null,
          null,
          15954.86,
          null,
          null,
          null,
          null,
          null,
          null,
          null,
          null,
          null,
          null,
          null,
          null,
          null,
          null,
          15958.8,
          15958.8,
          15958.8,
          15958.8
         ],
         "low": [
          15865.29,
          15864.76,
          15864.6,
          15869.63,
          15879.38,
          15882.53,
          15886.06,
          15889.99,
          15889.12,
          15884.91,
          15884.87,
          15891.74,
          15886.07,
          15888.78,
          15891.54,
          15913.5,
          15920.71,
          15952.2,
          15945.67,
          15945.78,
          null,
          15931.92,
          15941.84,
          15946.27,
          15950.8,
          15947.64,
          15950.11,
          null,
          null,
          15954.86,
          null,
          null,
          null,
          null,
          null,
          null,
          null,
          null,
          null,
          null,
          null,
          null,
          null,
          null,
          15958.8,
          15958.8,
          15958.8,
          15958.8
         ],
         "open": [
          15868.45,
          15866.82,
          15868.58,
          15869.63,
          15886.72,
          15885.66,
          15886.06,
          15895.11,
          15891.52,
          15893.9,
          15884.87,
          15892.79,
          15893.12,
          15889.28,
          15891.79,
          15915.88,
          15920.79,
          15954.51,
          15948.04,
          15945.78,
          null,
          15931.92,
          15941.84,
          15948.62,
          15959.58,
          15950.8,
          15950.97,
          null,
          null,
          15954.86,
          null,
          null,
          null,
          null,
          null,
          null,
          null,
          null,
          null,
          null,
          null,
          null,
          null,
          null,
          15958.8,
          15958.8,
          15958.8,
          15958.8
         ],
         "type": "candlestick",
         "x": [
          "2021-08-12T11:00:00",
          "2021-08-12T11:15:00",
          "2021-08-12T11:30:00",
          "2021-08-12T11:45:00",
          "2021-08-12T12:00:00",
          "2021-08-12T12:15:00",
          "2021-08-12T12:30:00",
          "2021-08-12T12:45:00",
          "2021-08-12T13:00:00",
          "2021-08-12T13:15:00",
          "2021-08-12T13:30:00",
          "2021-08-12T13:45:00",
          "2021-08-12T14:00:00",
          "2021-08-12T14:15:00",
          "2021-08-12T14:30:00",
          "2021-08-12T14:45:00",
          "2021-08-12T15:00:00",
          "2021-08-12T15:15:00",
          "2021-08-12T15:30:00",
          "2021-08-12T15:45:00",
          "2021-08-12T16:00:00",
          "2021-08-12T16:15:00",
          "2021-08-12T16:30:00",
          "2021-08-12T16:45:00",
          "2021-08-12T17:00:00",
          "2021-08-12T17:15:00",
          "2021-08-12T17:30:00",
          "2021-08-12T17:45:00",
          "2021-08-12T18:00:00",
          "2021-08-12T18:15:00",
          "2021-08-12T18:30:00",
          "2021-08-12T18:45:00",
          "2021-08-12T19:00:00",
          "2021-08-12T19:15:00",
          "2021-08-12T19:30:00",
          "2021-08-12T19:45:00",
          "2021-08-12T20:00:00",
          "2021-08-12T20:15:00",
          "2021-08-12T20:30:00",
          "2021-08-12T20:45:00",
          "2021-08-12T21:00:00",
          "2021-08-12T21:15:00",
          "2021-08-12T21:30:00",
          "2021-08-12T21:45:00",
          "2021-08-12T22:00:00",
          "2021-08-12T22:15:00",
          "2021-08-12T22:30:00",
          "2021-08-12T22:45:00"
         ]
        }
       ],
       "layout": {
        "template": {
         "data": {
          "bar": [
           {
            "error_x": {
             "color": "#2a3f5f"
            },
            "error_y": {
             "color": "#2a3f5f"
            },
            "marker": {
             "line": {
              "color": "#E5ECF6",
              "width": 0.5
             },
             "pattern": {
              "fillmode": "overlay",
              "size": 10,
              "solidity": 0.2
             }
            },
            "type": "bar"
           }
          ],
          "barpolar": [
           {
            "marker": {
             "line": {
              "color": "#E5ECF6",
              "width": 0.5
             },
             "pattern": {
              "fillmode": "overlay",
              "size": 10,
              "solidity": 0.2
             }
            },
            "type": "barpolar"
           }
          ],
          "carpet": [
           {
            "aaxis": {
             "endlinecolor": "#2a3f5f",
             "gridcolor": "white",
             "linecolor": "white",
             "minorgridcolor": "white",
             "startlinecolor": "#2a3f5f"
            },
            "baxis": {
             "endlinecolor": "#2a3f5f",
             "gridcolor": "white",
             "linecolor": "white",
             "minorgridcolor": "white",
             "startlinecolor": "#2a3f5f"
            },
            "type": "carpet"
           }
          ],
          "choropleth": [
           {
            "colorbar": {
             "outlinewidth": 0,
             "ticks": ""
            },
            "type": "choropleth"
           }
          ],
          "contour": [
           {
            "colorbar": {
             "outlinewidth": 0,
             "ticks": ""
            },
            "colorscale": [
             [
              0,
              "#0d0887"
             ],
             [
              0.1111111111111111,
              "#46039f"
             ],
             [
              0.2222222222222222,
              "#7201a8"
             ],
             [
              0.3333333333333333,
              "#9c179e"
             ],
             [
              0.4444444444444444,
              "#bd3786"
             ],
             [
              0.5555555555555556,
              "#d8576b"
             ],
             [
              0.6666666666666666,
              "#ed7953"
             ],
             [
              0.7777777777777778,
              "#fb9f3a"
             ],
             [
              0.8888888888888888,
              "#fdca26"
             ],
             [
              1,
              "#f0f921"
             ]
            ],
            "type": "contour"
           }
          ],
          "contourcarpet": [
           {
            "colorbar": {
             "outlinewidth": 0,
             "ticks": ""
            },
            "type": "contourcarpet"
           }
          ],
          "heatmap": [
           {
            "colorbar": {
             "outlinewidth": 0,
             "ticks": ""
            },
            "colorscale": [
             [
              0,
              "#0d0887"
             ],
             [
              0.1111111111111111,
              "#46039f"
             ],
             [
              0.2222222222222222,
              "#7201a8"
             ],
             [
              0.3333333333333333,
              "#9c179e"
             ],
             [
              0.4444444444444444,
              "#bd3786"
             ],
             [
              0.5555555555555556,
              "#d8576b"
             ],
             [
              0.6666666666666666,
              "#ed7953"
             ],
             [
              0.7777777777777778,
              "#fb9f3a"
             ],
             [
              0.8888888888888888,
              "#fdca26"
             ],
             [
              1,
              "#f0f921"
             ]
            ],
            "type": "heatmap"
           }
          ],
          "heatmapgl": [
           {
            "colorbar": {
             "outlinewidth": 0,
             "ticks": ""
            },
            "colorscale": [
             [
              0,
              "#0d0887"
             ],
             [
              0.1111111111111111,
              "#46039f"
             ],
             [
              0.2222222222222222,
              "#7201a8"
             ],
             [
              0.3333333333333333,
              "#9c179e"
             ],
             [
              0.4444444444444444,
              "#bd3786"
             ],
             [
              0.5555555555555556,
              "#d8576b"
             ],
             [
              0.6666666666666666,
              "#ed7953"
             ],
             [
              0.7777777777777778,
              "#fb9f3a"
             ],
             [
              0.8888888888888888,
              "#fdca26"
             ],
             [
              1,
              "#f0f921"
             ]
            ],
            "type": "heatmapgl"
           }
          ],
          "histogram": [
           {
            "marker": {
             "pattern": {
              "fillmode": "overlay",
              "size": 10,
              "solidity": 0.2
             }
            },
            "type": "histogram"
           }
          ],
          "histogram2d": [
           {
            "colorbar": {
             "outlinewidth": 0,
             "ticks": ""
            },
            "colorscale": [
             [
              0,
              "#0d0887"
             ],
             [
              0.1111111111111111,
              "#46039f"
             ],
             [
              0.2222222222222222,
              "#7201a8"
             ],
             [
              0.3333333333333333,
              "#9c179e"
             ],
             [
              0.4444444444444444,
              "#bd3786"
             ],
             [
              0.5555555555555556,
              "#d8576b"
             ],
             [
              0.6666666666666666,
              "#ed7953"
             ],
             [
              0.7777777777777778,
              "#fb9f3a"
             ],
             [
              0.8888888888888888,
              "#fdca26"
             ],
             [
              1,
              "#f0f921"
             ]
            ],
            "type": "histogram2d"
           }
          ],
          "histogram2dcontour": [
           {
            "colorbar": {
             "outlinewidth": 0,
             "ticks": ""
            },
            "colorscale": [
             [
              0,
              "#0d0887"
             ],
             [
              0.1111111111111111,
              "#46039f"
             ],
             [
              0.2222222222222222,
              "#7201a8"
             ],
             [
              0.3333333333333333,
              "#9c179e"
             ],
             [
              0.4444444444444444,
              "#bd3786"
             ],
             [
              0.5555555555555556,
              "#d8576b"
             ],
             [
              0.6666666666666666,
              "#ed7953"
             ],
             [
              0.7777777777777778,
              "#fb9f3a"
             ],
             [
              0.8888888888888888,
              "#fdca26"
             ],
             [
              1,
              "#f0f921"
             ]
            ],
            "type": "histogram2dcontour"
           }
          ],
          "mesh3d": [
           {
            "colorbar": {
             "outlinewidth": 0,
             "ticks": ""
            },
            "type": "mesh3d"
           }
          ],
          "parcoords": [
           {
            "line": {
             "colorbar": {
              "outlinewidth": 0,
              "ticks": ""
             }
            },
            "type": "parcoords"
           }
          ],
          "pie": [
           {
            "automargin": true,
            "type": "pie"
           }
          ],
          "scatter": [
           {
            "marker": {
             "colorbar": {
              "outlinewidth": 0,
              "ticks": ""
             }
            },
            "type": "scatter"
           }
          ],
          "scatter3d": [
           {
            "line": {
             "colorbar": {
              "outlinewidth": 0,
              "ticks": ""
             }
            },
            "marker": {
             "colorbar": {
              "outlinewidth": 0,
              "ticks": ""
             }
            },
            "type": "scatter3d"
           }
          ],
          "scattercarpet": [
           {
            "marker": {
             "colorbar": {
              "outlinewidth": 0,
              "ticks": ""
             }
            },
            "type": "scattercarpet"
           }
          ],
          "scattergeo": [
           {
            "marker": {
             "colorbar": {
              "outlinewidth": 0,
              "ticks": ""
             }
            },
            "type": "scattergeo"
           }
          ],
          "scattergl": [
           {
            "marker": {
             "colorbar": {
              "outlinewidth": 0,
              "ticks": ""
             }
            },
            "type": "scattergl"
           }
          ],
          "scattermapbox": [
           {
            "marker": {
             "colorbar": {
              "outlinewidth": 0,
              "ticks": ""
             }
            },
            "type": "scattermapbox"
           }
          ],
          "scatterpolar": [
           {
            "marker": {
             "colorbar": {
              "outlinewidth": 0,
              "ticks": ""
             }
            },
            "type": "scatterpolar"
           }
          ],
          "scatterpolargl": [
           {
            "marker": {
             "colorbar": {
              "outlinewidth": 0,
              "ticks": ""
             }
            },
            "type": "scatterpolargl"
           }
          ],
          "scatterternary": [
           {
            "marker": {
             "colorbar": {
              "outlinewidth": 0,
              "ticks": ""
             }
            },
            "type": "scatterternary"
           }
          ],
          "surface": [
           {
            "colorbar": {
             "outlinewidth": 0,
             "ticks": ""
            },
            "colorscale": [
             [
              0,
              "#0d0887"
             ],
             [
              0.1111111111111111,
              "#46039f"
             ],
             [
              0.2222222222222222,
              "#7201a8"
             ],
             [
              0.3333333333333333,
              "#9c179e"
             ],
             [
              0.4444444444444444,
              "#bd3786"
             ],
             [
              0.5555555555555556,
              "#d8576b"
             ],
             [
              0.6666666666666666,
              "#ed7953"
             ],
             [
              0.7777777777777778,
              "#fb9f3a"
             ],
             [
              0.8888888888888888,
              "#fdca26"
             ],
             [
              1,
              "#f0f921"
             ]
            ],
            "type": "surface"
           }
          ],
          "table": [
           {
            "cells": {
             "fill": {
              "color": "#EBF0F8"
             },
             "line": {
              "color": "white"
             }
            },
            "header": {
             "fill": {
              "color": "#C8D4E3"
             },
             "line": {
              "color": "white"
             }
            },
            "type": "table"
           }
          ]
         },
         "layout": {
          "annotationdefaults": {
           "arrowcolor": "#2a3f5f",
           "arrowhead": 0,
           "arrowwidth": 1
          },
          "autotypenumbers": "strict",
          "coloraxis": {
           "colorbar": {
            "outlinewidth": 0,
            "ticks": ""
           }
          },
          "colorscale": {
           "diverging": [
            [
             0,
             "#8e0152"
            ],
            [
             0.1,
             "#c51b7d"
            ],
            [
             0.2,
             "#de77ae"
            ],
            [
             0.3,
             "#f1b6da"
            ],
            [
             0.4,
             "#fde0ef"
            ],
            [
             0.5,
             "#f7f7f7"
            ],
            [
             0.6,
             "#e6f5d0"
            ],
            [
             0.7,
             "#b8e186"
            ],
            [
             0.8,
             "#7fbc41"
            ],
            [
             0.9,
             "#4d9221"
            ],
            [
             1,
             "#276419"
            ]
           ],
           "sequential": [
            [
             0,
             "#0d0887"
            ],
            [
             0.1111111111111111,
             "#46039f"
            ],
            [
             0.2222222222222222,
             "#7201a8"
            ],
            [
             0.3333333333333333,
             "#9c179e"
            ],
            [
             0.4444444444444444,
             "#bd3786"
            ],
            [
             0.5555555555555556,
             "#d8576b"
            ],
            [
             0.6666666666666666,
             "#ed7953"
            ],
            [
             0.7777777777777778,
             "#fb9f3a"
            ],
            [
             0.8888888888888888,
             "#fdca26"
            ],
            [
             1,
             "#f0f921"
            ]
           ],
           "sequentialminus": [
            [
             0,
             "#0d0887"
            ],
            [
             0.1111111111111111,
             "#46039f"
            ],
            [
             0.2222222222222222,
             "#7201a8"
            ],
            [
             0.3333333333333333,
             "#9c179e"
            ],
            [
             0.4444444444444444,
             "#bd3786"
            ],
            [
             0.5555555555555556,
             "#d8576b"
            ],
            [
             0.6666666666666666,
             "#ed7953"
            ],
            [
             0.7777777777777778,
             "#fb9f3a"
            ],
            [
             0.8888888888888888,
             "#fdca26"
            ],
            [
             1,
             "#f0f921"
            ]
           ]
          },
          "colorway": [
           "#636efa",
           "#EF553B",
           "#00cc96",
           "#ab63fa",
           "#FFA15A",
           "#19d3f3",
           "#FF6692",
           "#B6E880",
           "#FF97FF",
           "#FECB52"
          ],
          "font": {
           "color": "#2a3f5f"
          },
          "geo": {
           "bgcolor": "white",
           "lakecolor": "white",
           "landcolor": "#E5ECF6",
           "showlakes": true,
           "showland": true,
           "subunitcolor": "white"
          },
          "hoverlabel": {
           "align": "left"
          },
          "hovermode": "closest",
          "mapbox": {
           "style": "light"
          },
          "paper_bgcolor": "white",
          "plot_bgcolor": "#E5ECF6",
          "polar": {
           "angularaxis": {
            "gridcolor": "white",
            "linecolor": "white",
            "ticks": ""
           },
           "bgcolor": "#E5ECF6",
           "radialaxis": {
            "gridcolor": "white",
            "linecolor": "white",
            "ticks": ""
           }
          },
          "scene": {
           "xaxis": {
            "backgroundcolor": "#E5ECF6",
            "gridcolor": "white",
            "gridwidth": 2,
            "linecolor": "white",
            "showbackground": true,
            "ticks": "",
            "zerolinecolor": "white"
           },
           "yaxis": {
            "backgroundcolor": "#E5ECF6",
            "gridcolor": "white",
            "gridwidth": 2,
            "linecolor": "white",
            "showbackground": true,
            "ticks": "",
            "zerolinecolor": "white"
           },
           "zaxis": {
            "backgroundcolor": "#E5ECF6",
            "gridcolor": "white",
            "gridwidth": 2,
            "linecolor": "white",
            "showbackground": true,
            "ticks": "",
            "zerolinecolor": "white"
           }
          },
          "shapedefaults": {
           "line": {
            "color": "#2a3f5f"
           }
          },
          "ternary": {
           "aaxis": {
            "gridcolor": "white",
            "linecolor": "white",
            "ticks": ""
           },
           "baxis": {
            "gridcolor": "white",
            "linecolor": "white",
            "ticks": ""
           },
           "bgcolor": "#E5ECF6",
           "caxis": {
            "gridcolor": "white",
            "linecolor": "white",
            "ticks": ""
           }
          },
          "title": {
           "x": 0.05
          },
          "xaxis": {
           "automargin": true,
           "gridcolor": "white",
           "linecolor": "white",
           "ticks": "",
           "title": {
            "standoff": 15
           },
           "zerolinecolor": "white",
           "zerolinewidth": 2
          },
          "yaxis": {
           "automargin": true,
           "gridcolor": "white",
           "linecolor": "white",
           "ticks": "",
           "title": {
            "standoff": 15
           },
           "zerolinecolor": "white",
           "zerolinewidth": 2
          }
         }
        }
       }
      },
      "text/html": [
       "<div>                            <div id=\"3d040d3c-af56-4502-a0ee-ef1a30895cdd\" class=\"plotly-graph-div\" style=\"height:525px; width:100%;\"></div>            <script type=\"text/javascript\">                require([\"plotly\"], function(Plotly) {                    window.PLOTLYENV=window.PLOTLYENV || {};                                    if (document.getElementById(\"3d040d3c-af56-4502-a0ee-ef1a30895cdd\")) {                    Plotly.newPlot(                        \"3d040d3c-af56-4502-a0ee-ef1a30895cdd\",                        [{\"close\":[15866.82,15868.86,15869.63,15885.74,15885.46,15885.11,15894.72,15889.99,15893.67,15885.14,15891.6,15892.82,15889.28,15891.79,15913.21,15920.27,15954.45,15957.45,15945.89,15965.1,null,15941.37,15948.91,15959.57,15950.8,15951.27,15950.11,null,null,15954.86,null,null,null,null,null,null,null,null,null,null,null,null,null,null,15958.8,15958.8,15958.8,15958.8],\"high\":[15871.11,15872.35,15870.16,15885.79,15898.95,15890.82,15896.37,15897.81,15893.67,15895.14,15894.65,15895.17,15896.23,15891.79,15913.21,15921.71,15967.98,15961.32,15951.13,15965.1,null,15945.0,15950.14,15961.07,15961.45,15963.89,15950.97,null,null,15954.86,null,null,null,null,null,null,null,null,null,null,null,null,null,null,15958.8,15958.8,15958.8,15958.8],\"low\":[15865.29,15864.76,15864.6,15869.63,15879.38,15882.53,15886.06,15889.99,15889.12,15884.91,15884.87,15891.74,15886.07,15888.78,15891.54,15913.5,15920.71,15952.2,15945.67,15945.78,null,15931.92,15941.84,15946.27,15950.8,15947.64,15950.11,null,null,15954.86,null,null,null,null,null,null,null,null,null,null,null,null,null,null,15958.8,15958.8,15958.8,15958.8],\"open\":[15868.45,15866.82,15868.58,15869.63,15886.72,15885.66,15886.06,15895.11,15891.52,15893.9,15884.87,15892.79,15893.12,15889.28,15891.79,15915.88,15920.79,15954.51,15948.04,15945.78,null,15931.92,15941.84,15948.62,15959.58,15950.8,15950.97,null,null,15954.86,null,null,null,null,null,null,null,null,null,null,null,null,null,null,15958.8,15958.8,15958.8,15958.8],\"type\":\"candlestick\",\"x\":[\"2021-08-12T11:00:00\",\"2021-08-12T11:15:00\",\"2021-08-12T11:30:00\",\"2021-08-12T11:45:00\",\"2021-08-12T12:00:00\",\"2021-08-12T12:15:00\",\"2021-08-12T12:30:00\",\"2021-08-12T12:45:00\",\"2021-08-12T13:00:00\",\"2021-08-12T13:15:00\",\"2021-08-12T13:30:00\",\"2021-08-12T13:45:00\",\"2021-08-12T14:00:00\",\"2021-08-12T14:15:00\",\"2021-08-12T14:30:00\",\"2021-08-12T14:45:00\",\"2021-08-12T15:00:00\",\"2021-08-12T15:15:00\",\"2021-08-12T15:30:00\",\"2021-08-12T15:45:00\",\"2021-08-12T16:00:00\",\"2021-08-12T16:15:00\",\"2021-08-12T16:30:00\",\"2021-08-12T16:45:00\",\"2021-08-12T17:00:00\",\"2021-08-12T17:15:00\",\"2021-08-12T17:30:00\",\"2021-08-12T17:45:00\",\"2021-08-12T18:00:00\",\"2021-08-12T18:15:00\",\"2021-08-12T18:30:00\",\"2021-08-12T18:45:00\",\"2021-08-12T19:00:00\",\"2021-08-12T19:15:00\",\"2021-08-12T19:30:00\",\"2021-08-12T19:45:00\",\"2021-08-12T20:00:00\",\"2021-08-12T20:15:00\",\"2021-08-12T20:30:00\",\"2021-08-12T20:45:00\",\"2021-08-12T21:00:00\",\"2021-08-12T21:15:00\",\"2021-08-12T21:30:00\",\"2021-08-12T21:45:00\",\"2021-08-12T22:00:00\",\"2021-08-12T22:15:00\",\"2021-08-12T22:30:00\",\"2021-08-12T22:45:00\"]}],                        {\"template\":{\"data\":{\"bar\":[{\"error_x\":{\"color\":\"#2a3f5f\"},\"error_y\":{\"color\":\"#2a3f5f\"},\"marker\":{\"line\":{\"color\":\"#E5ECF6\",\"width\":0.5},\"pattern\":{\"fillmode\":\"overlay\",\"size\":10,\"solidity\":0.2}},\"type\":\"bar\"}],\"barpolar\":[{\"marker\":{\"line\":{\"color\":\"#E5ECF6\",\"width\":0.5},\"pattern\":{\"fillmode\":\"overlay\",\"size\":10,\"solidity\":0.2}},\"type\":\"barpolar\"}],\"carpet\":[{\"aaxis\":{\"endlinecolor\":\"#2a3f5f\",\"gridcolor\":\"white\",\"linecolor\":\"white\",\"minorgridcolor\":\"white\",\"startlinecolor\":\"#2a3f5f\"},\"baxis\":{\"endlinecolor\":\"#2a3f5f\",\"gridcolor\":\"white\",\"linecolor\":\"white\",\"minorgridcolor\":\"white\",\"startlinecolor\":\"#2a3f5f\"},\"type\":\"carpet\"}],\"choropleth\":[{\"colorbar\":{\"outlinewidth\":0,\"ticks\":\"\"},\"type\":\"choropleth\"}],\"contour\":[{\"colorbar\":{\"outlinewidth\":0,\"ticks\":\"\"},\"colorscale\":[[0.0,\"#0d0887\"],[0.1111111111111111,\"#46039f\"],[0.2222222222222222,\"#7201a8\"],[0.3333333333333333,\"#9c179e\"],[0.4444444444444444,\"#bd3786\"],[0.5555555555555556,\"#d8576b\"],[0.6666666666666666,\"#ed7953\"],[0.7777777777777778,\"#fb9f3a\"],[0.8888888888888888,\"#fdca26\"],[1.0,\"#f0f921\"]],\"type\":\"contour\"}],\"contourcarpet\":[{\"colorbar\":{\"outlinewidth\":0,\"ticks\":\"\"},\"type\":\"contourcarpet\"}],\"heatmap\":[{\"colorbar\":{\"outlinewidth\":0,\"ticks\":\"\"},\"colorscale\":[[0.0,\"#0d0887\"],[0.1111111111111111,\"#46039f\"],[0.2222222222222222,\"#7201a8\"],[0.3333333333333333,\"#9c179e\"],[0.4444444444444444,\"#bd3786\"],[0.5555555555555556,\"#d8576b\"],[0.6666666666666666,\"#ed7953\"],[0.7777777777777778,\"#fb9f3a\"],[0.8888888888888888,\"#fdca26\"],[1.0,\"#f0f921\"]],\"type\":\"heatmap\"}],\"heatmapgl\":[{\"colorbar\":{\"outlinewidth\":0,\"ticks\":\"\"},\"colorscale\":[[0.0,\"#0d0887\"],[0.1111111111111111,\"#46039f\"],[0.2222222222222222,\"#7201a8\"],[0.3333333333333333,\"#9c179e\"],[0.4444444444444444,\"#bd3786\"],[0.5555555555555556,\"#d8576b\"],[0.6666666666666666,\"#ed7953\"],[0.7777777777777778,\"#fb9f3a\"],[0.8888888888888888,\"#fdca26\"],[1.0,\"#f0f921\"]],\"type\":\"heatmapgl\"}],\"histogram\":[{\"marker\":{\"pattern\":{\"fillmode\":\"overlay\",\"size\":10,\"solidity\":0.2}},\"type\":\"histogram\"}],\"histogram2d\":[{\"colorbar\":{\"outlinewidth\":0,\"ticks\":\"\"},\"colorscale\":[[0.0,\"#0d0887\"],[0.1111111111111111,\"#46039f\"],[0.2222222222222222,\"#7201a8\"],[0.3333333333333333,\"#9c179e\"],[0.4444444444444444,\"#bd3786\"],[0.5555555555555556,\"#d8576b\"],[0.6666666666666666,\"#ed7953\"],[0.7777777777777778,\"#fb9f3a\"],[0.8888888888888888,\"#fdca26\"],[1.0,\"#f0f921\"]],\"type\":\"histogram2d\"}],\"histogram2dcontour\":[{\"colorbar\":{\"outlinewidth\":0,\"ticks\":\"\"},\"colorscale\":[[0.0,\"#0d0887\"],[0.1111111111111111,\"#46039f\"],[0.2222222222222222,\"#7201a8\"],[0.3333333333333333,\"#9c179e\"],[0.4444444444444444,\"#bd3786\"],[0.5555555555555556,\"#d8576b\"],[0.6666666666666666,\"#ed7953\"],[0.7777777777777778,\"#fb9f3a\"],[0.8888888888888888,\"#fdca26\"],[1.0,\"#f0f921\"]],\"type\":\"histogram2dcontour\"}],\"mesh3d\":[{\"colorbar\":{\"outlinewidth\":0,\"ticks\":\"\"},\"type\":\"mesh3d\"}],\"parcoords\":[{\"line\":{\"colorbar\":{\"outlinewidth\":0,\"ticks\":\"\"}},\"type\":\"parcoords\"}],\"pie\":[{\"automargin\":true,\"type\":\"pie\"}],\"scatter\":[{\"marker\":{\"colorbar\":{\"outlinewidth\":0,\"ticks\":\"\"}},\"type\":\"scatter\"}],\"scatter3d\":[{\"line\":{\"colorbar\":{\"outlinewidth\":0,\"ticks\":\"\"}},\"marker\":{\"colorbar\":{\"outlinewidth\":0,\"ticks\":\"\"}},\"type\":\"scatter3d\"}],\"scattercarpet\":[{\"marker\":{\"colorbar\":{\"outlinewidth\":0,\"ticks\":\"\"}},\"type\":\"scattercarpet\"}],\"scattergeo\":[{\"marker\":{\"colorbar\":{\"outlinewidth\":0,\"ticks\":\"\"}},\"type\":\"scattergeo\"}],\"scattergl\":[{\"marker\":{\"colorbar\":{\"outlinewidth\":0,\"ticks\":\"\"}},\"type\":\"scattergl\"}],\"scattermapbox\":[{\"marker\":{\"colorbar\":{\"outlinewidth\":0,\"ticks\":\"\"}},\"type\":\"scattermapbox\"}],\"scatterpolar\":[{\"marker\":{\"colorbar\":{\"outlinewidth\":0,\"ticks\":\"\"}},\"type\":\"scatterpolar\"}],\"scatterpolargl\":[{\"marker\":{\"colorbar\":{\"outlinewidth\":0,\"ticks\":\"\"}},\"type\":\"scatterpolargl\"}],\"scatterternary\":[{\"marker\":{\"colorbar\":{\"outlinewidth\":0,\"ticks\":\"\"}},\"type\":\"scatterternary\"}],\"surface\":[{\"colorbar\":{\"outlinewidth\":0,\"ticks\":\"\"},\"colorscale\":[[0.0,\"#0d0887\"],[0.1111111111111111,\"#46039f\"],[0.2222222222222222,\"#7201a8\"],[0.3333333333333333,\"#9c179e\"],[0.4444444444444444,\"#bd3786\"],[0.5555555555555556,\"#d8576b\"],[0.6666666666666666,\"#ed7953\"],[0.7777777777777778,\"#fb9f3a\"],[0.8888888888888888,\"#fdca26\"],[1.0,\"#f0f921\"]],\"type\":\"surface\"}],\"table\":[{\"cells\":{\"fill\":{\"color\":\"#EBF0F8\"},\"line\":{\"color\":\"white\"}},\"header\":{\"fill\":{\"color\":\"#C8D4E3\"},\"line\":{\"color\":\"white\"}},\"type\":\"table\"}]},\"layout\":{\"annotationdefaults\":{\"arrowcolor\":\"#2a3f5f\",\"arrowhead\":0,\"arrowwidth\":1},\"autotypenumbers\":\"strict\",\"coloraxis\":{\"colorbar\":{\"outlinewidth\":0,\"ticks\":\"\"}},\"colorscale\":{\"diverging\":[[0,\"#8e0152\"],[0.1,\"#c51b7d\"],[0.2,\"#de77ae\"],[0.3,\"#f1b6da\"],[0.4,\"#fde0ef\"],[0.5,\"#f7f7f7\"],[0.6,\"#e6f5d0\"],[0.7,\"#b8e186\"],[0.8,\"#7fbc41\"],[0.9,\"#4d9221\"],[1,\"#276419\"]],\"sequential\":[[0.0,\"#0d0887\"],[0.1111111111111111,\"#46039f\"],[0.2222222222222222,\"#7201a8\"],[0.3333333333333333,\"#9c179e\"],[0.4444444444444444,\"#bd3786\"],[0.5555555555555556,\"#d8576b\"],[0.6666666666666666,\"#ed7953\"],[0.7777777777777778,\"#fb9f3a\"],[0.8888888888888888,\"#fdca26\"],[1.0,\"#f0f921\"]],\"sequentialminus\":[[0.0,\"#0d0887\"],[0.1111111111111111,\"#46039f\"],[0.2222222222222222,\"#7201a8\"],[0.3333333333333333,\"#9c179e\"],[0.4444444444444444,\"#bd3786\"],[0.5555555555555556,\"#d8576b\"],[0.6666666666666666,\"#ed7953\"],[0.7777777777777778,\"#fb9f3a\"],[0.8888888888888888,\"#fdca26\"],[1.0,\"#f0f921\"]]},\"colorway\":[\"#636efa\",\"#EF553B\",\"#00cc96\",\"#ab63fa\",\"#FFA15A\",\"#19d3f3\",\"#FF6692\",\"#B6E880\",\"#FF97FF\",\"#FECB52\"],\"font\":{\"color\":\"#2a3f5f\"},\"geo\":{\"bgcolor\":\"white\",\"lakecolor\":\"white\",\"landcolor\":\"#E5ECF6\",\"showlakes\":true,\"showland\":true,\"subunitcolor\":\"white\"},\"hoverlabel\":{\"align\":\"left\"},\"hovermode\":\"closest\",\"mapbox\":{\"style\":\"light\"},\"paper_bgcolor\":\"white\",\"plot_bgcolor\":\"#E5ECF6\",\"polar\":{\"angularaxis\":{\"gridcolor\":\"white\",\"linecolor\":\"white\",\"ticks\":\"\"},\"bgcolor\":\"#E5ECF6\",\"radialaxis\":{\"gridcolor\":\"white\",\"linecolor\":\"white\",\"ticks\":\"\"}},\"scene\":{\"xaxis\":{\"backgroundcolor\":\"#E5ECF6\",\"gridcolor\":\"white\",\"gridwidth\":2,\"linecolor\":\"white\",\"showbackground\":true,\"ticks\":\"\",\"zerolinecolor\":\"white\"},\"yaxis\":{\"backgroundcolor\":\"#E5ECF6\",\"gridcolor\":\"white\",\"gridwidth\":2,\"linecolor\":\"white\",\"showbackground\":true,\"ticks\":\"\",\"zerolinecolor\":\"white\"},\"zaxis\":{\"backgroundcolor\":\"#E5ECF6\",\"gridcolor\":\"white\",\"gridwidth\":2,\"linecolor\":\"white\",\"showbackground\":true,\"ticks\":\"\",\"zerolinecolor\":\"white\"}},\"shapedefaults\":{\"line\":{\"color\":\"#2a3f5f\"}},\"ternary\":{\"aaxis\":{\"gridcolor\":\"white\",\"linecolor\":\"white\",\"ticks\":\"\"},\"baxis\":{\"gridcolor\":\"white\",\"linecolor\":\"white\",\"ticks\":\"\"},\"bgcolor\":\"#E5ECF6\",\"caxis\":{\"gridcolor\":\"white\",\"linecolor\":\"white\",\"ticks\":\"\"}},\"title\":{\"x\":0.05},\"xaxis\":{\"automargin\":true,\"gridcolor\":\"white\",\"linecolor\":\"white\",\"ticks\":\"\",\"title\":{\"standoff\":15},\"zerolinecolor\":\"white\",\"zerolinewidth\":2},\"yaxis\":{\"automargin\":true,\"gridcolor\":\"white\",\"linecolor\":\"white\",\"ticks\":\"\",\"title\":{\"standoff\":15},\"zerolinecolor\":\"white\",\"zerolinewidth\":2}}}},                        {\"responsive\": true}                    ).then(function(){\n",
       "                            \n",
       "var gd = document.getElementById('3d040d3c-af56-4502-a0ee-ef1a30895cdd');\n",
       "var x = new MutationObserver(function (mutations, observer) {{\n",
       "        var display = window.getComputedStyle(gd).display;\n",
       "        if (!display || display === 'none') {{\n",
       "            console.log([gd, 'removed!']);\n",
       "            Plotly.purge(gd);\n",
       "            observer.disconnect();\n",
       "        }}\n",
       "}});\n",
       "\n",
       "// Listen for the removal of the full notebook cells\n",
       "var notebookContainer = gd.closest('#notebook-container');\n",
       "if (notebookContainer) {{\n",
       "    x.observe(notebookContainer, {childList: true});\n",
       "}}\n",
       "\n",
       "// Listen for the clearing of the current output cell\n",
       "var outputEl = gd.closest('.output');\n",
       "if (outputEl) {{\n",
       "    x.observe(outputEl, {childList: true});\n",
       "}}\n",
       "\n",
       "                        })                };                });            </script>        </div>"
      ]
     },
     "metadata": {},
     "output_type": "display_data"
    }
   ],
   "source": [
    "INGSprinter_candlestick(ticker, refreshtime, interval, file_mgmt, candlestick,\n",
    "                        candlestick_timer, pattern_list)"
   ]
  },
  {
   "cell_type": "code",
   "execution_count": null,
   "id": "9eff6b9b",
   "metadata": {},
   "outputs": [],
   "source": [
    "#macd, stochastic, my live chart without volume! "
   ]
  }
 ],
 "metadata": {
  "kernelspec": {
   "display_name": "Python 3 (ipykernel)",
   "language": "python",
   "name": "python3"
  },
  "language_info": {
   "codemirror_mode": {
    "name": "ipython",
    "version": 3
   },
   "file_extension": ".py",
   "mimetype": "text/x-python",
   "name": "python",
   "nbconvert_exporter": "python",
   "pygments_lexer": "ipython3",
   "version": "3.9.6"
  },
  "latex_envs": {
   "LaTeX_envs_menu_present": true,
   "autoclose": false,
   "autocomplete": true,
   "bibliofile": "biblio.bib",
   "cite_by": "apalike",
   "current_citInitial": 1,
   "eqLabelWithNumbers": true,
   "eqNumInitial": 1,
   "hotkeys": {
    "equation": "Ctrl-E",
    "itemize": "Ctrl-I"
   },
   "labels_anchors": false,
   "latex_user_defs": false,
   "report_style_numbering": false,
   "user_envs_cfg": false
  },
  "toc": {
   "base_numbering": 1,
   "nav_menu": {},
   "number_sections": true,
   "sideBar": true,
   "skip_h1_title": false,
   "title_cell": "Table of Contents",
   "title_sidebar": "Contents",
   "toc_cell": false,
   "toc_position": {},
   "toc_section_display": true,
   "toc_window_display": false
  },
  "varInspector": {
   "cols": {
    "lenName": 16,
    "lenType": 16,
    "lenVar": 40
   },
   "kernels_config": {
    "python": {
     "delete_cmd_postfix": "",
     "delete_cmd_prefix": "del ",
     "library": "var_list.py",
     "varRefreshCmd": "print(var_dic_list())"
    },
    "r": {
     "delete_cmd_postfix": ") ",
     "delete_cmd_prefix": "rm(",
     "library": "var_list.r",
     "varRefreshCmd": "cat(var_dic_list()) "
    }
   },
   "types_to_exclude": [
    "module",
    "function",
    "builtin_function_or_method",
    "instance",
    "_Feature"
   ],
   "window_display": false
  }
 },
 "nbformat": 4,
 "nbformat_minor": 5
}
