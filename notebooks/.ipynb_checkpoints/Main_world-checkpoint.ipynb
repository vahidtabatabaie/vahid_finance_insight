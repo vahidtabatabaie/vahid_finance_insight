{
 "cells": [
  {
   "cell_type": "markdown",
   "metadata": {
    "colab_type": "text",
    "id": "view-in-github"
   },
   "source": [
    "<a href=\"https://colab.research.google.com/github/vahidtabatabaie/vahid_finance_insight/blob/master/Main_world.ipynb\" target=\"_parent\"><img src=\"https://colab.research.google.com/assets/colab-badge.svg\" alt=\"Open In Colab\"/></a>"
   ]
  },
  {
   "cell_type": "markdown",
   "metadata": {
    "colab_type": "text",
    "id": "CUsojhsYk5z2"
   },
   "source": [
    "Here is the link for document for Yahoo_fin package: [yahoo_fin documentation](http://theautomatic.net/yahoo_fin-documentation/)"
   ]
  },
  {
   "cell_type": "markdown",
   "metadata": {
    "colab_type": "text",
    "id": "ccYLZsaM-i_P"
   },
   "source": [
    "# Initiating the notebook"
   ]
  },
  {
   "cell_type": "code",
   "execution_count": 1,
   "metadata": {
    "colab": {
     "base_uri": "https://localhost:8080/",
     "height": 649
    },
    "colab_type": "code",
    "id": "7KiQcIYsibo7",
    "outputId": "30f93bb9-1a46-4228-ec4e-2cbbac6395b9"
   },
   "outputs": [
    {
     "name": "stdout",
     "output_type": "stream",
     "text": [
      "Collecting yahoo_fin"
     ]
    },
    {
     "name": "stderr",
     "output_type": "stream",
     "text": [
      "WARNING: You are using pip version 20.3.3; however, version 21.0.1 is available.\n",
      "You should consider upgrading via the 'C:\\Users\\tabat\\py39\\Scripts\\python.exe -m pip install --upgrade pip' command.\n"
     ]
    },
    {
     "name": "stdout",
     "output_type": "stream",
     "text": [
      "\n",
      "  Downloading yahoo_fin-0.8.6-py3-none-any.whl (8.7 kB)\n",
      "Installing collected packages: yahoo-fin\n",
      "Successfully installed yahoo-fin-0.8.6\n",
      "Requirement already satisfied: requests in c:\\users\\tabat\\py39\\lib\\site-packages (2.25.1)\n",
      "Requirement already satisfied: chardet<5,>=3.0.2 in c:\\users\\tabat\\py39\\lib\\site-packages (from requests) (4.0.0)\n",
      "Requirement already satisfied: idna<3,>=2.5 in c:\\users\\tabat\\py39\\lib\\site-packages (from requests) (2.10)\n",
      "Requirement already satisfied: urllib3<1.27,>=1.21.1 in c:\\users\\tabat\\py39\\lib\\site-packages (from requests) (1.26.2)\n",
      "Requirement already satisfied: certifi>=2017.4.17 in c:\\users\\tabat\\py39\\lib\\site-packages (from requests) (2020.12.5)\n"
     ]
    },
    {
     "name": "stderr",
     "output_type": "stream",
     "text": [
      "WARNING: You are using pip version 20.3.3; however, version 21.0.1 is available.\n",
      "You should consider upgrading via the 'C:\\Users\\tabat\\py39\\Scripts\\python.exe -m pip install --upgrade pip' command.\n"
     ]
    },
    {
     "name": "stdout",
     "output_type": "stream",
     "text": [
      "Collecting requests_html\n",
      "  Downloading requests_html-0.10.0-py3-none-any.whl (13 kB)\n",
      "Requirement already satisfied: requests in c:\\users\\tabat\\py39\\lib\\site-packages (from requests_html) (2.25.1)\n",
      "Collecting pyppeteer>=0.0.14\n",
      "  Downloading pyppeteer-0.2.5-py3-none-any.whl (87 kB)\n",
      "Requirement already satisfied: urllib3<2.0.0,>=1.25.8 in c:\\users\\tabat\\py39\\lib\\site-packages (from pyppeteer>=0.0.14->requests_html) (1.26.2)\n",
      "Collecting appdirs<2.0.0,>=1.4.3\n",
      "  Using cached appdirs-1.4.4-py2.py3-none-any.whl (9.6 kB)\n",
      "Collecting pyee<9.0.0,>=8.1.0\n",
      "  Downloading pyee-8.1.0-py2.py3-none-any.whl (12 kB)\n",
      "Collecting tqdm<5.0.0,>=4.42.1\n",
      "  Downloading tqdm-4.56.0-py2.py3-none-any.whl (72 kB)\n",
      "Collecting websockets<9.0,>=8.1\n",
      "  Downloading websockets-8.1.tar.gz (58 kB)\n",
      "Collecting bs4\n",
      "  Downloading bs4-0.0.1.tar.gz (1.1 kB)\n",
      "Collecting beautifulsoup4\n",
      "  Downloading beautifulsoup4-4.9.3-py3-none-any.whl (115 kB)\n",
      "Collecting soupsieve>1.2\n",
      "  Downloading soupsieve-2.1-py3-none-any.whl (32 kB)\n",
      "Collecting fake-useragent\n",
      "  Downloading fake-useragent-0.1.11.tar.gz (13 kB)\n",
      "Collecting parse\n",
      "  Downloading parse-1.19.0.tar.gz (30 kB)\n",
      "Collecting pyquery\n",
      "  Downloading pyquery-1.4.3-py3-none-any.whl (22 kB)\n",
      "Collecting cssselect>0.7.9\n",
      "  Downloading cssselect-1.1.0-py2.py3-none-any.whl (16 kB)\n",
      "Collecting lxml>=2.1\n",
      "  Downloading lxml-4.6.2-cp39-cp39-win_amd64.whl (3.5 MB)\n",
      "Requirement already satisfied: chardet<5,>=3.0.2 in c:\\users\\tabat\\py39\\lib\\site-packages (from requests->requests_html) (4.0.0)\n",
      "Requirement already satisfied: certifi>=2017.4.17 in c:\\users\\tabat\\py39\\lib\\site-packages (from requests->requests_html) (2020.12.5)\n",
      "Requirement already satisfied: idna<3,>=2.5 in c:\\users\\tabat\\py39\\lib\\site-packages (from requests->requests_html) (2.10)\n",
      "Collecting w3lib\n",
      "  Downloading w3lib-1.22.0-py2.py3-none-any.whl (20 kB)\n",
      "Requirement already satisfied: six>=1.4.1 in c:\\users\\tabat\\py39\\lib\\site-packages (from w3lib->requests_html) (1.15.0)\n",
      "Building wheels for collected packages: websockets, bs4, fake-useragent, parse\n",
      "  Building wheel for websockets (setup.py): started\n",
      "  Building wheel for websockets (setup.py): finished with status 'done'\n",
      "  Created wheel for websockets: filename=websockets-8.1-cp39-cp39-win_amd64.whl size=62752 sha256=a5be55bca634576fa96ad0c09e3b4f12415bad6c5dd90bd7c8404e3d7f3f3f4f\n",
      "  Stored in directory: c:\\users\\tabat\\appdata\\local\\packages\\pythonsoftwarefoundation.python.3.9_qbz5n2kfra8p0\\localcache\\local\\pip\\cache\\wheels\\d8\\b9\\a0\\b97b211aeda2ebd6ac2e43fc300d308dbf1f9df520ed390cae"
     ]
    },
    {
     "name": "stderr",
     "output_type": "stream",
     "text": [
      "WARNING: You are using pip version 20.3.3; however, version 21.0.1 is available.\n",
      "You should consider upgrading via the 'C:\\Users\\tabat\\py39\\Scripts\\python.exe -m pip install --upgrade pip' command.\n"
     ]
    },
    {
     "name": "stdout",
     "output_type": "stream",
     "text": [
      "\n",
      "  Building wheel for bs4 (setup.py): started\n",
      "  Building wheel for bs4 (setup.py): finished with status 'done'\n",
      "  Created wheel for bs4: filename=bs4-0.0.1-py3-none-any.whl size=1273 sha256=977beff83215f007916e2bf76d9eca00a6e34efb68d03a3bbedc8bb8ff70844a\n",
      "  Stored in directory: c:\\users\\tabat\\appdata\\local\\packages\\pythonsoftwarefoundation.python.3.9_qbz5n2kfra8p0\\localcache\\local\\pip\\cache\\wheels\\73\\2b\\cb\\099980278a0c9a3e57ff1a89875ec07bfa0b6fcbebb9a8cad3\n",
      "  Building wheel for fake-useragent (setup.py): started\n",
      "  Building wheel for fake-useragent (setup.py): finished with status 'done'\n",
      "  Created wheel for fake-useragent: filename=fake_useragent-0.1.11-py3-none-any.whl size=13486 sha256=26cd88c4e33164537c1551dd223079a99657d08792ba6ba09478cd996d445a48\n",
      "  Stored in directory: c:\\users\\tabat\\appdata\\local\\packages\\pythonsoftwarefoundation.python.3.9_qbz5n2kfra8p0\\localcache\\local\\pip\\cache\\wheels\\ae\\e7\\76\\7dd44644d065268ab0e1b4fa2e802fa4bb0157717b7d6c6d92\n",
      "  Building wheel for parse (setup.py): started\n",
      "  Building wheel for parse (setup.py): finished with status 'done'\n",
      "  Created wheel for parse: filename=parse-1.19.0-py3-none-any.whl size=24581 sha256=d32c0e30b704792522403ab8759aeba700701125c80712b53c64969b9ad61c72\n",
      "  Stored in directory: c:\\users\\tabat\\appdata\\local\\packages\\pythonsoftwarefoundation.python.3.9_qbz5n2kfra8p0\\localcache\\local\\pip\\cache\\wheels\\d6\\9c\\58\\ee3ba36897e890f3ad81e9b730791a153fce20caa4a8a474df\n",
      "Successfully built websockets bs4 fake-useragent parse\n",
      "Installing collected packages: soupsieve, websockets, tqdm, pyee, lxml, cssselect, beautifulsoup4, appdirs, w3lib, pyquery, pyppeteer, parse, fake-useragent, bs4, requests-html\n",
      "Successfully installed appdirs-1.4.4 beautifulsoup4-4.9.3 bs4-0.0.1 cssselect-1.1.0 fake-useragent-0.1.11 lxml-4.6.2 parse-1.19.0 pyee-8.1.0 pyppeteer-0.2.5 pyquery-1.4.3 requests-html-0.10.0 soupsieve-2.1 tqdm-4.56.0 w3lib-1.22.0 websockets-8.1\n"
     ]
    },
    {
     "name": "stderr",
     "output_type": "stream",
     "text": [
      "WARNING: You are using pip version 20.3.3; however, version 21.0.1 is available.\n",
      "You should consider upgrading via the 'C:\\Users\\tabat\\py39\\Scripts\\python.exe -m pip install --upgrade pip' command.\n"
     ]
    },
    {
     "name": "stdout",
     "output_type": "stream",
     "text": [
      "Collecting mplfinance\n",
      "  Downloading mplfinance-0.12.7a5-py3-none-any.whl (55 kB)\n",
      "Requirement already satisfied: pandas in c:\\users\\tabat\\py39\\lib\\site-packages (from mplfinance) (1.2.1)\n",
      "Collecting matplotlib\n",
      "  Downloading matplotlib-3.3.4-cp39-cp39-win_amd64.whl (8.5 MB)\n",
      "Requirement already satisfied: numpy>=1.15 in c:\\users\\tabat\\py39\\lib\\site-packages (from matplotlib->mplfinance) (1.19.5)\n",
      "Requirement already satisfied: python-dateutil>=2.1 in c:\\users\\tabat\\py39\\lib\\site-packages (from matplotlib->mplfinance) (2.8.1)\n",
      "Requirement already satisfied: pyparsing!=2.0.4,!=2.1.2,!=2.1.6,>=2.0.3 in c:\\users\\tabat\\py39\\lib\\site-packages (from matplotlib->mplfinance) (2.4.7)\n",
      "Collecting cycler>=0.10\n",
      "  Downloading cycler-0.10.0-py2.py3-none-any.whl (6.5 kB)\n",
      "Requirement already satisfied: six in c:\\users\\tabat\\py39\\lib\\site-packages (from cycler>=0.10->matplotlib->mplfinance) (1.15.0)\n",
      "Collecting kiwisolver>=1.0.1\n",
      "  Downloading kiwisolver-1.3.1-cp39-cp39-win_amd64.whl (51 kB)\n",
      "Collecting pillow>=6.2.0\n",
      "  Downloading Pillow-8.1.0-cp39-cp39-win_amd64.whl (2.2 MB)\n",
      "Requirement already satisfied: pytz>=2017.3 in c:\\users\\tabat\\py39\\lib\\site-packages (from pandas->mplfinance) (2020.5)\n",
      "Installing collected packages: pillow, kiwisolver, cycler, matplotlib, mplfinance\n",
      "Successfully installed cycler-0.10.0 kiwisolver-1.3.1 matplotlib-3.3.4 mplfinance-0.12.7a5 pillow-8.1.0\n"
     ]
    },
    {
     "name": "stderr",
     "output_type": "stream",
     "text": [
      "Matplotlib is building the font cache; this may take a moment.\n"
     ]
    }
   ],
   "source": [
    "# install required package\n",
    "!pip install yahoo_fin\n",
    "!pip install requests\n",
    "!pip install requests_html\n",
    "!pip install mplfinance\n",
    "\n",
    "# import stock_info module from yahoo_fin\n",
    "from yahoo_fin import stock_info as si\n",
    "import mplfinance as mpf"
   ]
  },
  {
   "cell_type": "markdown",
   "metadata": {
    "colab_type": "text",
    "id": "2UDFE8rR-qLU"
   },
   "source": [
    "# Testing the API's"
   ]
  },
  {
   "cell_type": "code",
   "execution_count": 2,
   "metadata": {
    "colab": {
     "base_uri": "https://localhost:8080/",
     "height": 34
    },
    "colab_type": "code",
    "id": "KeBAHzw7iipt",
    "outputId": "feb75c17-b69f-4fe6-bda2-f4e53eaf2539"
   },
   "outputs": [
    {
     "data": {
      "text/plain": [
       "136.75999450683594"
      ]
     },
     "execution_count": 2,
     "metadata": {},
     "output_type": "execute_result"
    }
   ],
   "source": [
    "# get live price of Apple\n",
    "si.get_live_price(\"aapl\")\n",
    " \n",
    "# # or Amazon\n",
    "# si.get_live_price(\"amzn\")\n",
    " \n",
    "# # or any other ticker\n",
    "# si.get_live_price(ticker)"
   ]
  },
  {
   "cell_type": "code",
   "execution_count": 3,
   "metadata": {
    "colab": {
     "base_uri": "https://localhost:8080/",
     "height": 483
    },
    "colab_type": "code",
    "id": "SX9jxMG_iouw",
    "outputId": "1fc2ecb4-16b8-43e0-dcc7-61db584022d6"
   },
   "outputs": [
    {
     "data": {
      "text/html": [
       "<div>\n",
       "<style scoped>\n",
       "    .dataframe tbody tr th:only-of-type {\n",
       "        vertical-align: middle;\n",
       "    }\n",
       "\n",
       "    .dataframe tbody tr th {\n",
       "        vertical-align: top;\n",
       "    }\n",
       "\n",
       "    .dataframe thead th {\n",
       "        text-align: right;\n",
       "    }\n",
       "</style>\n",
       "<table border=\"1\" class=\"dataframe\">\n",
       "  <thead>\n",
       "    <tr style=\"text-align: right;\">\n",
       "      <th>endDate</th>\n",
       "      <th>2020-06-30</th>\n",
       "      <th>2019-06-30</th>\n",
       "      <th>2018-06-30</th>\n",
       "      <th>2017-06-30</th>\n",
       "    </tr>\n",
       "    <tr>\n",
       "      <th>Breakdown</th>\n",
       "      <th></th>\n",
       "      <th></th>\n",
       "      <th></th>\n",
       "      <th></th>\n",
       "    </tr>\n",
       "  </thead>\n",
       "  <tbody>\n",
       "    <tr>\n",
       "      <th>intangibleAssets</th>\n",
       "      <td>7038000000</td>\n",
       "      <td>7750000000</td>\n",
       "      <td>8053000000</td>\n",
       "      <td>10106000000</td>\n",
       "    </tr>\n",
       "    <tr>\n",
       "      <th>totalLiab</th>\n",
       "      <td>183007000000</td>\n",
       "      <td>184226000000</td>\n",
       "      <td>176130000000</td>\n",
       "      <td>162601000000</td>\n",
       "    </tr>\n",
       "    <tr>\n",
       "      <th>totalStockholderEquity</th>\n",
       "      <td>118304000000</td>\n",
       "      <td>102330000000</td>\n",
       "      <td>82718000000</td>\n",
       "      <td>87711000000</td>\n",
       "    </tr>\n",
       "    <tr>\n",
       "      <th>otherCurrentLiab</th>\n",
       "      <td>46001000000</td>\n",
       "      <td>45860000000</td>\n",
       "      <td>38195000000</td>\n",
       "      <td>30879000000</td>\n",
       "    </tr>\n",
       "    <tr>\n",
       "      <th>totalAssets</th>\n",
       "      <td>301311000000</td>\n",
       "      <td>286556000000</td>\n",
       "      <td>258848000000</td>\n",
       "      <td>250312000000</td>\n",
       "    </tr>\n",
       "    <tr>\n",
       "      <th>commonStock</th>\n",
       "      <td>80552000000</td>\n",
       "      <td>78520000000</td>\n",
       "      <td>71223000000</td>\n",
       "      <td>69315000000</td>\n",
       "    </tr>\n",
       "    <tr>\n",
       "      <th>otherCurrentAssets</th>\n",
       "      <td>11517000000</td>\n",
       "      <td>10133000000</td>\n",
       "      <td>6855000000</td>\n",
       "      <td>5183000000</td>\n",
       "    </tr>\n",
       "    <tr>\n",
       "      <th>retainedEarnings</th>\n",
       "      <td>34566000000</td>\n",
       "      <td>24150000000</td>\n",
       "      <td>13682000000</td>\n",
       "      <td>17769000000</td>\n",
       "    </tr>\n",
       "    <tr>\n",
       "      <th>otherLiab</th>\n",
       "      <td>34492000000</td>\n",
       "      <td>35699000000</td>\n",
       "      <td>35707000000</td>\n",
       "      <td>22986000000</td>\n",
       "    </tr>\n",
       "    <tr>\n",
       "      <th>goodWill</th>\n",
       "      <td>43351000000</td>\n",
       "      <td>42026000000</td>\n",
       "      <td>35683000000</td>\n",
       "      <td>35122000000</td>\n",
       "    </tr>\n",
       "    <tr>\n",
       "      <th>treasuryStock</th>\n",
       "      <td>3186000000</td>\n",
       "      <td>-340000000</td>\n",
       "      <td>-2187000000</td>\n",
       "      <td>627000000</td>\n",
       "    </tr>\n",
       "    <tr>\n",
       "      <th>otherAssets</th>\n",
       "      <td>13138000000</td>\n",
       "      <td>14723000000</td>\n",
       "      <td>7442000000</td>\n",
       "      <td>6076000000</td>\n",
       "    </tr>\n",
       "    <tr>\n",
       "      <th>cash</th>\n",
       "      <td>13576000000</td>\n",
       "      <td>11356000000</td>\n",
       "      <td>11946000000</td>\n",
       "      <td>7663000000</td>\n",
       "    </tr>\n",
       "    <tr>\n",
       "      <th>totalCurrentLiabilities</th>\n",
       "      <td>72310000000</td>\n",
       "      <td>69420000000</td>\n",
       "      <td>58488000000</td>\n",
       "      <td>55745000000</td>\n",
       "    </tr>\n",
       "    <tr>\n",
       "      <th>deferredLongTermAssetCharges</th>\n",
       "      <td>6405000000</td>\n",
       "      <td>7536000000</td>\n",
       "      <td>1369000000</td>\n",
       "      <td>248000000</td>\n",
       "    </tr>\n",
       "    <tr>\n",
       "      <th>shortLongTermDebt</th>\n",
       "      <td>3749000000</td>\n",
       "      <td>5516000000</td>\n",
       "      <td>3998000000</td>\n",
       "      <td>1049000000</td>\n",
       "    </tr>\n",
       "    <tr>\n",
       "      <th>otherStockholderEquity</th>\n",
       "      <td>3186000000</td>\n",
       "      <td>-340000000</td>\n",
       "      <td>-2187000000</td>\n",
       "      <td>627000000</td>\n",
       "    </tr>\n",
       "    <tr>\n",
       "      <th>propertyPlantEquipment</th>\n",
       "      <td>52904000000</td>\n",
       "      <td>43856000000</td>\n",
       "      <td>36146000000</td>\n",
       "      <td>30289000000</td>\n",
       "    </tr>\n",
       "    <tr>\n",
       "      <th>totalCurrentAssets</th>\n",
       "      <td>181915000000</td>\n",
       "      <td>175552000000</td>\n",
       "      <td>169662000000</td>\n",
       "      <td>162696000000</td>\n",
       "    </tr>\n",
       "    <tr>\n",
       "      <th>longTermInvestments</th>\n",
       "      <td>2965000000</td>\n",
       "      <td>2649000000</td>\n",
       "      <td>1862000000</td>\n",
       "      <td>6023000000</td>\n",
       "    </tr>\n",
       "    <tr>\n",
       "      <th>netTangibleAssets</th>\n",
       "      <td>67915000000</td>\n",
       "      <td>52554000000</td>\n",
       "      <td>38982000000</td>\n",
       "      <td>42483000000</td>\n",
       "    </tr>\n",
       "    <tr>\n",
       "      <th>shortTermInvestments</th>\n",
       "      <td>122916000000</td>\n",
       "      <td>122476000000</td>\n",
       "      <td>121718000000</td>\n",
       "      <td>125238000000</td>\n",
       "    </tr>\n",
       "    <tr>\n",
       "      <th>netReceivables</th>\n",
       "      <td>32011000000</td>\n",
       "      <td>29524000000</td>\n",
       "      <td>26481000000</td>\n",
       "      <td>22431000000</td>\n",
       "    </tr>\n",
       "    <tr>\n",
       "      <th>longTermDebt</th>\n",
       "      <td>59578000000</td>\n",
       "      <td>66662000000</td>\n",
       "      <td>72242000000</td>\n",
       "      <td>76073000000</td>\n",
       "    </tr>\n",
       "    <tr>\n",
       "      <th>inventory</th>\n",
       "      <td>1895000000</td>\n",
       "      <td>2063000000</td>\n",
       "      <td>2662000000</td>\n",
       "      <td>2181000000</td>\n",
       "    </tr>\n",
       "    <tr>\n",
       "      <th>accountsPayable</th>\n",
       "      <td>12530000000</td>\n",
       "      <td>9382000000</td>\n",
       "      <td>8617000000</td>\n",
       "      <td>7390000000</td>\n",
       "    </tr>\n",
       "  </tbody>\n",
       "</table>\n",
       "</div>"
      ],
      "text/plain": [
       "endDate                         2020-06-30    2019-06-30    2018-06-30  \\\n",
       "Breakdown                                                                \n",
       "intangibleAssets                7038000000    7750000000    8053000000   \n",
       "totalLiab                     183007000000  184226000000  176130000000   \n",
       "totalStockholderEquity        118304000000  102330000000   82718000000   \n",
       "otherCurrentLiab               46001000000   45860000000   38195000000   \n",
       "totalAssets                   301311000000  286556000000  258848000000   \n",
       "commonStock                    80552000000   78520000000   71223000000   \n",
       "otherCurrentAssets             11517000000   10133000000    6855000000   \n",
       "retainedEarnings               34566000000   24150000000   13682000000   \n",
       "otherLiab                      34492000000   35699000000   35707000000   \n",
       "goodWill                       43351000000   42026000000   35683000000   \n",
       "treasuryStock                   3186000000    -340000000   -2187000000   \n",
       "otherAssets                    13138000000   14723000000    7442000000   \n",
       "cash                           13576000000   11356000000   11946000000   \n",
       "totalCurrentLiabilities        72310000000   69420000000   58488000000   \n",
       "deferredLongTermAssetCharges    6405000000    7536000000    1369000000   \n",
       "shortLongTermDebt               3749000000    5516000000    3998000000   \n",
       "otherStockholderEquity          3186000000    -340000000   -2187000000   \n",
       "propertyPlantEquipment         52904000000   43856000000   36146000000   \n",
       "totalCurrentAssets            181915000000  175552000000  169662000000   \n",
       "longTermInvestments             2965000000    2649000000    1862000000   \n",
       "netTangibleAssets              67915000000   52554000000   38982000000   \n",
       "shortTermInvestments          122916000000  122476000000  121718000000   \n",
       "netReceivables                 32011000000   29524000000   26481000000   \n",
       "longTermDebt                   59578000000   66662000000   72242000000   \n",
       "inventory                       1895000000    2063000000    2662000000   \n",
       "accountsPayable                12530000000    9382000000    8617000000   \n",
       "\n",
       "endDate                         2017-06-30  \n",
       "Breakdown                                   \n",
       "intangibleAssets               10106000000  \n",
       "totalLiab                     162601000000  \n",
       "totalStockholderEquity         87711000000  \n",
       "otherCurrentLiab               30879000000  \n",
       "totalAssets                   250312000000  \n",
       "commonStock                    69315000000  \n",
       "otherCurrentAssets              5183000000  \n",
       "retainedEarnings               17769000000  \n",
       "otherLiab                      22986000000  \n",
       "goodWill                       35122000000  \n",
       "treasuryStock                    627000000  \n",
       "otherAssets                     6076000000  \n",
       "cash                            7663000000  \n",
       "totalCurrentLiabilities        55745000000  \n",
       "deferredLongTermAssetCharges     248000000  \n",
       "shortLongTermDebt               1049000000  \n",
       "otherStockholderEquity           627000000  \n",
       "propertyPlantEquipment         30289000000  \n",
       "totalCurrentAssets            162696000000  \n",
       "longTermInvestments             6023000000  \n",
       "netTangibleAssets              42483000000  \n",
       "shortTermInvestments          125238000000  \n",
       "netReceivables                 22431000000  \n",
       "longTermDebt                   76073000000  \n",
       "inventory                       2181000000  \n",
       "accountsPayable                 7390000000  "
      ]
     },
     "execution_count": 3,
     "metadata": {},
     "output_type": "execute_result"
    }
   ],
   "source": [
    "# get most active stocks on the day\n",
    "#si.get_day_most_active()\n",
    " \n",
    "# # get biggest gainers\n",
    "#si.get_day_gainers()\n",
    " \n",
    "# # get worst performers\n",
    "# si.get_day_losers()\n",
    "si.get_balance_sheet(\"msft\")"
   ]
  },
  {
   "cell_type": "markdown",
   "metadata": {
    "colab_type": "text",
    "id": "94y9tstW-vmZ"
   },
   "source": [
    "# Getiting rates of MICROSOFT"
   ]
  },
  {
   "cell_type": "code",
   "execution_count": 4,
   "metadata": {
    "colab": {},
    "colab_type": "code",
    "id": "PJKnbcJai9eY"
   },
   "outputs": [],
   "source": [
    "msft_data = si.get_data('msft')"
   ]
  },
  {
   "cell_type": "code",
   "execution_count": 5,
   "metadata": {
    "colab": {
     "base_uri": "https://localhost:8080/",
     "height": 504
    },
    "colab_type": "code",
    "id": "ADmSsTj0kPoA",
    "outputId": "ee1abd3c-3104-4187-ee73-855bea33e015"
   },
   "outputs": [
    {
     "data": {
      "image/png": "[encoded data removed]",
      "text/plain": [
       "<Figure size 1152x648 with 1 Axes>"
      ]
     },
     "metadata": {
      "needs_background": "light"
     },
     "output_type": "display_data"
    }
   ],
   "source": [
    "msft_data.plot(y='open', figsize=(16,9));"
   ]
  },
  {
   "cell_type": "code",
   "execution_count": 6,
   "metadata": {
    "colab": {
     "base_uri": "https://localhost:8080/",
     "height": 500
    },
    "colab_type": "code",
    "id": "dlhjjwYkkS6M",
    "outputId": "56f34dd4-421d-47bd-bdfc-6f1f1d1294e9"
   },
   "outputs": [
    {
     "data": {
      "image/png": "[encoded data removed]",
      "text/plain": [
       "<Figure size 1152x648 with 1 Axes>"
      ]
     },
     "metadata": {
      "needs_background": "light"
     },
     "output_type": "display_data"
    }
   ],
   "source": [
    "EADSF_data = si.get_data('EADSF')\n",
    "EADSF_data.plot(y='open', figsize=(16,9));"
   ]
  },
  {
   "cell_type": "code",
   "execution_count": 7,
   "metadata": {
    "colab": {
     "base_uri": "https://localhost:8080/",
     "height": 204
    },
    "colab_type": "code",
    "id": "lEPuBo2Bkz0-",
    "outputId": "9fffb098-4fc3-4151-b95a-86e04db85454"
   },
   "outputs": [
    {
     "data": {
      "text/html": [
       "<div>\n",
       "<style scoped>\n",
       "    .dataframe tbody tr th:only-of-type {\n",
       "        vertical-align: middle;\n",
       "    }\n",
       "\n",
       "    .dataframe tbody tr th {\n",
       "        vertical-align: top;\n",
       "    }\n",
       "\n",
       "    .dataframe thead th {\n",
       "        text-align: right;\n",
       "    }\n",
       "</style>\n",
       "<table border=\"1\" class=\"dataframe\">\n",
       "  <thead>\n",
       "    <tr style=\"text-align: right;\">\n",
       "      <th></th>\n",
       "      <th>open</th>\n",
       "      <th>high</th>\n",
       "      <th>low</th>\n",
       "      <th>close</th>\n",
       "      <th>adjclose</th>\n",
       "      <th>volume</th>\n",
       "      <th>ticker</th>\n",
       "    </tr>\n",
       "  </thead>\n",
       "  <tbody>\n",
       "    <tr>\n",
       "      <th>2009-02-13</th>\n",
       "      <td>17.299999</td>\n",
       "      <td>17.299999</td>\n",
       "      <td>17.299999</td>\n",
       "      <td>17.299999</td>\n",
       "      <td>15.762897</td>\n",
       "      <td>100</td>\n",
       "      <td>EADSF</td>\n",
       "    </tr>\n",
       "    <tr>\n",
       "      <th>2009-02-17</th>\n",
       "      <td>16.500000</td>\n",
       "      <td>16.500000</td>\n",
       "      <td>16.450001</td>\n",
       "      <td>16.450001</td>\n",
       "      <td>14.988421</td>\n",
       "      <td>300</td>\n",
       "      <td>EADSF</td>\n",
       "    </tr>\n",
       "    <tr>\n",
       "      <th>2009-02-18</th>\n",
       "      <td>16.500000</td>\n",
       "      <td>16.500000</td>\n",
       "      <td>16.150000</td>\n",
       "      <td>16.150000</td>\n",
       "      <td>14.715076</td>\n",
       "      <td>2300</td>\n",
       "      <td>EADSF</td>\n",
       "    </tr>\n",
       "    <tr>\n",
       "      <th>2009-02-19</th>\n",
       "      <td>16.150000</td>\n",
       "      <td>16.150000</td>\n",
       "      <td>16.150000</td>\n",
       "      <td>16.150000</td>\n",
       "      <td>14.715076</td>\n",
       "      <td>0</td>\n",
       "      <td>EADSF</td>\n",
       "    </tr>\n",
       "    <tr>\n",
       "      <th>2009-02-20</th>\n",
       "      <td>16.150000</td>\n",
       "      <td>16.150000</td>\n",
       "      <td>16.150000</td>\n",
       "      <td>16.150000</td>\n",
       "      <td>14.715076</td>\n",
       "      <td>0</td>\n",
       "      <td>EADSF</td>\n",
       "    </tr>\n",
       "  </tbody>\n",
       "</table>\n",
       "</div>"
      ],
      "text/plain": [
       "                 open       high        low      close   adjclose  volume  \\\n",
       "2009-02-13  17.299999  17.299999  17.299999  17.299999  15.762897     100   \n",
       "2009-02-17  16.500000  16.500000  16.450001  16.450001  14.988421     300   \n",
       "2009-02-18  16.500000  16.500000  16.150000  16.150000  14.715076    2300   \n",
       "2009-02-19  16.150000  16.150000  16.150000  16.150000  14.715076       0   \n",
       "2009-02-20  16.150000  16.150000  16.150000  16.150000  14.715076       0   \n",
       "\n",
       "           ticker  \n",
       "2009-02-13  EADSF  \n",
       "2009-02-17  EADSF  \n",
       "2009-02-18  EADSF  \n",
       "2009-02-19  EADSF  \n",
       "2009-02-20  EADSF  "
      ]
     },
     "execution_count": 7,
     "metadata": {},
     "output_type": "execute_result"
    }
   ],
   "source": [
    "EADSF_data.head(5)"
   ]
  },
  {
   "cell_type": "code",
   "execution_count": 9,
   "metadata": {
    "colab": {},
    "colab_type": "code",
    "id": "ZMYhCNA7nk3g"
   },
   "outputs": [
    {
     "name": "stdout",
     "output_type": "stream",
     "text": [
      "Collecting plotly\n",
      "  Downloading plotly-4.14.3-py2.py3-none-any.whl (13.2 MB)\n",
      "Requirement already satisfied: six in c:\\users\\tabat\\py39\\lib\\site-packages (from plotly) (1.15.0)\n",
      "Collecting retrying>=1.3.3\n",
      "  Downloading retrying-1.3.3.tar.gz (10 kB)\n",
      "Building wheels for collected packages: retrying\n",
      "  Building wheel for retrying (setup.py): started\n",
      "  Building wheel for retrying (setup.py): finished with status 'done'\n",
      "  Created wheel for retrying: filename=retrying-1.3.3-py3-none-any.whl size=11429 sha256=03cf6139b8b878ba6aa6019869fc852e25bd28c33a1b00a58ddba19ade685c26\n",
      "  Stored in directory: c:\\users\\tabat\\appdata\\local\\packages\\pythonsoftwarefoundation.python.3.9_qbz5n2kfra8p0\\localcache\\local\\pip\\cache\\wheels\\ce\\18\\7f\\e9527e3e66db1456194ac7f61eb3211068c409edceecff2d31\n",
      "Successfully built retrying\n",
      "Installing collected packages: retrying, plotly\n",
      "Successfully installed plotly-4.14.3 retrying-1.3.3\n"
     ]
    },
    {
     "name": "stderr",
     "output_type": "stream",
     "text": [
      "WARNING: You are using pip version 20.3.3; however, version 21.0.1 is available.\n",
      "You should consider upgrading via the 'C:\\Users\\tabat\\py39\\Scripts\\python.exe -m pip install --upgrade pip' command.\n"
     ]
    }
   ],
   "source": [
    "# https://plotly.com/python/candlestick-charts/\n",
    "#!pip3 install plotly\n",
    "import plotly.graph_objects as go\n",
    "\n",
    "import pandas as pd\n",
    "from datetime import datetime\n",
    "\n",
    "df = pd.read_csv('https://raw.githubusercontent.com/plotly/datasets/master/finance-charts-apple.csv')\n",
    "\n",
    "fig = go.Figure(data=[go.Candlestick(x=df['Date'],\n",
    "                open=df['AAPL.Open'],\n",
    "                high=df['AAPL.High'],\n",
    "                low=df['AAPL.Low'],\n",
    "                close=df['AAPL.Close'])])\n"
   ]
  },
  {
   "cell_type": "markdown",
   "metadata": {
    "colab_type": "text",
    "id": "e-uQD39c3u4f"
   },
   "source": [
    "https://towardsdatascience.com/trading-toolbox-03-ohlc-charts-95b48bb9d748\n",
    "\n"
   ]
  },
  {
   "cell_type": "markdown",
   "metadata": {
    "colab_type": "text",
    "id": "tn5n_rjSpDu2"
   },
   "source": [
    "https://pypi.org/project/googlefinance/"
   ]
  },
  {
   "cell_type": "markdown",
   "metadata": {
    "colab_type": "text",
    "id": "UyQZ_Z05sQSu"
   },
   "source": [
    "https://pypi.org/project/yfinance/#description"
   ]
  },
  {
   "cell_type": "markdown",
   "metadata": {
    "colab_type": "text",
    "id": "S4l3qajJsR2E"
   },
   "source": [
    "https://aroussi.com/post/python-yahoo-finance"
   ]
  }
 ],
 "metadata": {
  "colab": {
   "authorship_tag": "ABX9TyP+UKptF1eogbtwQsY2OB/A",
   "collapsed_sections": [
    "ccYLZsaM-i_P",
    "2UDFE8rR-qLU"
   ],
   "include_colab_link": true,
   "name": "Main_world.ipynb",
   "provenance": []
  },
  "kernelspec": {
   "display_name": "Python 3",
   "language": "python",
   "name": "python3"
  },
  "language_info": {
   "codemirror_mode": {
    "name": "ipython",
    "version": 3
   },
   "file_extension": ".py",
   "mimetype": "text/x-python",
   "name": "python",
   "nbconvert_exporter": "python",
   "pygments_lexer": "ipython3",
   "version": "3.9.1"
  }
 },
 "nbformat": 4,
 "nbformat_minor": 1
}
