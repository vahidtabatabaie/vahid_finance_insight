{
 "cells": [
  {
   "cell_type": "markdown",
   "id": "44435b1e",
   "metadata": {},
   "source": [
    "# Import packages"
   ]
  },
  {
   "cell_type": "code",
   "execution_count": 9,
   "id": "e1174765",
   "metadata": {
    "ExecuteTime": {
     "end_time": "2021-08-12T16:25:45.198179Z",
     "start_time": "2021-08-12T16:25:45.106741Z"
    }
   },
   "outputs": [],
   "source": [
    "try:\n",
    "    from requests_html import HTMLSession\n",
    "except: \n",
    "    !pip install requests_html\n",
    "    from requests_html import HTMLSession\n",
    "    \n",
    "try:\n",
    "    import pandas as pd\n",
    "    import numpy as np\n",
    "except:\n",
    "    !pip install pandas\n",
    "    import pandas as pd\n",
    "    import numpy as np\n",
    "\n",
    "try:\n",
    "    from Stockie.stockie import stockie\n",
    "except:\n",
    "    !pip install stockie\n",
    "    !pip install seaborn\n",
    "    from Stockie.stockie import stockie\n",
    "\n",
    "try:\n",
    "    import yfinance as yf\n",
    "except:\n",
    "    !pip install yfinance\n",
    "    import yfinance as yf\n",
    "\n",
    "try:\n",
    "    from mplfinance.original_flavor import candlestick_ohlc\n",
    "except:\n",
    "    !pip install mplfinance\n",
    "    from mplfinance.original_flavor import candlestick_ohlc\n",
    "    \n",
    "try:\n",
    "    import plotly.graph_objects as go\n",
    "    import plotly.subplots as ms\n",
    "except:\n",
    "    !pip install plotly\n",
    "    import plotly.graph_objects as go\n",
    "    import plotly.subplots as ms\n",
    "    \n",
    "try:\n",
    "    from datetime import datetime\n",
    "except:\n",
    "    !pip install datetime\n",
    "    from datetime import datetime\n",
    "    \n",
    "try:\n",
    "    from ta import add_all_ta_features\n",
    "    from ta.utils import dropna\n",
    "except:\n",
    "    !pip install ta \n",
    "    from ta import add_all_ta_features\n",
    "    from ta.utils import dropna   \n",
    "    \n",
    "try:\n",
    "    from scipy.signal import savgol_filter as smooth\n",
    "except:\n",
    "    !pip install scipy\n",
    "    from scipy.signal import savgol_filter as smooth\n",
    "\n",
    "try:\n",
    "    import trendln\n",
    "except:\n",
    "    !pip install trendln\n",
    "    import trendln\n",
    "\n",
    "try:\n",
    "    import investpy\n",
    "except:\n",
    "    !pip install investpy\n",
    "    import investpy\n",
    "    \n",
    "try:\n",
    "    import time\n",
    "except:\n",
    "    !pip install time\n",
    "    import time\n",
    "\n",
    "try:\n",
    "    import quandl\n",
    "except:\n",
    "    !pip install quandl\n",
    "    import quandl\n",
    "    \n",
    "try:\n",
    "    import json\n",
    "except:\n",
    "    !pip install json\n",
    "    import json\n",
    "    \n",
    "try:\n",
    "    import requests\n",
    "except:\n",
    "    !pip install requests\n",
    "    import requests\n",
    "\n",
    "try:\n",
    "    from bs4 import BeautifulSoup\n",
    "except:\n",
    "    !pip install bs4\n",
    "    from bs4 import BeautifulSoup\n",
    "    \n",
    "import matplotlib.dates as mpl_dates\n",
    "import matplotlib.pyplot as plt\n",
    "import numpy as np\n",
    "from IPython.display import clear_output\n",
    "\n",
    "\n",
    "import warnings\n",
    "warnings.filterwarnings('ignore')"
   ]
  },
  {
   "cell_type": "markdown",
   "id": "01f8932a",
   "metadata": {},
   "source": [
    "# Define functions"
   ]
  },
  {
   "cell_type": "code",
   "execution_count": 10,
   "id": "286deefe",
   "metadata": {
    "ExecuteTime": {
     "end_time": "2021-08-12T16:25:45.204670Z",
     "start_time": "2021-08-12T16:25:45.199975Z"
    },
    "hide_input": true
   },
   "outputs": [],
   "source": [
    "# Get market info from INGSPRINTER\n",
    "def market_info(market):\n",
    "    market = market.replace('(', '')\n",
    "    market = market.replace(')', '')\n",
    "    market = market.replace(' ', '-')\n",
    "\n",
    "    url = 'https://www.ingsprinters.nl/sprinters/' + market\n",
    "\n",
    "    r = HTMLSession().get(url)\n",
    "\n",
    "    value = r.html.find('span', clean=True)\n",
    "    \n",
    "    return float(value[4].text.strip().replace('.', '').replace(',', '.'))\n",
    "\n",
    "def sprinter_list(market):\n",
    "    \n",
    "    url = 'https://www.ingsprinters.nl/zoeken?q=' + market\n",
    "\n",
    "    r = HTMLSession().get(url)\n",
    "\n",
    "    payload = {}\n",
    "    data = r.html.find('a.fill-cell', clean=True)\n",
    "\n",
    "\n",
    "    for item in data:\n",
    "        if 'long'.capitalize() in item.text:\n",
    "            payload[item.text] = re.sub(r'.*/NL', 'NL', item.attrs[\"href\"])\n",
    "        if 'short'.capitalize() in item.text:\n",
    "            payload[item.text] = re.sub(r'.*/NL', 'NL', item.attrs[\"href\"])\n",
    "\n",
    "    return payload"
   ]
  },
  {
   "cell_type": "code",
   "execution_count": 11,
   "id": "2cbf1818",
   "metadata": {
    "ExecuteTime": {
     "end_time": "2021-08-12T16:25:45.209512Z",
     "start_time": "2021-08-12T16:25:45.205744Z"
    }
   },
   "outputs": [],
   "source": [
    "def investing_com_histroy(pair_id, pair_id_for_news, pair_interval, Referer):\n",
    "    url = 'https://www.investing.com/common/modules/js_instrument_chart/api/data.php?pair_id=' +\\\n",
    "    pair_id + '&pair_id_for_news=' + pair_id_for_news + '&chart_type=candlestick&pair_interval=' +\\\n",
    "    pair_interval + '&candle_count=120&events=yes&volume_series=yes&period='\n",
    "    \n",
    "    headers = {\n",
    "        'User-Agent':\n",
    "        'Mozilla/5.0 (X11; Ubuntu; Linux x86_64; rv:81.0) Gecko/20100101 Firefox/81.0',\n",
    "        'X-Requested-With': 'XMLHttpRequest',\n",
    "        'Referer': Referer\n",
    "    }\n",
    "    data = requests.get(url, headers=headers).json()\n",
    "\n",
    "    df = pd.DataFrame(data['candles'],\n",
    "                      columns=[\n",
    "                          'date_time', 'open', 'high', 'low', 'close',\n",
    "                          'volume', 'zero'\n",
    "                      ])\n",
    "    df['date_time'] = df.apply(\n",
    "        lambda x: datetime.fromtimestamp(x['date_time'] // 1000), axis=1)\n",
    "    return df\n",
    "\n"
   ]
  },
  {
   "cell_type": "code",
   "execution_count": 12,
   "id": "fd567a2b",
   "metadata": {
    "ExecuteTime": {
     "end_time": "2021-08-12T16:25:45.216324Z",
     "start_time": "2021-08-12T16:25:45.211203Z"
    }
   },
   "outputs": [],
   "source": [
    "def combine_ta_dfs_per_period(ta_features_df, pivot_points_df,\n",
    "                              selected_indicators, price_columns, rolling_avg):\n",
    "    result = {}\n",
    "    for i in selected_indicators:\n",
    "        if i not in price_columns:\n",
    "            if ('volume' in i) or ('_bb' in i):\n",
    "                result[i + ''] = round(\n",
    "                    np.mean(ta_features_df[ta_features_df.Volume > 0].tail(1)[i]), 2)\n",
    "                if rolling_avg>0 :\n",
    "                    result[i + '_roling_avg_5'] = round(\n",
    "                        ta_features_df[ta_features_df.Volume > 0].tail(rolling_avg)\n",
    "                        [i].mean(), 2)\n",
    "                \n",
    "            else:\n",
    "                result[i + ''] = round(np.mean(ta_features_df.tail(1)[i]), 2)\n",
    "                if rolling_avg>0 :\n",
    "                    result[i + '_roling_avg_5'] = round(\n",
    "                        ta_features_df.tail(rolling_avg)[i].mean(), 2)\n",
    "    dictionaryObject = pivot_points_df.set_index('name').to_dict()\n",
    "    for i in dictionaryObject.keys():\n",
    "        for j in dictionaryObject[i].keys():\n",
    "            if (not np.isnan(dictionaryObject[i][j])) and ( j== 'Fibonacci'): #j == 'Classic' or\n",
    "                result[j + '_' + i] = dictionaryObject[i][j]\n",
    "    return result"
   ]
  },
  {
   "cell_type": "markdown",
   "id": "cee58fc7",
   "metadata": {},
   "source": [
    "# Settings:"
   ]
  },
  {
   "cell_type": "code",
   "execution_count": 13,
   "id": "7ba4354b",
   "metadata": {
    "ExecuteTime": {
     "end_time": "2021-08-12T16:25:45.222530Z",
     "start_time": "2021-08-12T16:25:45.217462Z"
    }
   },
   "outputs": [],
   "source": [
    "Euro_market_close_time = '17:40'\n",
    "\n",
    "# Index List\n",
    "watchlist = ['DAX']  #,'Dow Jones', 'S&P 500', 'AEX', 'CAC40', 'NASDAQ'\n",
    "# Indexes tickeres per library\n",
    "ticker_list = {\n",
    "    'DAX': {\n",
    "        'yfinance': '^GDAXI',\n",
    "        'ingsprinter': 'DAX',\n",
    "        'investpy': 'dax',\n",
    "        'country': 'germany',\n",
    "        'type': 'index',\n",
    "        'pair_id': '172',\n",
    "        'pair_id_for_news': '172',\n",
    "        'Referer': 'https://www.investing.com/indices/germany-30'\n",
    "        \n",
    "    },\n",
    "    'NASDAQ': {\n",
    "        'yfinance': '^IXIC',\n",
    "        'ingsprinter': 'NASDAQ-100',\n",
    "        'investpy': 'nasdaq',\n",
    "        'country': 'united states',\n",
    "        'type': 'index',\n",
    "        'pair_id': '20',\n",
    "        'pair_id_for_news': '20',\n",
    "        'Referer': 'https://www.investing.com/indices/nq-100'\n",
    "    }\n",
    "}\n",
    "\n",
    "first_round_interval = ['1mo', '1wk', '1d']\n",
    "second_round_inverval = ['1h', '30m', '15m']#, '5m']\n",
    "\n",
    "Periods = {\n",
    "    '3mo': '5y',\n",
    "    '1mo': '5y',\n",
    "    '1wk': '2y',\n",
    "    '1d': '1y',\n",
    "    '1h': 'ytd',\n",
    "    '30m': '3mo',\n",
    "    '15m': '1mo',\n",
    "    '5m': '5d'\n",
    "}\n",
    "\n",
    "interval_yfinance_to_investpy = {\n",
    "    '1mo': 'monthly',\n",
    "    '1wk': 'weekly',\n",
    "    '1d': 'daily',\n",
    "    '1h': '1hour',\n",
    "    '5h': '5hours',\n",
    "    '30m': '30mins',\n",
    "    '15m': '15mins',\n",
    "    '5m': '5mins'\n",
    "}\n",
    "\n",
    "\n",
    "interval_investing_com={\n",
    "    '1h': '3600',\n",
    "    '5h': '18000',\n",
    "    '30m': '1800',\n",
    "    '15m': '900',\n",
    "    '5m': '300'\n",
    "} \n",
    "    \n",
    "refresh_time = 60\n",
    "\n",
    "rolling_avg=0\n",
    "\n",
    "indicator_list = ['MACD']\n",
    "boundary_list = ['Fib', 'Pivot', 'BB']"
   ]
  },
  {
   "cell_type": "code",
   "execution_count": 14,
   "id": "3b8a01b0",
   "metadata": {
    "ExecuteTime": {
     "end_time": "2021-08-12T16:25:45.226260Z",
     "start_time": "2021-08-12T16:25:45.223658Z"
    }
   },
   "outputs": [],
   "source": [
    "price_columns = ['Open', 'High', 'Low', 'Close', 'Adj Close', 'Volume']\n",
    "volume_indicators = [ 'volume_cmf', 'volume_vwap'] #'volume_adi',\n",
    "momentum_indicators = [\n",
    "    'trend_macd_diff',  'momentum_rsi', 'momentum_stoch_rsi' #'trend_mass_index',\n",
    "]\n",
    "trend_indicators = ['trend_stc']\n",
    "volatility_indicators = [\n",
    "    'volatility_bbh', 'volatility_bbl'#, 'volatility_bbw', 'volatility_bbp'\n",
    "]\n",
    "others_indicators = []# ['others_dr']\n",
    "\n",
    "selected_indicators = price_columns + volume_indicators + momentum_indicators + trend_indicators + volatility_indicators + others_indicators"
   ]
  },
  {
   "cell_type": "markdown",
   "id": "4ff5cfaf",
   "metadata": {},
   "source": [
    "# Analysis"
   ]
  },
  {
   "cell_type": "markdown",
   "id": "ac65fcb3",
   "metadata": {
    "ExecuteTime": {
     "end_time": "2021-08-11T07:58:47.404555Z",
     "start_time": "2021-08-11T07:58:47.404543Z"
    }
   },
   "source": [
    "## Analysis of Monthly, weekly, daily data of indexes"
   ]
  },
  {
   "cell_type": "code",
   "execution_count": 15,
   "id": "35841fb9",
   "metadata": {
    "ExecuteTime": {
     "end_time": "2021-08-12T16:25:48.269710Z",
     "start_time": "2021-08-12T16:25:45.228154Z"
    }
   },
   "outputs": [
    {
     "name": "stdout",
     "output_type": "stream",
     "text": [
      "[*********************100%***********************]  1 of 1 completed\n",
      "[*********************100%***********************]  1 of 1 completed\n",
      "[*********************100%***********************]  1 of 1 completed\n"
     ]
    }
   ],
   "source": [
    "# load Monthly, weekly, daily data of indexes\n",
    "Analysis_data = {}\n",
    "for i in watchlist:\n",
    "    Analysis_data[i] = {}\n",
    "    for j in first_round_interval:\n",
    "        Analysis_data[i][j] = yf.download(ticker_list[i]['yfinance'],\n",
    "                                                  period=Periods[j],\n",
    "                                                  interval=j)\n",
    "        Analysis_data[i][j + '_ta_features'] = add_all_ta_features(\n",
    "            Analysis_data[i][j],\n",
    "            open=\"Open\",\n",
    "            high=\"High\",\n",
    "            low=\"Low\",\n",
    "            close=\"Close\",\n",
    "            volume=\"Volume\",\n",
    "            fillna=True)\n",
    "        Analysis_data[i][j + '_pivot_points'] = investpy.pivot_points(\n",
    "            name=ticker_list[i]['investpy'],\n",
    "            country=ticker_list[i]['country'],\n",
    "            product_type=ticker_list[i]['type'],\n",
    "            interval=interval_yfinance_to_investpy[j])\n",
    "        Analysis_data[i][j + '_final'] = combine_ta_dfs_per_period(\n",
    "            Analysis_data[i][j + '_ta_features'],\n",
    "            Analysis_data[i][j + '_pivot_points'], selected_indicators,price_columns,rolling_avg)"
   ]
  },
  {
   "cell_type": "code",
   "execution_count": 16,
   "id": "1f4398d3",
   "metadata": {
    "ExecuteTime": {
     "end_time": "2021-08-12T16:25:48.279377Z",
     "start_time": "2021-08-12T16:25:48.270898Z"
    },
    "scrolled": false
   },
   "outputs": [],
   "source": [
    "while datetime.now().strftime('%H:%M') < Euro_market_close_time: \n",
    "    for i in watchlist:\n",
    "        for j in second_round_inverval:\n",
    "            Analysis_data[i][j] = investing_com_histroy(\n",
    "                ticker_list[i]['pair_id'], ticker_list[i]['pair_id_for_news'],\n",
    "                interval_investing_com[j], ticker_list[i]['Referer']).rename(\n",
    "                    columns={\n",
    "                        'open': \"Open\",\n",
    "                        'high': \"High\",\n",
    "                        'low': \"Low\",\n",
    "                        'close': \"Close\",\n",
    "                        'volume': \"Volume\"\n",
    "                    }) \n",
    "            Analysis_data[i][j + '_ta_features'] = add_all_ta_features(\n",
    "                Analysis_data[i][j],\n",
    "                open=\"Open\",\n",
    "                high=\"High\",\n",
    "                low=\"Low\",\n",
    "                close=\"Close\",\n",
    "                volume=\"Volume\",\n",
    "                fillna=True)\n",
    "            Analysis_data[i][j + '_pivot_points'] = investpy.pivot_points(\n",
    "                name=ticker_list[i]['investpy'],\n",
    "                country=ticker_list[i]['country'],\n",
    "                product_type=ticker_list[i]['type'],\n",
    "                interval=interval_yfinance_to_investpy[j])\n",
    "            Analysis_data[i][j + '_final'] = combine_ta_dfs_per_period(\n",
    "                Analysis_data[i][j + '_ta_features'],\n",
    "                Analysis_data[i][j + '_pivot_points'], selected_indicators,\n",
    "                price_columns, rolling_avg)\n",
    "        \n",
    "        # Combine per index the dics and present it\n",
    "        result=pd.DataFrame(\n",
    "        [Analysis_data[i]['1mo_final'], Analysis_data[i]['1wk_final'],\n",
    "        Analysis_data[i]['1d_final'], Analysis_data[i]['1h_final'],\n",
    "        Analysis_data[i]['30m_final'], Analysis_data[i]['15m_final']]).T.rename( #,        Analysis_data[i]['5m_final']\n",
    "                    columns={\n",
    "                        0: 'Monthly',\n",
    "                        1: 'Weekly',\n",
    "                        2: 'Daily',\n",
    "                        3: '1 hour',\n",
    "                        4: '30 mins',\n",
    "                        5: '15 mins',\n",
    "                        6: '5 mins'\n",
    "                    }) \n",
    "        print(datetime.now().strftime('%H:%M:%S'))        \n",
    "        display(result.style.format(\"{:.2f}\"))\n",
    "\n",
    "    time.sleep(refresh_time)\n",
    "    clear_output(wait=True)"
   ]
  },
  {
   "cell_type": "markdown",
   "id": "523e0265",
   "metadata": {},
   "source": [
    "End!"
   ]
  }
 ],
 "metadata": {
  "kernelspec": {
   "display_name": "Python 3 (ipykernel)",
   "language": "python",
   "name": "python3"
  },
  "language_info": {
   "codemirror_mode": {
    "name": "ipython",
    "version": 3
   },
   "file_extension": ".py",
   "mimetype": "text/x-python",
   "name": "python",
   "nbconvert_exporter": "python",
   "pygments_lexer": "ipython3",
   "version": "3.9.6"
  },
  "latex_envs": {
   "LaTeX_envs_menu_present": true,
   "autoclose": false,
   "autocomplete": true,
   "bibliofile": "biblio.bib",
   "cite_by": "apalike",
   "current_citInitial": 1,
   "eqLabelWithNumbers": true,
   "eqNumInitial": 1,
   "hotkeys": {
    "equation": "Ctrl-E",
    "itemize": "Ctrl-I"
   },
   "labels_anchors": false,
   "latex_user_defs": false,
   "report_style_numbering": false,
   "user_envs_cfg": false
  },
  "toc": {
   "base_numbering": 1,
   "nav_menu": {},
   "number_sections": true,
   "sideBar": true,
   "skip_h1_title": false,
   "title_cell": "Table of Contents",
   "title_sidebar": "Contents",
   "toc_cell": false,
   "toc_position": {},
   "toc_section_display": true,
   "toc_window_display": false
  },
  "varInspector": {
   "cols": {
    "lenName": 16,
    "lenType": 16,
    "lenVar": 40
   },
   "kernels_config": {
    "python": {
     "delete_cmd_postfix": "",
     "delete_cmd_prefix": "del ",
     "library": "var_list.py",
     "varRefreshCmd": "print(var_dic_list())"
    },
    "r": {
     "delete_cmd_postfix": ") ",
     "delete_cmd_prefix": "rm(",
     "library": "var_list.r",
     "varRefreshCmd": "cat(var_dic_list()) "
    }
   },
   "types_to_exclude": [
    "module",
    "function",
    "builtin_function_or_method",
    "instance",
    "_Feature"
   ],
   "window_display": false
  }
 },
 "nbformat": 4,
 "nbformat_minor": 5
}
