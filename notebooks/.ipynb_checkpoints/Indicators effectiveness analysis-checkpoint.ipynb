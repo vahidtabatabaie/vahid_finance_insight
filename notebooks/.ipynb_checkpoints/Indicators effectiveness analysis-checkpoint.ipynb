{
 "cells": [
  {
   "cell_type": "markdown",
   "id": "44435b1e",
   "metadata": {},
   "source": [
    "# Import packages"
   ]
  },
  {
   "cell_type": "code",
   "execution_count": 1,
   "id": "e1174765",
   "metadata": {
    "ExecuteTime": {
     "end_time": "2021-08-11T19:10:19.303919Z",
     "start_time": "2021-08-11T19:10:18.392486Z"
    }
   },
   "outputs": [
    {
     "name": "stderr",
     "output_type": "stream",
     "text": [
      "/Users/vahid/myenv/lib/python3.9/site-packages/mpl_finance.py:16: DeprecationWarning: \n",
      "\n",
      "  =================================================================\n",
      "\n",
      "   WARNING: `mpl_finance` is deprecated:\n",
      "\n",
      "    Please use `mplfinance` instead (no hyphen, no underscore).\n",
      "\n",
      "    To install: `pip install --upgrade mplfinance` \n",
      "\n",
      "   For more information, see: https://pypi.org/project/mplfinance/\n",
      "\n",
      "  =================================================================\n",
      "\n",
      "  __warnings.warn('\\n\\n  ================================================================='+\n"
     ]
    }
   ],
   "source": [
    "try:\n",
    "    from requests_html import HTMLSession\n",
    "except: \n",
    "    !pip install requests_html\n",
    "    from requests_html import HTMLSession\n",
    "    \n",
    "try:\n",
    "    import pandas as pd\n",
    "    import numpy as np\n",
    "except:\n",
    "    !pip install pandas\n",
    "    import pandas as pd\n",
    "    import numpy as np\n",
    "\n",
    "try:\n",
    "    from Stockie.stockie import stockie\n",
    "except:\n",
    "    !pip install stockie\n",
    "    !pip install seaborn\n",
    "    from Stockie.stockie import stockie\n",
    "\n",
    "try:\n",
    "    import yfinance as yf\n",
    "except:\n",
    "    !pip install yfinance\n",
    "    import yfinance as yf\n",
    "\n",
    "try:\n",
    "    from mplfinance.original_flavor import candlestick_ohlc\n",
    "except:\n",
    "    !pip install mplfinance\n",
    "    from mplfinance.original_flavor import candlestick_ohlc\n",
    "    \n",
    "try:\n",
    "    import plotly.graph_objects as go\n",
    "    import plotly.subplots as ms\n",
    "except:\n",
    "    !pip install plotly\n",
    "    import plotly.graph_objects as go\n",
    "    import plotly.subplots as ms\n",
    "    \n",
    "try:\n",
    "    from datetime import datetime\n",
    "except:\n",
    "    !pip install datetime\n",
    "    from datetime import datetime\n",
    "    \n",
    "try:\n",
    "    from ta import add_all_ta_features\n",
    "    from ta.utils import dropna\n",
    "except:\n",
    "    !pip install ta \n",
    "    from ta import add_all_ta_features\n",
    "    from ta.utils import dropna   \n",
    "    \n",
    "try:\n",
    "    from scipy.signal import savgol_filter as smooth\n",
    "except:\n",
    "    !pip install scipy\n",
    "    from scipy.signal import savgol_filter as smooth\n",
    "\n",
    "try:\n",
    "    import trendln\n",
    "except:\n",
    "    !pip install trendln\n",
    "    import trendln\n",
    "\n",
    "try:\n",
    "    import investpy\n",
    "except:\n",
    "    !pip install investpy\n",
    "    import investpy\n",
    "    \n",
    "try:\n",
    "    import time\n",
    "except:\n",
    "    !pip install time\n",
    "    import time\n",
    "\n",
    "try:\n",
    "    import quandl\n",
    "except:\n",
    "    !pip install quandl\n",
    "    import quandl\n",
    "    \n",
    "try:\n",
    "    import json\n",
    "except:\n",
    "    !pip install json\n",
    "    import json\n",
    "    \n",
    "try:\n",
    "    import requests\n",
    "except:\n",
    "    !pip install requests\n",
    "    import requests\n",
    "\n",
    "try:\n",
    "    from bs4 import BeautifulSoup\n",
    "except:\n",
    "    !pip install bs4\n",
    "    from bs4 import BeautifulSoup\n",
    "    \n",
    "import matplotlib.dates as mpl_dates\n",
    "import matplotlib.pyplot as plt\n",
    "import numpy as np\n",
    "from IPython.display import clear_output\n",
    "\n",
    "\n",
    "import warnings\n",
    "warnings.filterwarnings('ignore')"
   ]
  },
  {
   "cell_type": "markdown",
   "id": "01f8932a",
   "metadata": {},
   "source": [
    "# Define functions"
   ]
  },
  {
   "cell_type": "code",
   "execution_count": 2,
   "id": "286deefe",
   "metadata": {
    "ExecuteTime": {
     "end_time": "2021-08-11T19:10:19.311263Z",
     "start_time": "2021-08-11T19:10:19.305303Z"
    },
    "hide_input": true
   },
   "outputs": [],
   "source": [
    "# Get market info from INGSPRINTER\n",
    "def market_info(market):\n",
    "    market = market.replace('(', '')\n",
    "    market = market.replace(')', '')\n",
    "    market = market.replace(' ', '-')\n",
    "\n",
    "    url = 'https://www.ingsprinters.nl/sprinters/' + market\n",
    "\n",
    "    r = HTMLSession().get(url)\n",
    "\n",
    "    value = r.html.find('span', clean=True)\n",
    "    \n",
    "    return float(value[4].text.strip().replace('.', '').replace(',', '.'))\n",
    "\n",
    "def sprinter_list(market):\n",
    "    \n",
    "    url = 'https://www.ingsprinters.nl/zoeken?q=' + market\n",
    "\n",
    "    r = HTMLSession().get(url)\n",
    "\n",
    "    payload = {}\n",
    "    data = r.html.find('a.fill-cell', clean=True)\n",
    "\n",
    "\n",
    "    for item in data:\n",
    "        if 'long'.capitalize() in item.text:\n",
    "            payload[item.text] = re.sub(r'.*/NL', 'NL', item.attrs[\"href\"])\n",
    "        if 'short'.capitalize() in item.text:\n",
    "            payload[item.text] = re.sub(r'.*/NL', 'NL', item.attrs[\"href\"])\n",
    "\n",
    "    return payload"
   ]
  },
  {
   "cell_type": "code",
   "execution_count": 3,
   "id": "2cbf1818",
   "metadata": {
    "ExecuteTime": {
     "end_time": "2021-08-11T19:10:19.318374Z",
     "start_time": "2021-08-11T19:10:19.312703Z"
    }
   },
   "outputs": [],
   "source": [
    "def investing_com_histroy(pair_id, pair_id_for_news, pair_interval, Referer):\n",
    "    url = 'https://www.investing.com/common/modules/js_instrument_chart/api/data.php?pair_id=' +\\\n",
    "    pair_id + '&pair_id_for_news=' + pair_id_for_news + '&chart_type=candlestick&pair_interval=' +\\\n",
    "    pair_interval + '&candle_count=120&events=yes&volume_series=yes&period='\n",
    "    \n",
    "    headers = {\n",
    "        'User-Agent':\n",
    "        'Mozilla/5.0 (X11; Ubuntu; Linux x86_64; rv:81.0) Gecko/20100101 Firefox/81.0',\n",
    "        'X-Requested-With': 'XMLHttpRequest',\n",
    "        'Referer': Referer\n",
    "    }\n",
    "    data = requests.get(url, headers=headers).json()\n",
    "\n",
    "    df = pd.DataFrame(data['candles'],\n",
    "                      columns=[\n",
    "                          'date_time', 'open', 'high', 'low', 'close',\n",
    "                          'volume', 'zero'\n",
    "                      ])\n",
    "    df['date_time'] = df.apply(\n",
    "        lambda x: datetime.fromtimestamp(x['date_time'] // 1000), axis=1)\n",
    "    return df\n",
    "\n"
   ]
  },
  {
   "cell_type": "markdown",
   "id": "cee58fc7",
   "metadata": {},
   "source": [
    "# Settings:"
   ]
  },
  {
   "cell_type": "code",
   "execution_count": 4,
   "id": "7ba4354b",
   "metadata": {
    "ExecuteTime": {
     "end_time": "2021-08-11T19:10:19.328393Z",
     "start_time": "2021-08-11T19:10:19.322851Z"
    }
   },
   "outputs": [],
   "source": [
    "# Index List\n",
    "watchlist = ['DAX']  #,'Dow Jones', 'S&P 500', 'AEX', 'CAC40', 'NASDAQ'\n",
    "# Indexes tickeres per library\n",
    "ticker_list = {\n",
    "    'DAX': {\n",
    "        'yfinance': '^GDAXI',\n",
    "        'ingsprinter': 'DAX',\n",
    "        'investpy': 'dax',\n",
    "        'country': 'germany',\n",
    "        'type': 'index',\n",
    "        'pair_id': '172',\n",
    "        'pair_id_for_news': '172',\n",
    "        'Referer': 'https://www.investing.com/indices/germany-30'\n",
    "        \n",
    "    },\n",
    "    'NASDAQ': {\n",
    "        'yfinance': '^IXIC',\n",
    "        'ingsprinter': 'NASDAQ-100',\n",
    "        'investpy': 'nasdaq',\n",
    "        'country': 'united states',\n",
    "        'type': 'index',\n",
    "        'pair_id': '20',\n",
    "        'pair_id_for_news': '20',\n",
    "        'Referer': 'https://www.investing.com/indices/nq-100'\n",
    "    }\n",
    "}\n",
    "\n",
    "first_round_interval = ['1mo', '1wk', '1d']\n",
    "second_round_inverval = ['1h', '30m', '15m', '5m']\n",
    "\n",
    "Periods = {\n",
    "    '3mo': '5y',\n",
    "    '1mo': '5y',\n",
    "    '1wk': '2y',\n",
    "    '1d': '1y',\n",
    "    '1h': 'ytd',\n",
    "    '30m': '3mo',\n",
    "    '15m': '1mo',\n",
    "    '5m': '5d'\n",
    "}\n",
    "\n",
    "interval_yfinance_to_investpy = {\n",
    "    '1mo': 'monthly',\n",
    "    '1wk': 'weekly',\n",
    "    '1d': 'daily',\n",
    "    '1h': '1hour',\n",
    "    '5h': '5hours',\n",
    "    '30m': '30mins',\n",
    "    '15m': '15mins',\n",
    "    '5m': '5mins'\n",
    "}\n",
    "\n",
    "\n",
    "interval_investing_com={\n",
    "    '1h': '3600',\n",
    "    '5h': '18000',\n",
    "    '30m': '1800',\n",
    "    '15m': '900',\n",
    "    '5m': '300'\n",
    "} "
   ]
  },
  {
   "cell_type": "markdown",
   "id": "4ff5cfaf",
   "metadata": {},
   "source": [
    "# Analysis"
   ]
  },
  {
   "cell_type": "markdown",
   "id": "ac65fcb3",
   "metadata": {
    "ExecuteTime": {
     "end_time": "2021-08-11T07:58:47.404555Z",
     "start_time": "2021-08-11T07:58:47.404543Z"
    }
   },
   "source": [
    "## Analysis of Monthly, weekly, daily data of indexes"
   ]
  },
  {
   "cell_type": "code",
   "execution_count": 6,
   "id": "35841fb9",
   "metadata": {
    "ExecuteTime": {
     "end_time": "2021-08-11T19:10:20.734770Z",
     "start_time": "2021-08-11T19:10:19.333729Z"
    }
   },
   "outputs": [
    {
     "name": "stdout",
     "output_type": "stream",
     "text": [
      "[*********************100%***********************]  1 of 1 completed\n",
      "[*********************100%***********************]  1 of 1 completed\n",
      "[*********************100%***********************]  1 of 1 completed\n"
     ]
    }
   ],
   "source": [
    "# load Monthly, weekly, daily data of indexes\n",
    "Analysis_data = {}\n",
    "for i in watchlist:\n",
    "    Analysis_data[i] = {}\n",
    "    for j in first_round_interval:\n",
    "        Analysis_data[i][j] = yf.download(ticker_list[i]['yfinance'],\n",
    "                                                  period=Periods[j],\n",
    "                                                  interval=j)\n",
    "        Analysis_data[i][j + '_ta_features'] = add_all_ta_features(\n",
    "            Analysis_data[i][j],\n",
    "            open=\"Open\",\n",
    "            high=\"High\",\n",
    "            low=\"Low\",\n",
    "            close=\"Close\",\n",
    "            volume=\"Volume\",\n",
    "            fillna=True)\n",
    "        Analysis_data[i][j + '_pivot_points'] = investpy.pivot_points(\n",
    "            name=ticker_list[i]['investpy'],\n",
    "            country=ticker_list[i]['country'],\n",
    "            product_type=ticker_list[i]['type'],\n",
    "            interval=interval_yfinance_to_investpy[j])"
   ]
  },
  {
   "cell_type": "code",
   "execution_count": 7,
   "id": "1f4398d3",
   "metadata": {
    "ExecuteTime": {
     "end_time": "2021-08-11T19:10:22.610089Z",
     "start_time": "2021-08-11T19:10:20.736174Z"
    },
    "scrolled": false
   },
   "outputs": [],
   "source": [
    "for i in watchlist:\n",
    "    for j in second_round_inverval:\n",
    "        Analysis_data[i][j] = investing_com_histroy(\n",
    "            ticker_list[i]['pair_id'], ticker_list[i]['pair_id_for_news'],\n",
    "            interval_investing_com[j], ticker_list[i]['Referer']).rename(\n",
    "                columns={\n",
    "                    'open': \"Open\",\n",
    "                    'high': \"High\",\n",
    "                    'low': \"Low\",\n",
    "                    'close': \"Close\",\n",
    "                    'volume': \"Volume\"\n",
    "                }) \n",
    "        Analysis_data[i][j + '_ta_features'] = add_all_ta_features(\n",
    "            Analysis_data[i][j],\n",
    "            open=\"Open\",\n",
    "            high=\"High\",\n",
    "            low=\"Low\",\n",
    "            close=\"Close\",\n",
    "            volume=\"Volume\",\n",
    "            fillna=True)\n",
    "        Analysis_data[i][j + '_pivot_points'] = investpy.pivot_points(\n",
    "            name=ticker_list[i]['investpy'],\n",
    "            country=ticker_list[i]['country'],\n",
    "            product_type=ticker_list[i]['type'],\n",
    "            interval=interval_yfinance_to_investpy[j])"
   ]
  },
  {
   "cell_type": "markdown",
   "id": "43fdb44a",
   "metadata": {},
   "source": [
    "# Effectiveness of indicators - backtesting"
   ]
  },
  {
   "cell_type": "code",
   "execution_count": 8,
   "id": "296b0a6c",
   "metadata": {
    "ExecuteTime": {
     "end_time": "2021-08-11T19:10:22.613344Z",
     "start_time": "2021-08-11T19:10:22.611292Z"
    }
   },
   "outputs": [],
   "source": [
    "#Check effectiveness of ta indicators \n",
    "# 1. corr with shift (1), shift (2), roling_avg(5) \n",
    "# 2. regression (auto selection) / timeseries / ML\n",
    "# 3. youtube approach"
   ]
  },
  {
   "cell_type": "code",
   "execution_count": 9,
   "id": "b6903a29",
   "metadata": {
    "ExecuteTime": {
     "end_time": "2021-08-11T19:10:22.618800Z",
     "start_time": "2021-08-11T19:10:22.614409Z"
    }
   },
   "outputs": [
    {
     "data": {
      "text/plain": [
       "dict_keys(['1mo', '1mo_ta_features', '1mo_pivot_points', '1wk', '1wk_ta_features', '1wk_pivot_points', '1d', '1d_ta_features', '1d_pivot_points', '1h', '1h_ta_features', '1h_pivot_points', '30m', '30m_ta_features', '30m_pivot_points', '15m', '15m_ta_features', '15m_pivot_points', '5m', '5m_ta_features', '5m_pivot_points'])"
      ]
     },
     "execution_count": 9,
     "metadata": {},
     "output_type": "execute_result"
    }
   ],
   "source": [
    "Analysis_data['DAX'].keys()"
   ]
  },
  {
   "cell_type": "code",
   "execution_count": null,
   "id": "7dabe990",
   "metadata": {},
   "outputs": [],
   "source": []
  }
 ],
 "metadata": {
  "kernelspec": {
   "display_name": "Python 3 (ipykernel)",
   "language": "python",
   "name": "python3"
  },
  "language_info": {
   "codemirror_mode": {
    "name": "ipython",
    "version": 3
   },
   "file_extension": ".py",
   "mimetype": "text/x-python",
   "name": "python",
   "nbconvert_exporter": "python",
   "pygments_lexer": "ipython3",
   "version": "3.9.6"
  },
  "latex_envs": {
   "LaTeX_envs_menu_present": true,
   "autoclose": false,
   "autocomplete": true,
   "bibliofile": "biblio.bib",
   "cite_by": "apalike",
   "current_citInitial": 1,
   "eqLabelWithNumbers": true,
   "eqNumInitial": 1,
   "hotkeys": {
    "equation": "Ctrl-E",
    "itemize": "Ctrl-I"
   },
   "labels_anchors": false,
   "latex_user_defs": false,
   "report_style_numbering": false,
   "user_envs_cfg": false
  },
  "toc": {
   "base_numbering": 1,
   "nav_menu": {},
   "number_sections": true,
   "sideBar": true,
   "skip_h1_title": false,
   "title_cell": "Table of Contents",
   "title_sidebar": "Contents",
   "toc_cell": false,
   "toc_position": {},
   "toc_section_display": true,
   "toc_window_display": false
  },
  "varInspector": {
   "cols": {
    "lenName": 16,
    "lenType": 16,
    "lenVar": 40
   },
   "kernels_config": {
    "python": {
     "delete_cmd_postfix": "",
     "delete_cmd_prefix": "del ",
     "library": "var_list.py",
     "varRefreshCmd": "print(var_dic_list())"
    },
    "r": {
     "delete_cmd_postfix": ") ",
     "delete_cmd_prefix": "rm(",
     "library": "var_list.r",
     "varRefreshCmd": "cat(var_dic_list()) "
    }
   },
   "types_to_exclude": [
    "module",
    "function",
    "builtin_function_or_method",
    "instance",
    "_Feature"
   ],
   "window_display": false
  }
 },
 "nbformat": 4,
 "nbformat_minor": 5
}
